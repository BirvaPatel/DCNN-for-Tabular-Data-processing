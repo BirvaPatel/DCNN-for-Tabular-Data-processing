{
 "cells": [
  {
   "cell_type": "code",
   "execution_count": 1,
   "metadata": {},
   "outputs": [],
   "source": [
    "################ Letter-Recognition #################\n",
    "# Disable info messages from the tesnorflow\n",
    "import os\n",
    "os.environ['TF_CPP_MIN_LOG_LEVEL'] = '3' \n",
    "################## Import the libraries #####################\n",
    "import numpy as np\n",
    "import pandas as pd\n",
    "import keras\n",
    "from keras.models import Model, Sequential\n",
    "from keras.utils import to_categorical\n",
    "from keras.layers import Input, Dense, Dropout, Flatten, Conv2D,MaxPooling2D\n",
    "from sklearn.model_selection import train_test_split\n",
    "from sklearn.preprocessing import LabelEncoder,StandardScaler,MinMaxScaler,scale\n",
    "from sklearn.metrics import accuracy_score"
   ]
  },
  {
   "cell_type": "code",
   "execution_count": 3,
   "metadata": {},
   "outputs": [
    {
     "name": "stdout",
     "output_type": "stream",
     "text": [
      "(84420, 310) (58128, 310)\n",
      "(142548, 310) (142548, 3)\n"
     ]
    }
   ],
   "source": [
    "import pickle\n",
    "#Load train data\n",
    "with open('train', 'rb') as fo:         #Open file\n",
    "    d = pickle.load(fo, encoding='bytes')       #Load pickle data\n",
    "    train_data = d['data']                      #Load train data\n",
    "    train_label = d['label']                    #Load train label\n",
    " \n",
    " \n",
    "with open('test', 'rb') as fo:          #Open file\n",
    "    d = pickle.load(fo, encoding='bytes')       #Load pickle data\n",
    "    test_data = d['data']                       #Load test data\n",
    "    test_label = d['label']                     #Load test data\n",
    "print(train_data.shape,test_data.shape) # (84420,310) # (58128,310)\n",
    "#Merge train and test data in order to scale them\n",
    "X = np.concatenate([train_data,test_data])\n",
    "# scaling the inputs from 0 to 1\n",
    "X = MinMaxScaler().fit_transform(X)\n",
    "Y = np.concatenate([train_label,test_label])\n",
    "classes = len(np.unique(Y))\n",
    "Y = LabelEncoder().fit_transform(Y)\n",
    "Y = to_categorical(Y,classes)\n",
    "print(X.shape,Y.shape) #(142548,310)\n",
    "# split into train and test data\n",
    "X_train = X[:84420]\n",
    "X_test =  X[84420:]\n",
    "Y_train = Y[:84420]\n",
    "Y_test = Y[84420:]"
   ]
  },
  {
   "cell_type": "code",
   "execution_count": null,
   "metadata": {},
   "outputs": [],
   "source": [
    "######## ELM classifier ##########\n",
    "from sklearn_extensions.extreme_learning_machines.elm import GenELMClassifier\n",
    "from sklearn_extensions.extreme_learning_machines.random_layer import RBFRandomLayer, MLPRandomLayer\n",
    "model = GenELMClassifier(hidden_layer=MLPRandomLayer(n_hidden=2000, activation_func='tanh')) \n",
    "model.fit(X_train,Y_train)\n",
    "score = model.score(X_test,Y_test)\n",
    "print(\"ELM score:\",score*100)"
   ]
  },
  {
   "cell_type": "code",
   "execution_count": null,
   "metadata": {},
   "outputs": [],
   "source": []
  }
 ],
 "metadata": {
  "kernelspec": {
   "display_name": "Python 3",
   "language": "python",
   "name": "python3"
  },
  "language_info": {
   "codemirror_mode": {
    "name": "ipython",
    "version": 3
   },
   "file_extension": ".py",
   "mimetype": "text/x-python",
   "name": "python",
   "nbconvert_exporter": "python",
   "pygments_lexer": "ipython3",
   "version": "3.8.5"
  }
 },
 "nbformat": 4,
 "nbformat_minor": 4
}

{
 "cells": [
  {
   "cell_type": "code",
   "execution_count": 10,
   "metadata": {},
   "outputs": [],
   "source": [
    "# Disable info messages from the tensorflow\n",
    "import os\n",
    "os.environ['TF_CPP_MIN_LOG_LEVEL'] = '3' \n",
    "################## Import the libraries #####################\n",
    "import numpy as np\n",
    "import pandas as pd\n",
    "import keras\n",
    "from keras.models import Model, Sequential\n",
    "from keras.utils import to_categorical\n",
    "from keras.layers import Input, Dense, Dropout, Flatten, Conv2D,MaxPooling2D\n",
    "from sklearn.model_selection import train_test_split\n",
    "from sklearn.preprocessing import LabelEncoder,StandardScaler,MinMaxScaler,scale\n",
    "from sklearn.metrics import accuracy_score\n",
    "from scipy.ndimage import zoom\n",
    "import pickle"
   ]
  },
  {
   "cell_type": "code",
   "execution_count": 11,
   "metadata": {},
   "outputs": [
    {
     "name": "stdout",
     "output_type": "stream",
     "text": [
      "(142548, 310) (142548, 3)\n"
     ]
    }
   ],
   "source": [
    "\n",
    "#Load train data\n",
    "with open('train', 'rb') as fo:         #Open file\n",
    "    d = pickle.load(fo, encoding='bytes')       #Load pickle data\n",
    "    train_data = d['data']                      #Load train data\n",
    "    train_label = d['label']                    #Load train label\n",
    " \n",
    " \n",
    "with open('test', 'rb') as fo:          #Open file\n",
    "    d = pickle.load(fo, encoding='bytes')       #Load pickle data\n",
    "    test_data = d['data']                       #Load test data\n",
    "    test_label = d['label']                     #Load test data\n",
    "#print(train_data.shape,test_data.shape) # (84420,310) # (58128,310)\n",
    "#Merge train and test data in order to scale them\n",
    "X = np.concatenate([train_data,test_data])\n",
    "# scaling the inputs from 0 to 1\n",
    "X = scale(X)\n",
    "Y = np.concatenate([train_label,test_label])\n",
    "classes = len(np.unique(Y))\n",
    "Y = LabelEncoder().fit_transform(Y)\n",
    "Y = to_categorical(Y,classes)\n",
    "print(X.shape,Y.shape) #(142548,310)"
   ]
  },
  {
   "cell_type": "code",
   "execution_count": 12,
   "metadata": {},
   "outputs": [],
   "source": [
    "# split into train and test data\n",
    "X_train = X[:84420]\n",
    "X_test =  X[84420:]\n",
    "Y_train = Y[:84420]\n",
    "Y_test = Y[84420:]"
   ]
  },
  {
   "cell_type": "code",
   "execution_count": 13,
   "metadata": {},
   "outputs": [],
   "source": [
    "y_train = np.argmax(Y_train,axis=-1)\n",
    "from tab2img.converter import Tab2Img\n",
    "model = Tab2Img()\n",
    "X_train = model.fit_transform(X_train, y_train)\n",
    "X_test = model.transform(X_test)"
   ]
  },
  {
   "cell_type": "code",
   "execution_count": 14,
   "metadata": {},
   "outputs": [
    {
     "name": "stdout",
     "output_type": "stream",
     "text": [
      "(84420, 32, 32, 3) (58128, 32, 32, 3)\n"
     ]
    }
   ],
   "source": [
    "from PIL import Image\n",
    "x_train = []\n",
    "x_test = []\n",
    "for i in range(len(X_train)):\n",
    "    img = Image.fromarray(X_train[i])\n",
    "    imgs = img.resize(size=(32, 32))\n",
    "    imgs = np.array(imgs)\n",
    "    x_train.append(np.repeat(imgs[:, :, np.newaxis], 3, axis=2))\n",
    "x_train = np.array(x_train,dtype='float32')\n",
    "\n",
    "for i in range(len(X_test)):\n",
    "    img = Image.fromarray(X_test[i])\n",
    "    imgs = img.resize(size=(32, 32))\n",
    "    imgs = np.array(imgs)\n",
    "    x_test.append(np.repeat(imgs[:, :, np.newaxis], 3, axis=2))\n",
    "x_test = np.array(x_test,dtype='float32')\n",
    "\n",
    "print(x_train.shape,x_test.shape)"
   ]
  },
  {
   "cell_type": "code",
   "execution_count": 15,
   "metadata": {},
   "outputs": [
    {
     "name": "stdout",
     "output_type": "stream",
     "text": [
      "Epoch 1/20\n",
      "330/330 [==============================] - 33s 99ms/step - loss: 0.2310 - accuracy: 0.9065 - val_loss: 2.4120 - val_accuracy: 0.6154\n",
      "Epoch 2/20\n",
      "330/330 [==============================] - 26s 78ms/step - loss: 0.0232 - accuracy: 0.9931 - val_loss: 1.4349 - val_accuracy: 0.7247\n",
      "Epoch 3/20\n",
      "330/330 [==============================] - 26s 78ms/step - loss: 0.0089 - accuracy: 0.9976 - val_loss: 2.0177 - val_accuracy: 0.7079\n",
      "Epoch 4/20\n",
      "330/330 [==============================] - 26s 78ms/step - loss: 0.0165 - accuracy: 0.9955 - val_loss: 1.7762 - val_accuracy: 0.7308\n",
      "Epoch 5/20\n",
      "330/330 [==============================] - 26s 78ms/step - loss: 0.0114 - accuracy: 0.9970 - val_loss: 1.6538 - val_accuracy: 0.7249\n",
      "Epoch 6/20\n",
      "330/330 [==============================] - 26s 78ms/step - loss: 0.0084 - accuracy: 0.9977 - val_loss: 1.8737 - val_accuracy: 0.7182\n",
      "Epoch 7/20\n",
      "330/330 [==============================] - 26s 79ms/step - loss: 4.9880e-04 - accuracy: 0.9999 - val_loss: 1.9591 - val_accuracy: 0.7511\n",
      "Epoch 8/20\n",
      "330/330 [==============================] - 26s 79ms/step - loss: 1.0566e-05 - accuracy: 1.0000 - val_loss: 2.0574 - val_accuracy: 0.7519\n",
      "Epoch 9/20\n",
      "330/330 [==============================] - 26s 79ms/step - loss: 6.9600e-06 - accuracy: 1.0000 - val_loss: 2.1384 - val_accuracy: 0.7523\n",
      "Epoch 10/20\n",
      "330/330 [==============================] - 26s 79ms/step - loss: 4.0615e-06 - accuracy: 1.0000 - val_loss: 2.2178 - val_accuracy: 0.7523\n",
      "Epoch 11/20\n",
      "330/330 [==============================] - 26s 79ms/step - loss: 2.8525e-06 - accuracy: 1.0000 - val_loss: 2.2745 - val_accuracy: 0.7524\n",
      "Epoch 12/20\n",
      "330/330 [==============================] - 27s 80ms/step - loss: 1.9916e-06 - accuracy: 1.0000 - val_loss: 2.3234 - val_accuracy: 0.7525\n",
      "Epoch 13/20\n",
      "330/330 [==============================] - 28s 86ms/step - loss: 1.5166e-06 - accuracy: 1.0000 - val_loss: 2.3715 - val_accuracy: 0.7525\n",
      "Epoch 14/20\n",
      "330/330 [==============================] - 26s 80ms/step - loss: 1.2378e-06 - accuracy: 1.0000 - val_loss: 2.4225 - val_accuracy: 0.7526\n",
      "Epoch 15/20\n",
      "330/330 [==============================] - 26s 80ms/step - loss: 9.5570e-07 - accuracy: 1.0000 - val_loss: 2.4607 - val_accuracy: 0.7526\n",
      "Epoch 16/20\n",
      "330/330 [==============================] - 26s 80ms/step - loss: 6.9811e-07 - accuracy: 1.0000 - val_loss: 2.4987 - val_accuracy: 0.7529\n",
      "Epoch 17/20\n",
      "330/330 [==============================] - 26s 80ms/step - loss: 5.9659e-07 - accuracy: 1.0000 - val_loss: 2.5445 - val_accuracy: 0.7529\n",
      "Epoch 18/20\n",
      "330/330 [==============================] - 27s 83ms/step - loss: 1.1055e-06 - accuracy: 1.0000 - val_loss: 2.5868 - val_accuracy: 0.7520\n",
      "Epoch 19/20\n",
      "330/330 [==============================] - 27s 83ms/step - loss: 3.8615e-07 - accuracy: 1.0000 - val_loss: 2.6224 - val_accuracy: 0.7530\n",
      "Epoch 20/20\n",
      "330/330 [==============================] - 28s 86ms/step - loss: 3.6721e-07 - accuracy: 1.0000 - val_loss: 2.6689 - val_accuracy: 0.7526\n"
     ]
    },
    {
     "data": {
      "text/plain": [
       "<tensorflow.python.keras.callbacks.History at 0x21b48ae2bb0>"
      ]
     },
     "execution_count": 15,
     "metadata": {},
     "output_type": "execute_result"
    }
   ],
   "source": [
    "############### Feature-extraction ###############\n",
    "# pretrained model for FE\n",
    "pretrained_model = keras.applications.DenseNet121(input_shape=(32,32,3), weights=None, include_top=False)\n",
    "x = Flatten()(pretrained_model.output)\n",
    "x = Dense(512, activation='relu',name='flattenn')(x)\n",
    "x = Dropout(0.5)(x)\n",
    "prediction = Dense(classes, activation='softmax')(x)\n",
    "model = Model(inputs=pretrained_model.input, outputs=prediction)\n",
    "# tell the model what cost and optimization method to use\n",
    "model.compile(\n",
    "  loss='categorical_crossentropy',\n",
    "  optimizer='adam',\n",
    "  metrics=['accuracy']\n",
    ")\n",
    "# fit training data and validate on the testing data\n",
    "model.fit(x_train,Y_train,batch_size=256, epochs=20,verbose=1,validation_data=(x_test,Y_test))"
   ]
  },
  {
   "cell_type": "code",
   "execution_count": 16,
   "metadata": {},
   "outputs": [
    {
     "name": "stdout",
     "output_type": "stream",
     "text": [
      "1817/1817 [==============================] - 22s 12ms/step - loss: 2.6689 - accuracy: 0.7526\n",
      "2639/2639 [==============================] - 33s 13ms/step - loss: 3.7717e-09 - accuracy: 1.0000\n",
      "training accuracy:  1.0\n",
      "testing accuracy:  0.7525976896286011\n"
     ]
    }
   ],
   "source": [
    "score = model.evaluate(x_test,Y_test)\n",
    "acc = model.evaluate(x_train,Y_train)\n",
    "print('training accuracy: ',acc[1])\n",
    "print('testing accuracy: ',score[1])"
   ]
  },
  {
   "cell_type": "code",
   "execution_count": null,
   "metadata": {},
   "outputs": [],
   "source": []
  },
  {
   "cell_type": "code",
   "execution_count": null,
   "metadata": {},
   "outputs": [],
   "source": []
  }
 ],
 "metadata": {
  "kernelspec": {
   "display_name": "Python 3",
   "language": "python",
   "name": "python3"
  },
  "language_info": {
   "codemirror_mode": {
    "name": "ipython",
    "version": 3
   },
   "file_extension": ".py",
   "mimetype": "text/x-python",
   "name": "python",
   "nbconvert_exporter": "python",
   "pygments_lexer": "ipython3",
   "version": "3.8.5"
  }
 },
 "nbformat": 4,
 "nbformat_minor": 4
}

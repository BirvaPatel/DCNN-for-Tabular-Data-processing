{
 "cells": [
  {
   "cell_type": "code",
   "execution_count": 7,
   "metadata": {},
   "outputs": [],
   "source": [
    "# Disable info messages from the tensorflow\n",
    "import os\n",
    "os.environ['TF_CPP_MIN_LOG_LEVEL'] = '3' \n",
    "################## Import the libraries #####################\n",
    "import numpy as np\n",
    "import pandas as pd\n",
    "import keras\n",
    "from keras.models import Model, Sequential\n",
    "from keras.utils import to_categorical\n",
    "from keras.layers import Input, Dense, Dropout, Flatten, Conv2D,MaxPooling2D\n",
    "from sklearn.model_selection import train_test_split\n",
    "from sklearn.preprocessing import LabelEncoder,StandardScaler,MinMaxScaler,scale\n",
    "from sklearn.metrics import accuracy_score\n",
    "from scipy.ndimage import zoom\n",
    "import pickle"
   ]
  },
  {
   "cell_type": "code",
   "execution_count": 8,
   "metadata": {},
   "outputs": [
    {
     "name": "stdout",
     "output_type": "stream",
     "text": [
      "(142548, 310) (142548, 3)\n"
     ]
    }
   ],
   "source": [
    "\n",
    "#Load train data\n",
    "with open('train', 'rb') as fo:         #Open file\n",
    "    d = pickle.load(fo, encoding='bytes')       #Load pickle data\n",
    "    train_data = d['data']                      #Load train data\n",
    "    train_label = d['label']                    #Load train label\n",
    " \n",
    " \n",
    "with open('test', 'rb') as fo:          #Open file\n",
    "    d = pickle.load(fo, encoding='bytes')       #Load pickle data\n",
    "    test_data = d['data']                       #Load test data\n",
    "    test_label = d['label']                     #Load test data\n",
    "#print(train_data.shape,test_data.shape) # (84420,310) # (58128,310)\n",
    "#Merge train and test data in order to scale them\n",
    "X = np.concatenate([train_data,test_data])\n",
    "# scaling the inputs from 0 to 1\n",
    "X = scale(X)\n",
    "Y = np.concatenate([train_label,test_label])\n",
    "classes = len(np.unique(Y))\n",
    "Y = LabelEncoder().fit_transform(Y)\n",
    "Y = to_categorical(Y,classes)\n",
    "print(X.shape,Y.shape) #(142548,310)"
   ]
  },
  {
   "cell_type": "code",
   "execution_count": 9,
   "metadata": {},
   "outputs": [],
   "source": [
    "# split into train and test data\n",
    "X_train = X[:84420]\n",
    "X_test =  X[84420:]\n",
    "Y_train = Y[:84420]\n",
    "Y_test = Y[84420:]"
   ]
  },
  {
   "cell_type": "code",
   "execution_count": 10,
   "metadata": {},
   "outputs": [
    {
     "name": "stdout",
     "output_type": "stream",
     "text": [
      "165/165 [==============================] - 0s 2ms/step - loss: 0.3024\n",
      "165/165 [==============================] - 0s 2ms/step - loss: 0.1022\n",
      "165/165 [==============================] - 0s 2ms/step - loss: 0.0483\n",
      "(84420, 1024) (58128, 1024)\n"
     ]
    }
   ],
   "source": [
    "n = X_train.shape[1]\n",
    "dim = X_train.shape[1]\n",
    "final_dim = min(32*32,n*n)\n",
    "# convert 2-D to 3-D.\n",
    "while dim<final_dim:\n",
    "  features = int(dim/2)\n",
    "  #f = feature-60\n",
    "  model = Sequential()\n",
    "  if (dim+features)>final_dim:\n",
    "    features = final_dim - dim\n",
    "    model.add(Dense(features,name='feature', activation='relu',input_shape=(dim,)))\n",
    "  else:\n",
    "    model.add(Dense(features,name='feature', activation='relu',input_shape=(dim,)))\n",
    "  model.add(Dense(classes,activation='softmax'))\n",
    "  model.compile(loss='categorical_crossentropy',optimizer='adam')\n",
    "  model.fit(X_train,Y_train,epochs=1,batch_size=512,verbose=1)\n",
    "  extract = Model(model.inputs, model.get_layer('feature').output)\n",
    "  features1 = extract.predict(X_train)\n",
    "  features2 = extract.predict(X_test)\n",
    "  X_train = np.concatenate((X_train, features1), axis=1) # concatenate on horizontal axis\n",
    "  X_test = np.concatenate((X_test, features2), axis=1)\n",
    "  dim = X_train.shape[1]\n",
    "print(X_train.shape,X_test.shape)\n",
    "s = MinMaxScaler()\n",
    "X_train = s.fit_transform(X_train)\n",
    "X_test = s.transform(X_test)"
   ]
  },
  {
   "cell_type": "code",
   "execution_count": 11,
   "metadata": {},
   "outputs": [
    {
     "name": "stdout",
     "output_type": "stream",
     "text": [
      "(84420, 32, 32, 3) (58128, 32, 32, 3)\n"
     ]
    }
   ],
   "source": [
    "from PIL import Image\n",
    "x_train = []\n",
    "x_test = []\n",
    "for i in range(len(X_train)):\n",
    "    img = Image.fromarray(X_train[i])\n",
    "    imgs = img.resize(size=(32, 32))\n",
    "    imgs = np.array(imgs)\n",
    "    x_train.append(np.repeat(imgs[:, :, np.newaxis], 3, axis=2))\n",
    "x_train = np.array(x_train,dtype='float32')\n",
    "for i in range(len(X_test)):\n",
    "    img = Image.fromarray(X_test[i])\n",
    "    imgs = img.resize(size=(32, 32))\n",
    "    imgs = np.array(imgs)\n",
    "    x_test.append(np.repeat(imgs[:, :, np.newaxis], 3, axis=2))\n",
    "x_test = np.array(x_test,dtype='float32')\n",
    "print(x_train.shape,x_test.shape)"
   ]
  },
  {
   "cell_type": "code",
   "execution_count": 12,
   "metadata": {},
   "outputs": [
    {
     "name": "stdout",
     "output_type": "stream",
     "text": [
      "Epoch 1/10\n",
      "330/330 [==============================] - 32s 96ms/step - loss: 0.0911 - accuracy: 0.9664 - val_loss: 6.3986 - val_accuracy: 0.3432\n",
      "Epoch 2/10\n",
      "330/330 [==============================] - 25s 77ms/step - loss: 0.0147 - accuracy: 0.9955 - val_loss: 2.0017 - val_accuracy: 0.6700\n",
      "Epoch 3/10\n",
      "330/330 [==============================] - 25s 77ms/step - loss: 0.0077 - accuracy: 0.9977 - val_loss: 2.2267 - val_accuracy: 0.7487\n",
      "Epoch 4/10\n",
      "330/330 [==============================] - 26s 77ms/step - loss: 0.0085 - accuracy: 0.9974 - val_loss: 1.9531 - val_accuracy: 0.7424\n",
      "Epoch 5/10\n",
      "330/330 [==============================] - 26s 78ms/step - loss: 0.0075 - accuracy: 0.9978 - val_loss: 2.4423 - val_accuracy: 0.7545\n",
      "Epoch 6/10\n",
      "330/330 [==============================] - 26s 78ms/step - loss: 4.6234e-04 - accuracy: 0.9999 - val_loss: 2.7921 - val_accuracy: 0.7571\n",
      "Epoch 7/10\n",
      "330/330 [==============================] - 26s 78ms/step - loss: 1.1761e-05 - accuracy: 1.0000 - val_loss: 2.8915 - val_accuracy: 0.7578\n",
      "Epoch 8/10\n",
      "330/330 [==============================] - 26s 78ms/step - loss: 5.7222e-06 - accuracy: 1.0000 - val_loss: 2.9957 - val_accuracy: 0.7580\n",
      "Epoch 9/10\n",
      "330/330 [==============================] - 27s 83ms/step - loss: 3.9788e-06 - accuracy: 1.0000 - val_loss: 3.0583 - val_accuracy: 0.7580\n",
      "Epoch 10/10\n",
      "330/330 [==============================] - 26s 80ms/step - loss: 2.5941e-06 - accuracy: 1.0000 - val_loss: 3.1302 - val_accuracy: 0.7581\n"
     ]
    },
    {
     "data": {
      "text/plain": [
       "<tensorflow.python.keras.callbacks.History at 0x2be1c579ac0>"
      ]
     },
     "execution_count": 12,
     "metadata": {},
     "output_type": "execute_result"
    }
   ],
   "source": [
    "############### Feature-extraction ###############\n",
    "# pretrained model for FE\n",
    "pretrained_model = keras.applications.DenseNet121(input_shape=(32,32,3), weights=None, include_top=False)\n",
    "x = Flatten()(pretrained_model.output)\n",
    "x = Dense(512, activation='relu',name='flattenn')(x)\n",
    "x = Dropout(0.5)(x)\n",
    "prediction = Dense(classes, activation='softmax')(x)\n",
    "model = Model(inputs=pretrained_model.input, outputs=prediction)\n",
    "# tell the model what cost and optimization method to use\n",
    "model.compile(\n",
    "  loss='categorical_crossentropy',\n",
    "  optimizer='adam',\n",
    "  metrics=['accuracy']\n",
    ")\n",
    "# fit training data and validate on the testing data\n",
    "model.fit(x_train,Y_train,batch_size=256, epochs=10,verbose=1,validation_data=(x_test,Y_test))"
   ]
  },
  {
   "cell_type": "code",
   "execution_count": 13,
   "metadata": {},
   "outputs": [
    {
     "name": "stdout",
     "output_type": "stream",
     "text": [
      "1817/1817 [==============================] - 17s 9ms/step - loss: 3.1301 - accuracy: 0.7581\n",
      "2639/2639 [==============================] - 29s 11ms/step - loss: 2.1526e-07 - accuracy: 1.0000\n",
      "training accuracy:  1.0\n",
      "testing accuracy:  0.7581028342247009\n"
     ]
    }
   ],
   "source": [
    "score = model.evaluate(x_test,Y_test)\n",
    "acc = model.evaluate(x_train,Y_train)\n",
    "print('training accuracy: ',acc[1])\n",
    "print('testing accuracy: ',score[1])"
   ]
  },
  {
   "cell_type": "code",
   "execution_count": null,
   "metadata": {},
   "outputs": [],
   "source": []
  }
 ],
 "metadata": {
  "kernelspec": {
   "display_name": "Python 3",
   "language": "python",
   "name": "python3"
  },
  "language_info": {
   "codemirror_mode": {
    "name": "ipython",
    "version": 3
   },
   "file_extension": ".py",
   "mimetype": "text/x-python",
   "name": "python",
   "nbconvert_exporter": "python",
   "pygments_lexer": "ipython3",
   "version": "3.8.5"
  }
 },
 "nbformat": 4,
 "nbformat_minor": 4
}

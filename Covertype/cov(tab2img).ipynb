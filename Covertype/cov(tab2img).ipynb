{
 "cells": [
  {
   "cell_type": "code",
   "execution_count": 1,
   "metadata": {},
   "outputs": [],
   "source": [
    "################ Letter-Recognition #################\n",
    "# Disable info messages from the tesnorflow\n",
    "import os,math\n",
    "os.environ['TF_CPP_MIN_LOG_LEVEL'] = '3' \n",
    "################## Import the libraries #####################\n",
    "import numpy as np\n",
    "import pandas as pd\n",
    "import keras\n",
    "from keras.models import Model, Sequential\n",
    "from keras.utils import to_categorical\n",
    "from keras.layers import Input, Dense, Dropout, Flatten, Conv2D,MaxPooling2D\n",
    "from sklearn.model_selection import train_test_split\n",
    "from sklearn.preprocessing import LabelEncoder,StandardScaler,MinMaxScaler,scale\n",
    "from sklearn.metrics import accuracy_score\n",
    "from scipy.ndimage import zoom"
   ]
  },
  {
   "cell_type": "code",
   "execution_count": 2,
   "metadata": {},
   "outputs": [
    {
     "name": "stdout",
     "output_type": "stream",
     "text": [
      "(581012, 54) (581012, 7)\n"
     ]
    }
   ],
   "source": [
    "############### Load the dataset ###################\n",
    "path = 'covtype.csv'\n",
    "classes = 7\n",
    "data=pd.read_csv(path, header=None)\n",
    "X=data.iloc[:,:54]\n",
    "Y=data.iloc[:,-1]\n",
    "X = MinMaxScaler().fit_transform(X)\n",
    "Y = LabelEncoder().fit_transform(Y)\n",
    "Y = to_categorical(Y,classes)\n",
    "print(X.shape,Y.shape)"
   ]
  },
  {
   "cell_type": "code",
   "execution_count": 3,
   "metadata": {},
   "outputs": [
    {
     "name": "stdout",
     "output_type": "stream",
     "text": [
      "(300000, 54) (300000, 7)\n",
      "(281012, 54) (281012, 7)\n"
     ]
    }
   ],
   "source": [
    "X_train,X_test, Y_train,Y_test = train_test_split(X,Y,test_size=0.483659)\n",
    "print(X_train.shape,Y_train.shape)\n",
    "print(X_test.shape,Y_test.shape)\n",
    "y_train = np.argmax(Y_train,axis=-1)"
   ]
  },
  {
   "cell_type": "code",
   "execution_count": 4,
   "metadata": {},
   "outputs": [
    {
     "name": "stdout",
     "output_type": "stream",
     "text": [
      "(300000, 8, 8) (281012, 8, 8)\n"
     ]
    }
   ],
   "source": [
    "from tab2img.converter import Tab2Img\n",
    "model = Tab2Img()\n",
    "train = model.fit_transform(X_train, y_train)\n",
    "test = model.transform(X_test)\n",
    "print(train.shape,test.shape)"
   ]
  },
  {
   "cell_type": "code",
   "execution_count": 5,
   "metadata": {},
   "outputs": [
    {
     "name": "stdout",
     "output_type": "stream",
     "text": [
      "(300000, 32, 32, 3) (281012, 32, 32, 3)\n"
     ]
    }
   ],
   "source": [
    "from PIL import Image\n",
    "x_train = []\n",
    "x_test = []\n",
    "for i in range(len(train)):\n",
    "    img = Image.fromarray(train[i])\n",
    "    imgs = img.resize(size=(32, 32))\n",
    "    imgs = np.array(imgs)\n",
    "    x_train.append(np.repeat(imgs[:, :, np.newaxis], 3, axis=2))\n",
    "x_train = np.array(x_train,dtype='float32')\n",
    "for i in range(len(test)):\n",
    "    img = Image.fromarray(test[i])\n",
    "    imgs = img.resize(size=(32, 32))\n",
    "    imgs = np.array(imgs)\n",
    "    x_test.append(np.repeat(imgs[:, :, np.newaxis], 3, axis=2))\n",
    "x_test = np.array(x_test,dtype='float32')\n",
    "print(x_train.shape,x_test.shape)"
   ]
  },
  {
   "cell_type": "code",
   "execution_count": 7,
   "metadata": {},
   "outputs": [
    {
     "name": "stdout",
     "output_type": "stream",
     "text": [
      "Epoch 1/20\n",
      "1172/1172 [==============================] - 105s 90ms/step - loss: 0.5851 - accuracy: 0.7538 - val_loss: 0.7062 - val_accuracy: 0.7115\n",
      "Epoch 2/20\n",
      "1172/1172 [==============================] - 99s 84ms/step - loss: 0.4451 - accuracy: 0.8136 - val_loss: 0.5258 - val_accuracy: 0.7832\n",
      "Epoch 3/20\n",
      "1172/1172 [==============================] - 99s 85ms/step - loss: 0.3767 - accuracy: 0.8439 - val_loss: 0.4304 - val_accuracy: 0.8283\n",
      "Epoch 4/20\n",
      "1172/1172 [==============================] - 99s 85ms/step - loss: 0.3293 - accuracy: 0.8647 - val_loss: 0.5450 - val_accuracy: 0.7984\n",
      "Epoch 5/20\n",
      "1172/1172 [==============================] - 99s 85ms/step - loss: 0.2933 - accuracy: 0.8794 - val_loss: 0.4816 - val_accuracy: 0.8206\n",
      "Epoch 6/20\n",
      "1172/1172 [==============================] - 99s 85ms/step - loss: 0.2655 - accuracy: 0.8916 - val_loss: 0.2958 - val_accuracy: 0.8766\n",
      "Epoch 7/20\n",
      "1172/1172 [==============================] - 100s 85ms/step - loss: 0.2412 - accuracy: 0.9020 - val_loss: 0.3177 - val_accuracy: 0.8700\n",
      "Epoch 8/20\n",
      "1172/1172 [==============================] - 101s 86ms/step - loss: 0.2217 - accuracy: 0.9093 - val_loss: 0.2455 - val_accuracy: 0.9010\n",
      "Epoch 9/20\n",
      "1172/1172 [==============================] - 101s 86ms/step - loss: 0.2063 - accuracy: 0.9156 - val_loss: 0.2362 - val_accuracy: 0.9023\n",
      "Epoch 10/20\n",
      "1172/1172 [==============================] - 100s 85ms/step - loss: 0.1927 - accuracy: 0.9215 - val_loss: 0.2560 - val_accuracy: 0.8985\n",
      "Epoch 11/20\n",
      "1172/1172 [==============================] - 101s 86ms/step - loss: 0.1825 - accuracy: 0.9255 - val_loss: 0.2731 - val_accuracy: 0.8923\n",
      "Epoch 12/20\n",
      "1172/1172 [==============================] - 101s 86ms/step - loss: 0.1722 - accuracy: 0.9293 - val_loss: 0.1961 - val_accuracy: 0.9212\n",
      "Epoch 13/20\n",
      "1172/1172 [==============================] - 101s 86ms/step - loss: 0.1612 - accuracy: 0.9338 - val_loss: 0.2271 - val_accuracy: 0.9090\n",
      "Epoch 14/20\n",
      "1172/1172 [==============================] - 101s 86ms/step - loss: 0.1556 - accuracy: 0.9363 - val_loss: 0.1820 - val_accuracy: 0.9276\n",
      "Epoch 15/20\n",
      "1172/1172 [==============================] - 101s 86ms/step - loss: 0.1468 - accuracy: 0.9394 - val_loss: 0.2277 - val_accuracy: 0.9111\n",
      "Epoch 16/20\n",
      "1172/1172 [==============================] - 102s 87ms/step - loss: 0.1419 - accuracy: 0.9420 - val_loss: 0.1842 - val_accuracy: 0.9275\n",
      "Epoch 17/20\n",
      "1172/1172 [==============================] - 102s 87ms/step - loss: 0.1359 - accuracy: 0.9443 - val_loss: 0.1665 - val_accuracy: 0.9344\n",
      "Epoch 18/20\n",
      "1172/1172 [==============================] - 102s 87ms/step - loss: 0.1370 - accuracy: 0.9437 - val_loss: 0.5143 - val_accuracy: 0.8511\n",
      "Epoch 19/20\n",
      "1172/1172 [==============================] - 102s 87ms/step - loss: 0.1302 - accuracy: 0.9468 - val_loss: 0.1960 - val_accuracy: 0.9267\n",
      "Epoch 20/20\n",
      "1172/1172 [==============================] - 102s 87ms/step - loss: 0.1205 - accuracy: 0.9501 - val_loss: 0.1737 - val_accuracy: 0.9345\n"
     ]
    },
    {
     "data": {
      "text/plain": [
       "<tensorflow.python.keras.callbacks.History at 0x243d4ff6370>"
      ]
     },
     "execution_count": 7,
     "metadata": {},
     "output_type": "execute_result"
    }
   ],
   "source": [
    "############### Feature-extraction ###############\n",
    "# pretrained model for FE\n",
    "pretrained_model = keras.applications.DenseNet121(input_shape=(32,32,3), weights=None, include_top=False)\n",
    "x = Flatten()(pretrained_model.output)\n",
    "x = Dense(512, activation='relu')(x)\n",
    "x = Dropout(0.5)(x)\n",
    "prediction = Dense(classes, activation='softmax')(x)\n",
    "model = Model(inputs=pretrained_model.input, outputs=prediction)\n",
    "# tell the model what cost and optimization method to use\n",
    "model.compile(\n",
    "  loss='categorical_crossentropy',\n",
    "  optimizer='adam',\n",
    "  metrics=['accuracy']\n",
    ")\n",
    "from keras import callbacks \n",
    "earlystopping = callbacks.EarlyStopping(monitor =\"val_loss\",  \n",
    "                                        mode =\"min\", patience = 5,  \n",
    "                                        restore_best_weights = True) \n",
    "  \n",
    "model.fit(x_train,Y_train,batch_size=256, epochs=20,verbose=1,validation_data=(x_test,Y_test), callbacks =[earlystopping]) "
   ]
  },
  {
   "cell_type": "code",
   "execution_count": 8,
   "metadata": {},
   "outputs": [
    {
     "name": "stdout",
     "output_type": "stream",
     "text": [
      "8782/8782 [==============================] - 82s 9ms/step - loss: 0.1737 - accuracy: 0.9345\n",
      "9375/9375 [==============================] - 84s 9ms/step - loss: 0.1241 - accuracy: 0.9491\n",
      "training accuracy:  0.9490600228309631\n",
      "testing accuracy:  0.9345152378082275\n"
     ]
    }
   ],
   "source": [
    "score = model.evaluate(x_test,Y_test)\n",
    "acc = model.evaluate(x_train,Y_train)\n",
    "print('training accuracy: ',acc[1])\n",
    "print('testing accuracy: ',score[1])"
   ]
  },
  {
   "cell_type": "code",
   "execution_count": null,
   "metadata": {},
   "outputs": [],
   "source": []
  },
  {
   "cell_type": "code",
   "execution_count": null,
   "metadata": {},
   "outputs": [],
   "source": []
  }
 ],
 "metadata": {
  "kernelspec": {
   "display_name": "Python 3",
   "language": "python",
   "name": "python3"
  },
  "language_info": {
   "codemirror_mode": {
    "name": "ipython",
    "version": 3
   },
   "file_extension": ".py",
   "mimetype": "text/x-python",
   "name": "python",
   "nbconvert_exporter": "python",
   "pygments_lexer": "ipython3",
   "version": "3.8.5"
  }
 },
 "nbformat": 4,
 "nbformat_minor": 4
}

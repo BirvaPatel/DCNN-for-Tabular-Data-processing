{
 "cells": [
  {
   "cell_type": "code",
   "execution_count": 1,
   "metadata": {},
   "outputs": [],
   "source": [
    "################ Letter-Recognition #################\n",
    "# Disable info messages from the tesnorflow\n",
    "import os,math\n",
    "os.environ['TF_CPP_MIN_LOG_LEVEL'] = '3' \n",
    "################## Import the libraries #####################\n",
    "import numpy as np\n",
    "import pandas as pd\n",
    "import keras\n",
    "from keras.models import Model, Sequential\n",
    "from keras.utils import to_categorical\n",
    "from keras.layers import Input, Dense, Dropout, Flatten, Conv2D,MaxPooling2D\n",
    "from sklearn.model_selection import train_test_split\n",
    "from sklearn.preprocessing import LabelEncoder,StandardScaler,MinMaxScaler,scale\n",
    "from sklearn.metrics import accuracy_score\n",
    "from scipy.ndimage import zoom"
   ]
  },
  {
   "cell_type": "code",
   "execution_count": 2,
   "metadata": {},
   "outputs": [
    {
     "name": "stdout",
     "output_type": "stream",
     "text": [
      "(581012, 54) (581012,)\n"
     ]
    }
   ],
   "source": [
    "############### Load the dataset ###################\n",
    "path = 'covtype.csv'\n",
    "classes = 7  # total classes\n",
    "data=pd.read_csv(path, header=None)\n",
    "X=data.iloc[:,:54]\n",
    "Y=data.iloc[:,-1]\n",
    "# scaling the inputs\n",
    "X = MinMaxScaler().fit_transform(X)\n",
    "# one-hot encoding\n",
    "Y = LabelEncoder().fit_transform(Y)\n",
    "#Y = to_categorical(Y,classes)\n",
    "print(X.shape,Y.shape)"
   ]
  },
  {
   "cell_type": "code",
   "execution_count": 3,
   "metadata": {},
   "outputs": [
    {
     "name": "stdout",
     "output_type": "stream",
     "text": [
      "(300000, 54) (300000,)\n",
      "(281012, 54) (281012,)\n"
     ]
    }
   ],
   "source": [
    "# split in train-test as per requirenments\n",
    "X_train,X_test, Y_train,Y_test = train_test_split(X,Y,test_size=0.483659)\n",
    "print(X_train.shape,Y_train.shape)\n",
    "print(X_test.shape,Y_test.shape)"
   ]
  },
  {
   "cell_type": "code",
   "execution_count": 5,
   "metadata": {},
   "outputs": [
    {
     "name": "stdout",
     "output_type": "stream",
     "text": [
      "ELM score: 80.60260771781988\n"
     ]
    }
   ],
   "source": [
    "######## ELM classifier ##########\n",
    "from sklearn_extensions.extreme_learning_machines.elm import GenELMClassifier\n",
    "from sklearn_extensions.extreme_learning_machines.random_layer import RBFRandomLayer, MLPRandomLayer\n",
    "model = GenELMClassifier(hidden_layer=MLPRandomLayer(n_hidden=2000, activation_func='tanh')) \n",
    "model.fit(X_train,Y_train)\n",
    "score = model.score(X_test,Y_test)\n",
    "print(\"ELM score:\",score*100)"
   ]
  },
  {
   "cell_type": "code",
   "execution_count": null,
   "metadata": {},
   "outputs": [],
   "source": []
  }
 ],
 "metadata": {
  "kernelspec": {
   "display_name": "Python 3",
   "language": "python",
   "name": "python3"
  },
  "language_info": {
   "codemirror_mode": {
    "name": "ipython",
    "version": 3
   },
   "file_extension": ".py",
   "mimetype": "text/x-python",
   "name": "python",
   "nbconvert_exporter": "python",
   "pygments_lexer": "ipython3",
   "version": "3.8.5"
  }
 },
 "nbformat": 4,
 "nbformat_minor": 4
}

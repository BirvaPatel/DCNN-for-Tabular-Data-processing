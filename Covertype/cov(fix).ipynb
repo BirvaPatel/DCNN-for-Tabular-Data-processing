{
 "cells": [
  {
   "cell_type": "code",
   "execution_count": 1,
   "metadata": {},
   "outputs": [],
   "source": [
    "################ Letter-Recognition #################\n",
    "# Disable info messages from the tesnorflow\n",
    "import os,math\n",
    "os.environ['TF_CPP_MIN_LOG_LEVEL'] = '3' \n",
    "################## Import the libraries #####################\n",
    "import numpy as np\n",
    "import pandas as pd\n",
    "import keras\n",
    "from keras.models import Model, Sequential\n",
    "from keras.utils import to_categorical\n",
    "from keras.layers import Input, Dense, Dropout, Flatten, Conv2D,MaxPooling2D\n",
    "from sklearn.model_selection import train_test_split\n",
    "from sklearn.preprocessing import LabelEncoder,StandardScaler,MinMaxScaler,scale\n",
    "from sklearn.metrics import accuracy_score\n",
    "from scipy.ndimage import zoom"
   ]
  },
  {
   "cell_type": "code",
   "execution_count": 2,
   "metadata": {},
   "outputs": [
    {
     "name": "stdout",
     "output_type": "stream",
     "text": [
      "(581012, 54) (581012, 7)\n"
     ]
    }
   ],
   "source": [
    "############### Load the dataset ###################\n",
    "path = 'covtype.csv'\n",
    "classes = 7\n",
    "data=pd.read_csv(path, header=None)\n",
    "X=data.iloc[:,:54]\n",
    "Y=data.iloc[:,-1]\n",
    "X = MinMaxScaler().fit_transform(X)\n",
    "Y = LabelEncoder().fit_transform(Y)\n",
    "Y = to_categorical(Y,classes)\n",
    "print(X.shape,Y.shape)"
   ]
  },
  {
   "cell_type": "code",
   "execution_count": 3,
   "metadata": {},
   "outputs": [
    {
     "name": "stdout",
     "output_type": "stream",
     "text": [
      "(300000, 54) (300000, 7)\n",
      "(281012, 54) (281012, 7)\n"
     ]
    }
   ],
   "source": [
    "X_train,X_test, Y_train,Y_test = train_test_split(X,Y,test_size=0.483659)\n",
    "print(X_train.shape,Y_train.shape)\n",
    "print(X_test.shape,Y_test.shape)"
   ]
  },
  {
   "cell_type": "code",
   "execution_count": 6,
   "metadata": {},
   "outputs": [
    {
     "name": "stdout",
     "output_type": "stream",
     "text": [
      "144/144 [==============================] - 0s 1ms/step - loss: 1.1499\n",
      "144/144 [==============================] - 0s 1ms/step - loss: 1.1813\n",
      "144/144 [==============================] - 0s 1ms/step - loss: 1.1030\n",
      "144/144 [==============================] - 0s 1ms/step - loss: 1.2037\n",
      "144/144 [==============================] - 0s 1ms/step - loss: 1.1418\n",
      "144/144 [==============================] - 0s 1ms/step - loss: 1.2390\n",
      "144/144 [==============================] - 0s 1ms/step - loss: 1.1918\n",
      "144/144 [==============================] - 0s 1ms/step - loss: 1.2088\n",
      "144/144 [==============================] - 0s 1ms/step - loss: 1.1717\n",
      "144/144 [==============================] - 0s 1ms/step - loss: 1.1854\n",
      "144/144 [==============================] - 0s 1ms/step - loss: 1.2151\n",
      "144/144 [==============================] - 0s 1ms/step - loss: 1.2563\n",
      "144/144 [==============================] - 0s 1ms/step - loss: 1.1818\n",
      "144/144 [==============================] - 0s 1ms/step - loss: 1.1475\n",
      "144/144 [==============================] - 0s 1ms/step - loss: 1.1277\n",
      "144/144 [==============================] - 0s 1ms/step - loss: 1.1895\n",
      "144/144 [==============================] - 0s 1ms/step - loss: 1.2053\n",
      "144/144 [==============================] - 0s 1ms/step - loss: 1.2190\n",
      "144/144 [==============================] - 0s 1ms/step - loss: 1.1904\n",
      "144/144 [==============================] - 0s 1ms/step - loss: 1.1197\n",
      "144/144 [==============================] - 0s 1ms/step - loss: 1.1606\n",
      "144/144 [==============================] - 0s 1ms/step - loss: 1.1870\n",
      "144/144 [==============================] - 0s 1ms/step - loss: 1.1957\n",
      "144/144 [==============================] - 0s 1ms/step - loss: 1.1566\n",
      "144/144 [==============================] - 0s 1ms/step - loss: 1.2235\n",
      "144/144 [==============================] - 0s 1ms/step - loss: 1.1471\n",
      "144/144 [==============================] - 0s 1ms/step - loss: 1.1394\n",
      "144/144 [==============================] - 0s 1ms/step - loss: 1.2274\n",
      "144/144 [==============================] - 0s 1ms/step - loss: 1.2622\n",
      "144/144 [==============================] - 0s 1ms/step - loss: 1.1769\n",
      "144/144 [==============================] - 0s 1ms/step - loss: 1.1768\n",
      "144/144 [==============================] - 0s 1ms/step - loss: 1.2353\n",
      "144/144 [==============================] - 0s 1ms/step - loss: 1.1515\n",
      "144/144 [==============================] - 0s 1ms/step - loss: 1.2581\n",
      "144/144 [==============================] - 0s 1ms/step - loss: 1.1904\n",
      "144/144 [==============================] - 0s 1ms/step - loss: 1.1771\n",
      "144/144 [==============================] - 0s 1ms/step - loss: 1.1282\n",
      "144/144 [==============================] - 0s 1ms/step - loss: 1.2019\n",
      "144/144 [==============================] - 0s 1ms/step - loss: 1.1580\n",
      "144/144 [==============================] - 0s 1ms/step - loss: 1.1998\n",
      "144/144 [==============================] - 0s 2ms/step - loss: 1.2207\n",
      "144/144 [==============================] - 0s 2ms/step - loss: 1.1108\n",
      "144/144 [==============================] - 0s 1ms/step - loss: 1.1371\n",
      "144/144 [==============================] - 0s 2ms/step - loss: 1.1362\n",
      "144/144 [==============================] - 0s 1ms/step - loss: 1.1480\n",
      "144/144 [==============================] - 0s 1ms/step - loss: 1.1901\n",
      "144/144 [==============================] - 0s 2ms/step - loss: 1.1350\n",
      "144/144 [==============================] - 0s 2ms/step - loss: 1.1204\n",
      "144/144 [==============================] - 0s 1ms/step - loss: 1.1511\n",
      "144/144 [==============================] - 0s 1ms/step - loss: 1.2013\n",
      "144/144 [==============================] - 0s 2ms/step - loss: 1.1033\n",
      "144/144 [==============================] - 0s 1ms/step - loss: 1.1588\n",
      "144/144 [==============================] - 0s 1ms/step - loss: 1.1546\n",
      "(300000, 2916) (281012, 2916)\n"
     ]
    }
   ],
   "source": [
    "x_train,x_test = X_train,X_test\n",
    "n = X_train.shape[1]\n",
    "# convert 2-D to 3-D.\n",
    "for i in range(1,n):\n",
    "  model = Sequential()\n",
    "  model.add(Dense(n,name='feature', activation='relu',input_shape=(n,)))\n",
    "  model.add(Dense(classes,activation='softmax'))\n",
    "  model.compile(loss='categorical_crossentropy',optimizer='adam')\n",
    "  model.fit(X_train,Y_train,epochs=1,batch_size=2096,verbose=1)\n",
    "  extract = Model(model.inputs, model.get_layer('feature').output)\n",
    "  features1 = extract.predict(X_train)\n",
    "  features2 = extract.predict(X_test)\n",
    "  x_train = np.concatenate((x_train, features1), axis=1) # concatenate on horizontal axis\n",
    "  x_test = np.concatenate((x_test, features2), axis=1)\n",
    "print(x_train.shape,x_test.shape)"
   ]
  },
  {
   "cell_type": "code",
   "execution_count": 7,
   "metadata": {},
   "outputs": [
    {
     "name": "stdout",
     "output_type": "stream",
     "text": [
      "(300000, 32, 32, 3) (281012, 32, 32, 3)\n"
     ]
    }
   ],
   "source": [
    "from PIL import Image\n",
    "xtrain = []\n",
    "xtest = []\n",
    "for i in range(len(x_train)):\n",
    "    img = Image.fromarray(x_train[i])\n",
    "    imgs = img.resize(size=(32, 32))\n",
    "    imgs = np.array(imgs)\n",
    "    xtrain.append(np.repeat(imgs[:, :, np.newaxis], 3, axis=2))\n",
    "xtrain = np.array(xtrain,dtype='float32')\n",
    "for i in range(len(x_test)):\n",
    "    img = Image.fromarray(x_test[i])\n",
    "    imgs = img.resize(size=(32, 32))\n",
    "    imgs = np.array(imgs)\n",
    "    xtest.append(np.repeat(imgs[:, :, np.newaxis], 3, axis=2))\n",
    "xtest = np.array(xtest,dtype='float32')\n",
    "print(xtrain.shape,xtest.shape)"
   ]
  },
  {
   "cell_type": "code",
   "execution_count": 8,
   "metadata": {},
   "outputs": [
    {
     "name": "stdout",
     "output_type": "stream",
     "text": [
      "Epoch 1/20\n",
      "1172/1172 [==============================] - 106s 91ms/step - loss: 0.7233 - accuracy: 0.6893 - val_loss: 1.5521 - val_accuracy: 0.5455\n",
      "Epoch 2/20\n",
      "1172/1172 [==============================] - 99s 85ms/step - loss: 0.6218 - accuracy: 0.7319 - val_loss: 1.0090 - val_accuracy: 0.6097\n",
      "Epoch 3/20\n",
      "1172/1172 [==============================] - 102s 87ms/step - loss: 0.6023 - accuracy: 0.7392 - val_loss: 1.2773 - val_accuracy: 0.5830\n",
      "Epoch 4/20\n",
      "1172/1172 [==============================] - 100s 86ms/step - loss: 0.5687 - accuracy: 0.7550 - val_loss: 0.9071 - val_accuracy: 0.6584\n",
      "Epoch 5/20\n",
      "1172/1172 [==============================] - 100s 85ms/step - loss: 0.5184 - accuracy: 0.7771 - val_loss: 0.7902 - val_accuracy: 0.7196\n",
      "Epoch 6/20\n",
      "1172/1172 [==============================] - 101s 86ms/step - loss: 0.5003 - accuracy: 0.7872 - val_loss: 0.9787 - val_accuracy: 0.6526\n",
      "Epoch 7/20\n",
      "1172/1172 [==============================] - 101s 86ms/step - loss: 0.4726 - accuracy: 0.7995 - val_loss: 2.1042 - val_accuracy: 0.5104\n",
      "Epoch 8/20\n",
      "1172/1172 [==============================] - 102s 87ms/step - loss: 0.4610 - accuracy: 0.8051 - val_loss: 3.7797 - val_accuracy: 0.2738\n",
      "Epoch 9/20\n",
      "1172/1172 [==============================] - 103s 88ms/step - loss: 0.4679 - accuracy: 0.8036 - val_loss: 0.9107 - val_accuracy: 0.6652\n",
      "Epoch 10/20\n",
      "1172/1172 [==============================] - 103s 88ms/step - loss: 0.4177 - accuracy: 0.8238 - val_loss: 0.7325 - val_accuracy: 0.7041\n",
      "Epoch 11/20\n",
      "1172/1172 [==============================] - 103s 88ms/step - loss: 0.4132 - accuracy: 0.8251 - val_loss: 1.5602 - val_accuracy: 0.5469\n",
      "Epoch 12/20\n",
      "1172/1172 [==============================] - 103s 88ms/step - loss: 0.4307 - accuracy: 0.8165 - val_loss: 0.6594 - val_accuracy: 0.7460\n",
      "Epoch 13/20\n",
      "1172/1172 [==============================] - 104s 88ms/step - loss: 0.3762 - accuracy: 0.8409 - val_loss: 0.8405 - val_accuracy: 0.6733\n",
      "Epoch 14/20\n",
      "1172/1172 [==============================] - 104s 89ms/step - loss: 0.3564 - accuracy: 0.8504 - val_loss: 0.7737 - val_accuracy: 0.7241\n",
      "Epoch 15/20\n",
      "1172/1172 [==============================] - 104s 89ms/step - loss: 0.3630 - accuracy: 0.8470 - val_loss: 2.3167 - val_accuracy: 0.5728\n",
      "Epoch 16/20\n",
      "1172/1172 [==============================] - 104s 89ms/step - loss: 0.3392 - accuracy: 0.8577 - val_loss: 0.9808 - val_accuracy: 0.6703\n",
      "Epoch 17/20\n",
      "1172/1172 [==============================] - 104s 89ms/step - loss: 0.3239 - accuracy: 0.8633 - val_loss: 1.1485 - val_accuracy: 0.6527\n",
      "Epoch 18/20\n",
      "1172/1172 [==============================] - 104s 89ms/step - loss: 0.3398 - accuracy: 0.8577 - val_loss: 3.3928 - val_accuracy: 0.2357\n",
      "Epoch 19/20\n",
      "1172/1172 [==============================] - 103s 88ms/step - loss: 0.3222 - accuracy: 0.8636 - val_loss: 0.7824 - val_accuracy: 0.7397\n",
      "Epoch 20/20\n",
      "1172/1172 [==============================] - 103s 88ms/step - loss: 0.3353 - accuracy: 0.8587 - val_loss: 1.9065 - val_accuracy: 0.4702\n"
     ]
    },
    {
     "data": {
      "text/plain": [
       "<tensorflow.python.keras.callbacks.History at 0x2799857a580>"
      ]
     },
     "execution_count": 8,
     "metadata": {},
     "output_type": "execute_result"
    }
   ],
   "source": [
    "############### Feature-extraction ###############\n",
    "# pretrained model for FE\n",
    "pretrained_model = keras.applications.DenseNet121(input_shape=(32,32,3), weights=None, include_top=False)\n",
    "x = Flatten()(pretrained_model.output)\n",
    "x = Dense(512, activation='relu')(x)\n",
    "x = Dropout(0.5)(x)\n",
    "prediction = Dense(classes, activation='softmax')(x)\n",
    "model = Model(inputs=pretrained_model.input, outputs=prediction)\n",
    "# tell the model what cost and optimization method to use\n",
    "model.compile(\n",
    "  loss='categorical_crossentropy',\n",
    "  optimizer='adam',\n",
    "  metrics=['accuracy']\n",
    ")\n",
    "# fit training data and validate on the testing data\n",
    "model.fit(xtrain,Y_train,batch_size=256, epochs=20,verbose=1,validation_data=(xtest,Y_test))"
   ]
  },
  {
   "cell_type": "code",
   "execution_count": 9,
   "metadata": {},
   "outputs": [
    {
     "name": "stdout",
     "output_type": "stream",
     "text": [
      "8782/8782 [==============================] - 86s 10ms/step - loss: 1.9065 - accuracy: 0.4702\n",
      "9375/9375 [==============================] - 88s 9ms/step - loss: 1.9150 - accuracy: 0.4674\n",
      "training accuracy:  0.4674000144004822\n",
      "testing accuracy:  0.470186322927475\n"
     ]
    }
   ],
   "source": [
    "score = model.evaluate(xtest,Y_test)\n",
    "acc = model.evaluate(xtrain,Y_train)\n",
    "print('training accuracy: ',acc[1])\n",
    "print('testing accuracy: ',score[1])"
   ]
  },
  {
   "cell_type": "code",
   "execution_count": null,
   "metadata": {},
   "outputs": [],
   "source": []
  },
  {
   "cell_type": "code",
   "execution_count": null,
   "metadata": {},
   "outputs": [],
   "source": []
  },
  {
   "cell_type": "code",
   "execution_count": null,
   "metadata": {},
   "outputs": [],
   "source": []
  },
  {
   "cell_type": "code",
   "execution_count": null,
   "metadata": {},
   "outputs": [],
   "source": []
  }
 ],
 "metadata": {
  "kernelspec": {
   "display_name": "Python 3",
   "language": "python",
   "name": "python3"
  },
  "language_info": {
   "codemirror_mode": {
    "name": "ipython",
    "version": 3
   },
   "file_extension": ".py",
   "mimetype": "text/x-python",
   "name": "python",
   "nbconvert_exporter": "python",
   "pygments_lexer": "ipython3",
   "version": "3.8.5"
  }
 },
 "nbformat": 4,
 "nbformat_minor": 4
}

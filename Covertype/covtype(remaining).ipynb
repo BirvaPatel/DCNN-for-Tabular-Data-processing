{
 "cells": [
  {
   "cell_type": "code",
   "execution_count": 1,
   "metadata": {},
   "outputs": [],
   "source": [
    "################ Letter-Recognition #################\n",
    "# Disable info messages from the tesnorflow\n",
    "import os,math\n",
    "os.environ['TF_CPP_MIN_LOG_LEVEL'] = '3' \n",
    "################## Import the libraries #####################\n",
    "import numpy as np\n",
    "import pandas as pd\n",
    "import keras\n",
    "from keras.models import Model, Sequential\n",
    "from keras.utils import to_categorical\n",
    "from keras.layers import Input, Dense, Dropout, Flatten, Conv2D,MaxPooling2D\n",
    "from sklearn.model_selection import train_test_split\n",
    "from sklearn.preprocessing import LabelEncoder,StandardScaler,MinMaxScaler,scale\n",
    "from sklearn.metrics import accuracy_score\n",
    "from scipy.ndimage import zoom"
   ]
  },
  {
   "cell_type": "code",
   "execution_count": 2,
   "metadata": {},
   "outputs": [
    {
     "name": "stdout",
     "output_type": "stream",
     "text": [
      "(581012, 54) (581012, 7)\n"
     ]
    }
   ],
   "source": [
    "############### Load the dataset ###################\n",
    "path = 'covtype.csv'\n",
    "classes = 7  # total classes\n",
    "data=pd.read_csv(path, header=None)\n",
    "X=data.iloc[:,:54]\n",
    "Y=data.iloc[:,-1]\n",
    "# scaling the inputs\n",
    "X = MinMaxScaler().fit_transform(X)\n",
    "# one-hot encoding\n",
    "Y = LabelEncoder().fit_transform(Y)\n",
    "Y = to_categorical(Y,classes)\n",
    "print(X.shape,Y.shape)"
   ]
  },
  {
   "cell_type": "code",
   "execution_count": 3,
   "metadata": {},
   "outputs": [
    {
     "name": "stdout",
     "output_type": "stream",
     "text": [
      "(300000, 54) (300000, 7)\n",
      "(281012, 54) (281012, 7)\n"
     ]
    }
   ],
   "source": [
    "# split in train-test as per requirenments\n",
    "X_train,X_test, Y_train,Y_test = train_test_split(X,Y,test_size=0.483659)\n",
    "print(X_train.shape,Y_train.shape)\n",
    "print(X_test.shape,Y_test.shape)"
   ]
  },
  {
   "cell_type": "code",
   "execution_count": 4,
   "metadata": {},
   "outputs": [
    {
     "name": "stdout",
     "output_type": "stream",
     "text": [
      "(300000, 64) (281012, 64)\n",
      "(300000, 8, 8) (281012, 8, 8)\n"
     ]
    }
   ],
   "source": [
    "######## REMAINING ###############\n",
    "#### This will take out the nearest perfect square number of 54(attributes) that is 64(8*8). \n",
    "### so, we need 8 node in hidden layer and join it with 54+8=64(8*8).\n",
    "\n",
    "dim = X_train.shape[1]\n",
    "x = int(dim**(1/2)) +1\n",
    "f = x*x\n",
    "model = Sequential()\n",
    "model.add(Dense(f-dim,name='feature', activation='relu',input_shape=(dim,)))\n",
    "model.add(Dense(classes,activation='softmax'))\n",
    "model.compile(loss='categorical_crossentropy',optimizer='adam', metrics=['accuracy'])\n",
    "# here, inputs and labels are same\n",
    "model.fit(X_train,Y_train,epochs=100,batch_size=64,verbose=0)\n",
    "extract = Model(model.inputs, model.get_layer('feature').output)\n",
    "# predict whole inputs through it\n",
    "x1 = extract.predict(X_train)\n",
    "x2 = extract.predict(X_test)\n",
    "# concatenate on horizontal axis\n",
    "X1 = np.concatenate((X_train, x1), axis=1) \n",
    "X2 = np.concatenate((X_test, x2), axis=1) \n",
    "print(X1.shape,X2.shape)\n",
    "train = X1.reshape(X1.shape[0],x,x)\n",
    "test = X2.reshape(X2.shape[0],x,x)\n",
    "print(train.shape,test.shape)"
   ]
  },
  {
   "cell_type": "code",
   "execution_count": 5,
   "metadata": {},
   "outputs": [
    {
     "name": "stdout",
     "output_type": "stream",
     "text": [
      "(300000, 32, 32, 3) (281012, 32, 32, 3)\n"
     ]
    }
   ],
   "source": [
    "# resize(reshape) it and convert it in 'rgb'\n",
    "from PIL import Image\n",
    "x_train = []\n",
    "x_test = []\n",
    "for i in range(len(train)):\n",
    "    img = Image.fromarray(train[i])\n",
    "    imgs = img.resize(size=(32, 32))\n",
    "    imgs = np.array(imgs)\n",
    "    x_train.append(np.repeat(imgs[:, :, np.newaxis], 3, axis=2))\n",
    "x_train = np.array(x_train,dtype='float32')\n",
    "for i in range(len(test)):\n",
    "    img = Image.fromarray(test[i])\n",
    "    imgs = img.resize(size=(32, 32))\n",
    "    imgs = np.array(imgs)\n",
    "    x_test.append(np.repeat(imgs[:, :, np.newaxis], 3, axis=2))\n",
    "x_test = np.array(x_test,dtype='float32')\n",
    "print(x_train.shape,x_test.shape)"
   ]
  },
  {
   "cell_type": "code",
   "execution_count": 6,
   "metadata": {},
   "outputs": [
    {
     "name": "stdout",
     "output_type": "stream",
     "text": [
      "Epoch 1/20\n",
      "2344/2344 [==============================] - 142s 61ms/step - loss: 0.6027 - accuracy: 0.7469 - val_loss: 0.5988 - val_accuracy: 0.7498\n",
      "Epoch 2/20\n",
      "2344/2344 [==============================] - 136s 58ms/step - loss: 0.4867 - accuracy: 0.7960 - val_loss: 0.4366 - val_accuracy: 0.8225\n",
      "Epoch 3/20\n",
      "2344/2344 [==============================] - 140s 60ms/step - loss: 0.4119 - accuracy: 0.8272 - val_loss: 0.4168 - val_accuracy: 0.8225\n",
      "Epoch 4/20\n",
      "2344/2344 [==============================] - 142s 60ms/step - loss: 0.3582 - accuracy: 0.8510 - val_loss: 0.3801 - val_accuracy: 0.8416\n",
      "Epoch 5/20\n",
      "2344/2344 [==============================] - 140s 60ms/step - loss: 0.3274 - accuracy: 0.8645 - val_loss: 0.3012 - val_accuracy: 0.8726\n",
      "Epoch 6/20\n",
      "2344/2344 [==============================] - 135s 57ms/step - loss: 0.2944 - accuracy: 0.8790 - val_loss: 0.5187 - val_accuracy: 0.7987\n",
      "Epoch 7/20\n",
      "2344/2344 [==============================] - 135s 58ms/step - loss: 0.2855 - accuracy: 0.8838 - val_loss: 0.2503 - val_accuracy: 0.8974\n",
      "Epoch 8/20\n",
      "2344/2344 [==============================] - 134s 57ms/step - loss: 0.2558 - accuracy: 0.8950 - val_loss: 0.2630 - val_accuracy: 0.8921\n",
      "Epoch 9/20\n",
      "2344/2344 [==============================] - 135s 57ms/step - loss: 0.2390 - accuracy: 0.9031 - val_loss: 0.2369 - val_accuracy: 0.9027\n",
      "Epoch 10/20\n",
      "2344/2344 [==============================] - 136s 58ms/step - loss: 0.2527 - accuracy: 0.8970 - val_loss: 0.2101 - val_accuracy: 0.9139\n",
      "Epoch 11/20\n",
      "2344/2344 [==============================] - 137s 59ms/step - loss: 0.2017 - accuracy: 0.9175 - val_loss: 0.2143 - val_accuracy: 0.9118\n",
      "Epoch 12/20\n",
      "2344/2344 [==============================] - 137s 59ms/step - loss: 0.2113 - accuracy: 0.9140 - val_loss: 0.2118 - val_accuracy: 0.9141\n",
      "Epoch 13/20\n",
      "2344/2344 [==============================] - 139s 59ms/step - loss: 0.1981 - accuracy: 0.9203 - val_loss: 0.2112 - val_accuracy: 0.9132\n",
      "Epoch 14/20\n",
      "2344/2344 [==============================] - 136s 58ms/step - loss: 0.1779 - accuracy: 0.9279 - val_loss: 0.1986 - val_accuracy: 0.9192\n",
      "Epoch 15/20\n",
      "2344/2344 [==============================] - 136s 58ms/step - loss: 0.1708 - accuracy: 0.9298 - val_loss: 0.1907 - val_accuracy: 0.9235\n",
      "Epoch 16/20\n",
      "2344/2344 [==============================] - 134s 57ms/step - loss: 0.1677 - accuracy: 0.9316 - val_loss: 0.1887 - val_accuracy: 0.9261\n",
      "Epoch 17/20\n",
      "2344/2344 [==============================] - 135s 57ms/step - loss: 0.1608 - accuracy: 0.9345 - val_loss: 0.1703 - val_accuracy: 0.9311\n",
      "Epoch 18/20\n",
      "2344/2344 [==============================] - 140s 60ms/step - loss: 0.1485 - accuracy: 0.9394 - val_loss: 0.1905 - val_accuracy: 0.9241\n",
      "Epoch 19/20\n",
      "2344/2344 [==============================] - 141s 60ms/step - loss: 0.1816 - accuracy: 0.9256 - val_loss: 0.1471 - val_accuracy: 0.9426\n",
      "Epoch 20/20\n",
      "2344/2344 [==============================] - 145s 62ms/step - loss: 0.1274 - accuracy: 0.9475 - val_loss: 0.1519 - val_accuracy: 0.9399\n"
     ]
    },
    {
     "data": {
      "text/plain": [
       "<tensorflow.python.keras.callbacks.History at 0x1ec8490a430>"
      ]
     },
     "execution_count": 6,
     "metadata": {},
     "output_type": "execute_result"
    }
   ],
   "source": [
    "############### Feature-extraction ###############\n",
    "# pretrained model for FE\n",
    "pretrained_model = keras.applications.DenseNet121(input_shape=(32,32,3), weights=None, include_top=False)\n",
    "x = Flatten()(pretrained_model.output)\n",
    "x = Dense(512, activation='relu')(x)\n",
    "x = Dropout(0.5)(x)\n",
    "prediction = Dense(classes, activation='softmax')(x)\n",
    "model = Model(inputs=pretrained_model.input, outputs=prediction)\n",
    "# tell the model what cost and optimization method to use\n",
    "model.compile(\n",
    "  loss='categorical_crossentropy',\n",
    "  optimizer='adam',\n",
    "  metrics=['accuracy']\n",
    ")\n",
    "# fit training data and validate on the testing data\n",
    "model.fit(x_train,Y_train,batch_size=128, epochs=20,verbose=1,validation_data=(x_test,Y_test))"
   ]
  },
  {
   "cell_type": "code",
   "execution_count": 7,
   "metadata": {},
   "outputs": [
    {
     "name": "stdout",
     "output_type": "stream",
     "text": [
      "8782/8782 [==============================] - 85s 10ms/step - loss: 0.1519 - accuracy: 0.9399\n",
      "9375/9375 [==============================] - 98s 10ms/step - loss: 0.1107 - accuracy: 0.9538\n",
      "training accuracy:  0.953790009021759\n",
      "testing accuracy:  0.9399491548538208\n"
     ]
    }
   ],
   "source": [
    "score = model.evaluate(x_test,Y_test)\n",
    "acc = model.evaluate(x_train,Y_train)\n",
    "print('training accuracy: ',acc[1])\n",
    "print('testing accuracy: ',score[1])"
   ]
  },
  {
   "cell_type": "code",
   "execution_count": 8,
   "metadata": {},
   "outputs": [],
   "source": []
  }
 ],
 "metadata": {
  "kernelspec": {
   "display_name": "Python 3",
   "language": "python",
   "name": "python3"
  },
  "language_info": {
   "codemirror_mode": {
    "name": "ipython",
    "version": 3
   },
   "file_extension": ".py",
   "mimetype": "text/x-python",
   "name": "python",
   "nbconvert_exporter": "python",
   "pygments_lexer": "ipython3",
   "version": "3.8.5"
  }
 },
 "nbformat": 4,
 "nbformat_minor": 4
}

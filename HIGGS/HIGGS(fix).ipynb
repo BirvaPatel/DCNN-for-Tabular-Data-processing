{
 "cells": [
  {
   "cell_type": "code",
   "execution_count": null,
   "metadata": {},
   "outputs": [],
   "source": [
    "################ Letter-Recognition #################\n",
    "# Disable info messages from the tesnorflow\n",
    "import os\n",
    "os.environ['TF_CPP_MIN_LOG_LEVEL'] = '3' \n",
    "################## Import the libraries #####################\n",
    "import numpy as np\n",
    "import pandas as pd\n",
    "import keras\n",
    "from keras.models import Model, Sequential\n",
    "from keras.utils import to_categorical\n",
    "from keras.layers import Input, Dense, Dropout, Flatten, Conv2D,MaxPooling2D\n",
    "from sklearn.model_selection import train_test_split\n",
    "from sklearn.preprocessing import LabelEncoder,StandardScaler,MinMaxScaler,scale\n",
    "from sklearn.metrics import accuracy_score\n",
    "from scipy.ndimage import zoom"
   ]
  },
  {
   "cell_type": "code",
   "execution_count": null,
   "metadata": {},
   "outputs": [],
   "source": [
    "############### Load the dataset ###################\n",
    "path = 'HIGGS.csv'\n",
    "classes = 2\n",
    "data=pd.read_csv(path, header=None)\n",
    "X=data.iloc[:,1:]\n",
    "Y=data.iloc[:,0]\n",
    "X = MinMaxScaler().fit_transform(X)\n",
    "Y = LabelEncoder().fit_transform(Y)\n",
    "Y = to_categorical(Y,classes)\n",
    "print(X.shape,Y.shape)\n",
    "X_train= X[:10500000]\n",
    "X_test= X[10500000:]\n",
    "Y_train= Y[:10500000]\n",
    "Y_test= Y[10500000:]\n",
    "print(X_train.shape,Y_train.shape)\n",
    "print(X_test.shape,Y_test.shape)"
   ]
  },
  {
   "cell_type": "code",
   "execution_count": null,
   "metadata": {},
   "outputs": [],
   "source": [
    "x_train,x_test = X_train,X_test\n",
    "n = X_train.shape[1]\n",
    "# convert 2-D to 3-D.\n",
    "for i in range(1,n):\n",
    "  model = Sequential()\n",
    "  model.add(Dense(n,name='feature', activation='relu',input_shape=(n,)))\n",
    "  model.add(Dense(classes,activation='softmax'))\n",
    "  model.compile(loss='categorical_crossentropy',optimizer='adam')\n",
    "  model.fit(X_train,Y_train,epochs=1,batch_size=128,verbose=0)\n",
    "  extract = Model(model.inputs, model.get_layer('feature').output)\n",
    "  features1 = extract.predict(X_train)\n",
    "  features2 = extract.predict(X_test)\n",
    "  x_train = np.concatenate((x_train, features1), axis=1) # concatenate on horizontal axis\n",
    "  x_test = np.concatenate((x_test, features2), axis=1)\n",
    "print(x_train.shape,x_test.shape)"
   ]
  },
  {
   "cell_type": "code",
   "execution_count": null,
   "metadata": {},
   "outputs": [],
   "source": [
    "from PIL import Image\n",
    "xtrain = []\n",
    "xtest = []\n",
    "for i in range(len(x_train)):\n",
    "    img = Image.fromarray(x_train[i])\n",
    "    imgs = img.resize(size=(32, 32))\n",
    "    imgs = np.array(imgs)\n",
    "    xtrain.append(np.repeat(imgs[:, :, np.newaxis], 3, axis=2))\n",
    "xtrain = np.array(xtrain,dtype='float32')\n",
    "for i in range(len(x_test)):\n",
    "    img = Image.fromarray(x_test[i])\n",
    "    imgs = img.resize(size=(32, 32))\n",
    "    imgs = np.array(imgs)\n",
    "    xtest.append(np.repeat(imgs[:, :, np.newaxis], 3, axis=2))\n",
    "xtest = np.array(xtest,dtype='float32')\n",
    "print(xtrain.shape,xtest.shape)"
   ]
  },
  {
   "cell_type": "code",
   "execution_count": null,
   "metadata": {},
   "outputs": [],
   "source": [
    "############### Feature-extraction ###############\n",
    "# pretrained model for FE\n",
    "pretrained_model = keras.applications.DenseNet121(input_shape=(32,32,3), weights=None, include_top=False)\n",
    "x = Flatten()(pretrained_model.output)\n",
    "x = Dense(512, activation='relu')(x)\n",
    "x = Dropout(0.5)(x)\n",
    "prediction = Dense(classes, activation='softmax')(x)\n",
    "model = Model(inputs=pretrained_model.input, outputs=prediction)\n",
    "# tell the model what cost and optimization method to use\n",
    "model.compile(\n",
    "  loss='categorical_crossentropy',\n",
    "  optimizer='adam',\n",
    "  metrics=['accuracy']\n",
    ")\n",
    "# fit training data and validate on the testing data\n",
    "model.fit(xtrain,Y_train,batch_size=128, epochs=20,verbose=1,validation_data=(xtest,Y_test))"
   ]
  },
  {
   "cell_type": "code",
   "execution_count": null,
   "metadata": {},
   "outputs": [],
   "source": [
    "score = model.evaluate(xtest,Y_test)\n",
    "acc = model.evaluate(xtrain,Y_train)\n",
    "print('training accuracy: ',acc[1])\n",
    "print('testing accuracy: ',score[1])"
   ]
  }
 ],
 "metadata": {
  "kernelspec": {
   "display_name": "Python 3",
   "language": "python",
   "name": "python3"
  },
  "language_info": {
   "codemirror_mode": {
    "name": "ipython",
    "version": 3
   },
   "file_extension": ".py",
   "mimetype": "text/x-python",
   "name": "python",
   "nbconvert_exporter": "python",
   "pygments_lexer": "ipython3",
   "version": "3.8.5"
  }
 },
 "nbformat": 4,
 "nbformat_minor": 4
}

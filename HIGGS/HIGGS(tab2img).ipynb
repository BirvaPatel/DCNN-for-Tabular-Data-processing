{
 "cells": [
  {
   "cell_type": "code",
   "execution_count": 1,
   "metadata": {
    "id": "DnjV0K0gj8zT"
   },
   "outputs": [],
   "source": [
    "################ Letter-Recognition #################\n",
    "# Disable info messages from the tesnorflow\n",
    "import os\n",
    "os.environ['TF_CPP_MIN_LOG_LEVEL'] = '3' \n",
    "################## Import the libraries #####################\n",
    "import numpy as np\n",
    "import pandas as pd\n",
    "import keras\n",
    "from keras.models import Model, Sequential\n",
    "from keras.utils import to_categorical\n",
    "from keras.layers import Input, Dense, Dropout, Flatten, Conv2D,MaxPooling2D\n",
    "from sklearn.model_selection import train_test_split\n",
    "from sklearn.preprocessing import LabelEncoder,StandardScaler,MinMaxScaler,scale\n",
    "from sklearn.metrics import accuracy_score\n",
    "from scipy.ndimage import zoom"
   ]
  },
  {
   "cell_type": "code",
   "execution_count": 2,
   "metadata": {
    "colab": {
     "base_uri": "https://localhost:8080/"
    },
    "id": "Anid1ssxj8zZ",
    "outputId": "d63fc54a-4ff9-42a1-ea2e-9e2c0bd4dd8b"
   },
   "outputs": [
    {
     "name": "stdout",
     "output_type": "stream",
     "text": [
      "           0         1         2         3         4         5         6   \\\n",
      "3667426   0.0  1.469563  0.262917  0.991399  1.400955  1.570351  0.704459   \n",
      "3238447   0.0  1.066943  1.709261  0.086975  0.522069  1.717988  0.504756   \n",
      "370091    1.0  1.390869 -0.407173  0.273408  0.439804 -1.413787  1.313922   \n",
      "10685439  0.0  1.496465  1.147281  1.041336  0.595993  0.006550  0.528574   \n",
      "677259    1.0  1.698324 -1.038305 -1.598799  0.758006 -0.951673  1.103409   \n",
      "...       ...       ...       ...       ...       ...       ...       ...   \n",
      "9678150   1.0  0.535302  0.941774 -1.431786  0.205735  0.067287  0.966548   \n",
      "4255222   0.0  0.442516 -0.504570 -0.072928  1.070002 -1.524339  1.021604   \n",
      "4460195   0.0  0.588740 -0.066284  1.651684  1.449585 -1.021703  0.611295   \n",
      "5105307   1.0  0.600453  0.636921 -1.187647  0.767268  1.026184  0.845351   \n",
      "9598193   0.0  0.761501 -1.945070 -1.037834  1.491004 -0.230808  0.614776   \n",
      "\n",
      "                7         8         9   ...        19        20        21  \\\n",
      "3667426   0.226737  0.373810  2.173076  ... -0.310271 -1.578437  0.000000   \n",
      "3238447  -0.996197  1.618937  0.000000  ... -0.894913 -0.721653  0.000000   \n",
      "370091    1.297176 -1.513944  0.000000  ...  1.111358 -0.903109  0.000000   \n",
      "10685439  0.844641 -0.768863  0.000000  ...  0.306018 -1.141166  3.101961   \n",
      "677259   -1.172458  0.423149  2.173076  ... -0.376064 -1.560125  0.000000   \n",
      "...            ...       ...       ...  ...       ...       ...       ...   \n",
      "9678150  -0.743688  0.076110  2.173076  ... -1.234705 -1.568448  0.000000   \n",
      "4255222  -0.668431 -0.493890  2.173076  ... -1.671104  0.234566  0.000000   \n",
      "4460195  -1.101161  0.948143  2.173076  ...  0.903153  0.464300  1.550981   \n",
      "5105307   0.787207 -0.558200  1.086538  ...  0.078658  1.626286  0.000000   \n",
      "9598193  -0.763493  1.444309  2.173076  ...  0.365149  1.168483  3.101961   \n",
      "\n",
      "                22        23        24        25        26        27        28  \n",
      "3667426   0.778153  0.835152  0.991375  0.928919  1.357744  0.971461  0.878374  \n",
      "3238447   0.829686  0.877553  1.028697  0.685387  1.291345  0.984477  1.068384  \n",
      "370091    1.085858  1.360851  1.082122  0.841107  1.031089  1.189006  1.128260  \n",
      "10685439  0.834925  0.888633  1.050274  0.799156  0.649601  0.717548  0.726463  \n",
      "677259    0.657848  1.016655  0.983830  0.847787  0.864689  0.948201  0.814904  \n",
      "...            ...       ...       ...       ...       ...       ...       ...  \n",
      "9678150   1.011193  1.024864  0.991304  0.910405  1.067489  0.917652  0.791509  \n",
      "4255222   0.722602  1.040046  0.986989  0.711201  1.512411  0.885169  0.765680  \n",
      "4460195   1.222374  0.986408  0.981536  1.035731  1.139102  0.896257  0.859018  \n",
      "5105307   0.856405  1.212355  0.988092  1.032570  0.920406  0.988364  0.872297  \n",
      "9598193   1.117693  0.876340  0.988159  1.047329  0.426574  0.877462  0.846606  \n",
      "\n",
      "[700000 rows x 29 columns]\n"
     ]
    }
   ],
   "source": [
    "############### Load the dataset ###################\n",
    "path = 'HIGGS.csv'\n",
    "classes = 2\n",
    "data=pd.read_csv(path, header=None)\n",
    "samples = data.sample(n=700000)\n",
    "del data\n",
    "print(samples)"
   ]
  },
  {
   "cell_type": "code",
   "execution_count": 3,
   "metadata": {
    "id": "TqnBLUC3kIjH"
   },
   "outputs": [],
   "source": [
    "X =samples.iloc[:,1:]\n",
    "Y =samples.iloc[:,0]\n",
    "X = MinMaxScaler().fit_transform(X)\n",
    "classes = 2\n",
    "Y = to_categorical(Y,classes)"
   ]
  },
  {
   "cell_type": "code",
   "execution_count": 4,
   "metadata": {
    "colab": {
     "base_uri": "https://localhost:8080/"
    },
    "id": "YIKq52F-kLkA",
    "outputId": "db597a1a-f63a-437e-a4c3-9181c2d24c8b"
   },
   "outputs": [
    {
     "name": "stdout",
     "output_type": "stream",
     "text": [
      "(560000, 28) (560000, 2)\n",
      "(140000, 28) (140000, 2)\n"
     ]
    }
   ],
   "source": [
    "X_train, X_test, Y_train, Y_test = train_test_split(X,Y,test_size=0.2)\n",
    "print(X_train.shape,Y_train.shape)\n",
    "print(X_test.shape,Y_test.shape)"
   ]
  },
  {
   "cell_type": "code",
   "execution_count": 5,
   "metadata": {
    "id": "HBDGhCaPj8zZ"
   },
   "outputs": [],
   "source": [
    "y_train = np.argmax(Y_train,axis=-1)\n",
    "from tab2img.converter import Tab2Img\n",
    "model = Tab2Img()\n",
    "X_train = model.fit_transform(X_train, y_train)\n",
    "X_test = model.transform(X_test)"
   ]
  },
  {
   "cell_type": "code",
   "execution_count": 6,
   "metadata": {
    "id": "TsR8cyD7j8za"
   },
   "outputs": [
    {
     "name": "stdout",
     "output_type": "stream",
     "text": [
      "(560000, 32, 32, 3) (140000, 32, 32, 3)\n"
     ]
    }
   ],
   "source": [
    "from PIL import Image\n",
    "x_train = []\n",
    "x_test = []\n",
    "for i in range(len(X_train)):\n",
    "    img = Image.fromarray(X_train[i])\n",
    "    imgs = img.resize(size=(32, 32))\n",
    "    imgs = np.array(imgs)\n",
    "    x_train.append(np.repeat(imgs[:, :, np.newaxis], 3, axis=2))\n",
    "x_train = np.array(x_train,dtype='float32')\n",
    "\n",
    "for i in range(len(X_test)):\n",
    "    img = Image.fromarray(X_test[i])\n",
    "    imgs = img.resize(size=(32, 32))\n",
    "    imgs = np.array(imgs)\n",
    "    x_test.append(np.repeat(imgs[:, :, np.newaxis], 3, axis=2))\n",
    "x_test = np.array(x_test,dtype='float32')\n",
    "\n",
    "print(x_train.shape,x_test.shape)"
   ]
  },
  {
   "cell_type": "code",
   "execution_count": 7,
   "metadata": {
    "id": "39i8OzM8j8za"
   },
   "outputs": [
    {
     "name": "stdout",
     "output_type": "stream",
     "text": [
      "Epoch 1/20\n",
      "2188/2188 [==============================] - 162s 74ms/step - loss: 0.6151 - accuracy: 0.6589 - val_loss: 0.5980 - val_accuracy: 0.6720\n",
      "Epoch 2/20\n",
      "2188/2188 [==============================] - 160s 73ms/step - loss: 0.5620 - accuracy: 0.7116 - val_loss: 0.6076 - val_accuracy: 0.6570\n",
      "Epoch 3/20\n",
      "2188/2188 [==============================] - 161s 74ms/step - loss: 0.5513 - accuracy: 0.7184 - val_loss: 0.7195 - val_accuracy: 0.6496\n",
      "Epoch 4/20\n",
      "2188/2188 [==============================] - 161s 74ms/step - loss: 0.5443 - accuracy: 0.7232 - val_loss: 0.5549 - val_accuracy: 0.7114\n",
      "Epoch 5/20\n",
      "2188/2188 [==============================] - 161s 74ms/step - loss: 0.5363 - accuracy: 0.7291 - val_loss: 0.5631 - val_accuracy: 0.7076\n",
      "Epoch 6/20\n",
      "2188/2188 [==============================] - 160s 73ms/step - loss: 0.5266 - accuracy: 0.7351 - val_loss: 0.5344 - val_accuracy: 0.7264\n",
      "Epoch 7/20\n",
      "2188/2188 [==============================] - 161s 73ms/step - loss: 0.5186 - accuracy: 0.7402 - val_loss: 0.5275 - val_accuracy: 0.7312\n",
      "Epoch 8/20\n",
      "2188/2188 [==============================] - 161s 74ms/step - loss: 0.5120 - accuracy: 0.7440 - val_loss: 0.5347 - val_accuracy: 0.7287\n",
      "Epoch 9/20\n",
      "2188/2188 [==============================] - 160s 73ms/step - loss: 0.5061 - accuracy: 0.7479 - val_loss: 0.5166 - val_accuracy: 0.7395\n",
      "Epoch 10/20\n",
      "2188/2188 [==============================] - 159s 72ms/step - loss: 0.5009 - accuracy: 0.7510 - val_loss: 0.5167 - val_accuracy: 0.7380\n",
      "Epoch 11/20\n",
      "2188/2188 [==============================] - 158s 72ms/step - loss: 0.4954 - accuracy: 0.7553 - val_loss: 0.5106 - val_accuracy: 0.7423\n",
      "Epoch 12/20\n",
      "2188/2188 [==============================] - 158s 72ms/step - loss: 0.4892 - accuracy: 0.7585 - val_loss: 0.5150 - val_accuracy: 0.7419\n",
      "Epoch 13/20\n",
      "2188/2188 [==============================] - 156s 71ms/step - loss: 0.4848 - accuracy: 0.7619 - val_loss: 0.5302 - val_accuracy: 0.7355\n",
      "Epoch 14/20\n",
      "2188/2188 [==============================] - 156s 71ms/step - loss: 0.4762 - accuracy: 0.7669 - val_loss: 0.5208 - val_accuracy: 0.7384\n",
      "Epoch 15/20\n",
      "2188/2188 [==============================] - 156s 71ms/step - loss: 0.4690 - accuracy: 0.7714 - val_loss: 0.5080 - val_accuracy: 0.7449\n",
      "Epoch 16/20\n",
      "2188/2188 [==============================] - 156s 71ms/step - loss: 0.4591 - accuracy: 0.7773 - val_loss: 0.5313 - val_accuracy: 0.7365\n",
      "Epoch 17/20\n",
      "2188/2188 [==============================] - 156s 71ms/step - loss: 0.4486 - accuracy: 0.7835 - val_loss: 0.5259 - val_accuracy: 0.7404\n",
      "Epoch 18/20\n",
      "2188/2188 [==============================] - 156s 72ms/step - loss: 0.4357 - accuracy: 0.7917 - val_loss: 0.5346 - val_accuracy: 0.7413\n",
      "Epoch 19/20\n",
      "2188/2188 [==============================] - 155s 71ms/step - loss: 0.4200 - accuracy: 0.8003 - val_loss: 0.5508 - val_accuracy: 0.7413\n",
      "Epoch 20/20\n",
      "2188/2188 [==============================] - 156s 71ms/step - loss: 0.4039 - accuracy: 0.8091 - val_loss: 0.5681 - val_accuracy: 0.7363\n"
     ]
    },
    {
     "data": {
      "text/plain": [
       "<tensorflow.python.keras.callbacks.History at 0x24f9de289a0>"
      ]
     },
     "execution_count": 7,
     "metadata": {},
     "output_type": "execute_result"
    }
   ],
   "source": [
    "############### Feature-extraction ###############\n",
    "# pretrained model for FE\n",
    "pretrained_model = keras.applications.DenseNet121(input_shape=(32,32,3), weights=None, include_top=False)\n",
    "x = Flatten()(pretrained_model.output)\n",
    "x = Dense(512, activation='relu',name='flattenn')(x)\n",
    "x = Dropout(0.5)(x)\n",
    "prediction = Dense(classes, activation='softmax')(x)\n",
    "model = Model(inputs=pretrained_model.input, outputs=prediction)\n",
    "# tell the model what cost and optimization method to use\n",
    "model.compile(\n",
    "  loss='categorical_crossentropy',\n",
    "  optimizer='adam',\n",
    "  metrics=['accuracy']\n",
    ")\n",
    "# fit training data and validate on the testing data\n",
    "model.fit(x_train,Y_train,batch_size=256, epochs=20,verbose=1,validation_data=(x_test,Y_test))"
   ]
  },
  {
   "cell_type": "code",
   "execution_count": 8,
   "metadata": {
    "id": "BYxaShuXj8za"
   },
   "outputs": [
    {
     "name": "stdout",
     "output_type": "stream",
     "text": [
      "4375/4375 [==============================] - 38s 9ms/step - loss: 0.5681 - accuracy: 0.7363\n",
      "17500/17500 [==============================] - 149s 9ms/step - loss: 0.3688 - accuracy: 0.8280\n",
      "training accuracy:  0.8279678821563721\n",
      "testing accuracy:  0.7363214492797852\n"
     ]
    }
   ],
   "source": [
    "score = model.evaluate(x_test,Y_test)\n",
    "acc = model.evaluate(x_train,Y_train)\n",
    "print('training accuracy: ',acc[1])\n",
    "print('testing accuracy: ',score[1])"
   ]
  }
 ],
 "metadata": {
  "accelerator": "GPU",
  "colab": {
   "name": "HIGGS(tab2img).ipynb",
   "provenance": []
  },
  "kernelspec": {
   "display_name": "Python 3",
   "language": "python",
   "name": "python3"
  },
  "language_info": {
   "codemirror_mode": {
    "name": "ipython",
    "version": 3
   },
   "file_extension": ".py",
   "mimetype": "text/x-python",
   "name": "python",
   "nbconvert_exporter": "python",
   "pygments_lexer": "ipython3",
   "version": "3.8.5"
  }
 },
 "nbformat": 4,
 "nbformat_minor": 1
}

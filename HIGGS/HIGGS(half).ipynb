{
 "cells": [
  {
   "cell_type": "code",
   "execution_count": 1,
   "metadata": {},
   "outputs": [],
   "source": [
    "################ Letter-Recognition #################\n",
    "# Disable info messages from the tesnorflow\n",
    "import os\n",
    "os.environ['TF_CPP_MIN_LOG_LEVEL'] = '3' \n",
    "################## Import the libraries #####################\n",
    "import numpy as np\n",
    "import pandas as pd\n",
    "import keras\n",
    "from keras.models import Model, Sequential\n",
    "from keras.utils import to_categorical\n",
    "from keras.layers import Input, Dense, Dropout, Flatten, Conv2D,MaxPooling2D\n",
    "from sklearn.model_selection import train_test_split\n",
    "from sklearn.preprocessing import LabelEncoder,StandardScaler,MinMaxScaler,scale\n",
    "from sklearn.metrics import accuracy_score\n",
    "from scipy.ndimage import zoom"
   ]
  },
  {
   "cell_type": "code",
   "execution_count": 2,
   "metadata": {},
   "outputs": [
    {
     "name": "stdout",
     "output_type": "stream",
     "text": [
      "          0         1         2         3         4         5         6   \\\n",
      "6974     0.0  0.316789 -0.988632  0.431544  2.229713 -0.760718  1.019955   \n",
      "1294416  1.0  0.463196  0.710943 -0.217192  1.744388  1.272113  0.810083   \n",
      "6031723  0.0  0.343874  0.510305  1.591204  0.632275  0.324807  0.730659   \n",
      "6585226  1.0  0.419457 -0.071154 -0.789811  1.177361  0.791589  0.662778   \n",
      "1395076  0.0  0.377731  0.728474 -0.782598  0.740253  0.779623  0.765012   \n",
      "...      ...       ...       ...       ...       ...       ...       ...   \n",
      "5480741  0.0  0.852273  1.631344  0.428215  2.291045  0.642070  0.802388   \n",
      "9413401  0.0  0.768272  0.777173  1.670549  0.983377  0.162802  0.690810   \n",
      "8188728  1.0  0.678415  0.601858  0.174643  1.001682 -0.228374  1.348733   \n",
      "3354899  1.0  0.564034 -0.769490 -1.268657  0.287806 -0.081558  0.539841   \n",
      "5525977  1.0  0.893999  1.075207  1.261062  0.923675  0.605190  0.868986   \n",
      "\n",
      "               7         8         9   ...        19        20        21  \\\n",
      "6974     0.822856  1.738682  2.173076  ... -1.803523  0.406589  0.000000   \n",
      "1294416  2.534963 -0.026552  0.000000  ... -0.297779  0.083075  3.101961   \n",
      "6031723  0.035623 -1.470148  0.000000  ...  1.111358  1.374356  3.101961   \n",
      "6585226 -0.033693  1.722051  0.000000  ... -0.994852  1.301107  3.101961   \n",
      "1395076  0.560445 -0.128557  2.173076  ...  0.572522 -1.542922  3.101961   \n",
      "...           ...       ...       ...  ...       ...       ...       ...   \n",
      "5480741 -1.146712 -1.429124  1.086538  ... -0.771655  1.728945  0.000000   \n",
      "9413401 -0.206983  1.156033  2.173076  ...  1.735976 -0.481373  0.000000   \n",
      "8188728  0.702048  0.472489  0.000000  ...  2.469693 -1.466344  0.000000   \n",
      "3354899  0.031662 -1.521150  2.173076  ...  1.654359 -0.158414  0.000000   \n",
      "5525977  0.902074 -0.482248  0.000000  ...  1.332889 -1.177790  0.000000   \n",
      "\n",
      "               22        23        24        25        26        27        28  \n",
      "6974     0.882844  1.209172  1.023331  0.503801  1.338394  1.159712  1.288522  \n",
      "1294416  0.863749  0.963380  1.213008  1.244704  0.814969  0.924192  0.870887  \n",
      "6031723  1.071263  1.094072  0.989544  0.938878  1.126587  0.806247  0.779543  \n",
      "6585226  1.292332  0.919665  0.985804  0.662815  0.820310  0.674527  0.640734  \n",
      "1395076  1.201825  0.918224  0.988564  0.819094  0.962857  0.898845  0.932087  \n",
      "...           ...       ...       ...       ...       ...       ...       ...  \n",
      "5480741  0.560684  0.710330  0.999305  2.498286  0.904383  2.740260  1.962715  \n",
      "9413401  0.483118  0.883330  1.176990  0.791169  1.175091  0.771518  0.654867  \n",
      "8188728  0.885565  1.058544  0.977194  0.576735  0.845324  0.794528  0.766611  \n",
      "3354899  0.903137  1.062674  0.992198  0.637662  0.698472  0.826600  0.724222  \n",
      "5525977  0.975839  0.749888  0.986761  0.586950  0.709011  0.827683  0.783999  \n",
      "\n",
      "[700000 rows x 29 columns]\n"
     ]
    }
   ],
   "source": [
    "############### Load the dataset ###################\n",
    "path = 'HIGGS.csv'\n",
    "classes = 2\n",
    "data=pd.read_csv(path, header=None)\n",
    "samples = data.sample(n=700000)\n",
    "print(samples)"
   ]
  },
  {
   "cell_type": "code",
   "execution_count": 4,
   "metadata": {},
   "outputs": [],
   "source": [
    "X =samples.iloc[:,1:]\n",
    "Y =samples.iloc[:,0]\n",
    "X = MinMaxScaler().fit_transform(X)\n",
    "classes = 2\n",
    "Y = to_categorical(Y,classes)"
   ]
  },
  {
   "cell_type": "code",
   "execution_count": 5,
   "metadata": {},
   "outputs": [
    {
     "name": "stdout",
     "output_type": "stream",
     "text": [
      "(560000, 28) (560000, 2)\n",
      "(140000, 28) (140000, 2)\n"
     ]
    }
   ],
   "source": [
    "X_train, X_test, Y_train, Y_test = train_test_split(X,Y,test_size=0.2)\n",
    "print(X_train.shape,Y_train.shape)\n",
    "print(X_test.shape,Y_test.shape)"
   ]
  },
  {
   "cell_type": "code",
   "execution_count": 6,
   "metadata": {},
   "outputs": [
    {
     "name": "stdout",
     "output_type": "stream",
     "text": [
      "1094/1094 [==============================] - 1s 1ms/step - loss: 0.6680\n",
      "1094/1094 [==============================] - 1s 1ms/step - loss: 0.6526\n",
      "1094/1094 [==============================] - 1s 1ms/step - loss: 0.6423\n",
      "1094/1094 [==============================] - 1s 1ms/step - loss: 0.6371\n",
      "1094/1094 [==============================] - 1s 1ms/step - loss: 0.6310\n",
      "1094/1094 [==============================] - 1s 1ms/step - loss: 0.6267\n",
      "1094/1094 [==============================] - 2s 1ms/step - loss: 0.6220\n",
      "1094/1094 [==============================] - 2s 2ms/step - loss: 0.6194\n",
      "1094/1094 [==============================] - 2s 2ms/step - loss: 0.6171\n",
      "(560000, 784) (140000, 784)\n"
     ]
    }
   ],
   "source": [
    "n = X_train.shape[1]\n",
    "dim = X_train.shape[1]\n",
    "final_dim = min(32*32,n*n)\n",
    "# convert 2-D to 3-D.\n",
    "while dim<final_dim:\n",
    "  features = int(dim/2)\n",
    "  #f = feature-60\n",
    "  model = Sequential()\n",
    "  if (dim+features)>final_dim:\n",
    "    features = final_dim - dim\n",
    "    model.add(Dense(features,name='feature', activation='relu',input_shape=(dim,)))\n",
    "  else:\n",
    "    model.add(Dense(features,name='feature', activation='relu',input_shape=(dim,)))\n",
    "  model.add(Dense(classes,activation='softmax'))\n",
    "  model.compile(loss='categorical_crossentropy',optimizer='adam')\n",
    "  model.fit(X_train,Y_train,epochs=1,batch_size=512,verbose=1)\n",
    "  extract = Model(model.inputs, model.get_layer('feature').output)\n",
    "  features1 = extract.predict(X_train)\n",
    "  features2 = extract.predict(X_test)\n",
    "  X_train = np.concatenate((X_train, features1), axis=1) # concatenate on horizontal axis\n",
    "  X_test = np.concatenate((X_test, features2), axis=1)\n",
    "  dim = X_train.shape[1]\n",
    "print(X_train.shape,X_test.shape)\n",
    "s = MinMaxScaler()\n",
    "X_train = s.fit_transform(X_train)\n",
    "X_test = s.transform(X_test)"
   ]
  },
  {
   "cell_type": "code",
   "execution_count": 7,
   "metadata": {},
   "outputs": [
    {
     "name": "stdout",
     "output_type": "stream",
     "text": [
      "(560000, 32, 32, 3) (140000, 32, 32, 3)\n"
     ]
    }
   ],
   "source": [
    "from PIL import Image\n",
    "x_train = []\n",
    "x_test = []\n",
    "for i in range(len(X_train)):\n",
    "    img = Image.fromarray(X_train[i])\n",
    "    imgs = img.resize(size=(32, 32))\n",
    "    imgs = np.array(imgs)\n",
    "    x_train.append(np.repeat(imgs[:, :, np.newaxis], 3, axis=2))\n",
    "x_train = np.array(x_train,dtype='float32')\n",
    "for i in range(len(X_test)):\n",
    "    img = Image.fromarray(X_test[i])\n",
    "    imgs = img.resize(size=(32, 32))\n",
    "    imgs = np.array(imgs)\n",
    "    x_test.append(np.repeat(imgs[:, :, np.newaxis], 3, axis=2))\n",
    "x_test = np.array(x_test,dtype='float32')\n",
    "print(x_train.shape,x_test.shape)"
   ]
  },
  {
   "cell_type": "code",
   "execution_count": 8,
   "metadata": {},
   "outputs": [
    {
     "name": "stdout",
     "output_type": "stream",
     "text": [
      "Epoch 1/10\n",
      "2188/2188 [==============================] - 158s 72ms/step - loss: 0.6256 - accuracy: 0.6540 - val_loss: 0.7184 - val_accuracy: 0.4828\n",
      "Epoch 2/10\n",
      "2188/2188 [==============================] - 153s 70ms/step - loss: 0.6210 - accuracy: 0.6548 - val_loss: 0.6202 - val_accuracy: 0.6522\n",
      "Epoch 3/10\n",
      "2188/2188 [==============================] - 157s 72ms/step - loss: 0.6192 - accuracy: 0.6563 - val_loss: 0.6525 - val_accuracy: 0.6088\n",
      "Epoch 4/10\n",
      "2188/2188 [==============================] - 157s 72ms/step - loss: 0.6191 - accuracy: 0.6564 - val_loss: 0.6181 - val_accuracy: 0.6540\n",
      "Epoch 5/10\n",
      "2188/2188 [==============================] - 157s 72ms/step - loss: 0.6178 - accuracy: 0.6565 - val_loss: 0.6188 - val_accuracy: 0.6532\n",
      "Epoch 6/10\n",
      "2188/2188 [==============================] - 157s 72ms/step - loss: 0.6174 - accuracy: 0.6565 - val_loss: 0.6181 - val_accuracy: 0.6548\n",
      "Epoch 7/10\n",
      "2188/2188 [==============================] - 158s 72ms/step - loss: 0.6170 - accuracy: 0.6577 - val_loss: 0.6189 - val_accuracy: 0.6554\n",
      "Epoch 8/10\n",
      "2188/2188 [==============================] - 156s 71ms/step - loss: 0.6170 - accuracy: 0.6574 - val_loss: 0.6158 - val_accuracy: 0.6571\n",
      "Epoch 9/10\n",
      "2188/2188 [==============================] - 156s 71ms/step - loss: 0.6164 - accuracy: 0.6579 - val_loss: 0.6189 - val_accuracy: 0.6555\n",
      "Epoch 10/10\n",
      "2188/2188 [==============================] - 156s 71ms/step - loss: 0.6161 - accuracy: 0.6581 - val_loss: 0.6177 - val_accuracy: 0.6532\n"
     ]
    },
    {
     "data": {
      "text/plain": [
       "<tensorflow.python.keras.callbacks.History at 0x2a43c497700>"
      ]
     },
     "execution_count": 8,
     "metadata": {},
     "output_type": "execute_result"
    }
   ],
   "source": [
    "############### Feature-extraction ###############\n",
    "# pretrained model for FE\n",
    "pretrained_model = keras.applications.DenseNet121(input_shape=(32,32,3), weights=None, include_top=False)\n",
    "x = Flatten()(pretrained_model.output)\n",
    "x = Dense(512, activation='relu',name='flattenn')(x)\n",
    "x = Dropout(0.5)(x)\n",
    "prediction = Dense(classes, activation='softmax')(x)\n",
    "model = Model(inputs=pretrained_model.input, outputs=prediction)\n",
    "# tell the model what cost and optimization method to use\n",
    "model.compile(\n",
    "  loss='categorical_crossentropy',\n",
    "  optimizer='adam',\n",
    "  metrics=['accuracy']\n",
    ")\n",
    "# fit training data and validate on the testing data\n",
    "model.fit(x_train,Y_train,batch_size=256, epochs=10,verbose=1,validation_data=(x_test,Y_test))"
   ]
  },
  {
   "cell_type": "code",
   "execution_count": 9,
   "metadata": {},
   "outputs": [
    {
     "name": "stdout",
     "output_type": "stream",
     "text": [
      "4375/4375 [==============================] - 41s 9ms/step - loss: 0.6177 - accuracy: 0.6532\n",
      "17500/17500 [==============================] - 166s 9ms/step - loss: 0.6164 - accuracy: 0.6540\n",
      "training accuracy:  0.6540499925613403\n",
      "testing accuracy:  0.6532214283943176\n"
     ]
    }
   ],
   "source": [
    "score = model.evaluate(x_test,Y_test)\n",
    "acc = model.evaluate(x_train,Y_train)\n",
    "print('training accuracy: ',acc[1])\n",
    "print('testing accuracy: ',score[1])"
   ]
  },
  {
   "cell_type": "code",
   "execution_count": null,
   "metadata": {},
   "outputs": [],
   "source": []
  }
 ],
 "metadata": {
  "kernelspec": {
   "display_name": "Python 3",
   "language": "python",
   "name": "python3"
  },
  "language_info": {
   "codemirror_mode": {
    "name": "ipython",
    "version": 3
   },
   "file_extension": ".py",
   "mimetype": "text/x-python",
   "name": "python",
   "nbconvert_exporter": "python",
   "pygments_lexer": "ipython3",
   "version": "3.8.5"
  }
 },
 "nbformat": 4,
 "nbformat_minor": 4
}

{
 "cells": [
  {
   "cell_type": "code",
   "execution_count": 1,
   "metadata": {},
   "outputs": [],
   "source": [
    "################ Letter-Recognition #################\n",
    "# Disable info messages from the tesnorflow\n",
    "import os\n",
    "os.environ['TF_CPP_MIN_LOG_LEVEL'] = '3' \n",
    "################## Import the libraries #####################\n",
    "import numpy as np\n",
    "import pandas as pd\n",
    "import keras\n",
    "from keras.models import Model, Sequential\n",
    "from keras.utils import to_categorical\n",
    "from keras.layers import Input, Dense, Dropout, Flatten, Conv2D,MaxPooling2D\n",
    "from sklearn.model_selection import train_test_split\n",
    "from sklearn.preprocessing import LabelEncoder,StandardScaler,MinMaxScaler,scale\n",
    "from sklearn.metrics import accuracy_score"
   ]
  },
  {
   "cell_type": "code",
   "execution_count": 13,
   "metadata": {},
   "outputs": [
    {
     "name": "stdout",
     "output_type": "stream",
     "text": [
      "(700000, 28)\n"
     ]
    }
   ],
   "source": [
    "############### Load the dataset ###################\n",
    "path_train = '1000_train.csv'\n",
    "train_data=pd.read_csv(path_train)\n",
    "samples = train_data.sample(n=700000)\n",
    "print(samples.shape)"
   ]
  },
  {
   "cell_type": "code",
   "execution_count": 15,
   "metadata": {},
   "outputs": [],
   "source": [
    "X =samples.iloc[:,1:]\n",
    "Y =samples.iloc[:,0]\n",
    "classes = 2\n",
    "Y = to_categorical(Y,classes)"
   ]
  },
  {
   "cell_type": "code",
   "execution_count": 16,
   "metadata": {},
   "outputs": [
    {
     "name": "stdout",
     "output_type": "stream",
     "text": [
      "(560000, 27) (560000, 2)\n",
      "(140000, 27) (140000, 2)\n"
     ]
    }
   ],
   "source": [
    "X_train, X_test, Y_train, Y_test = train_test_split(X,Y,test_size=0.2)\n",
    "print(X_train.shape,Y_train.shape)\n",
    "print(X_test.shape,Y_test.shape)"
   ]
  },
  {
   "cell_type": "code",
   "execution_count": 17,
   "metadata": {},
   "outputs": [],
   "source": [
    "s = MinMaxScaler()\n",
    "X_train = s.fit_transform(X_train)\n",
    "X_test = s.transform(X_test)"
   ]
  },
  {
   "cell_type": "code",
   "execution_count": 18,
   "metadata": {},
   "outputs": [
    {
     "name": "stdout",
     "output_type": "stream",
     "text": [
      "Epoch 1/5\n",
      "1094/1094 [==============================] - 1s 1ms/step - loss: 0.3697 - accuracy: 0.8411\n",
      "Epoch 2/5\n",
      "1094/1094 [==============================] - 1s 1ms/step - loss: 0.2587 - accuracy: 0.8996\n",
      "Epoch 3/5\n",
      "1094/1094 [==============================] - 1s 1ms/step - loss: 0.2485 - accuracy: 0.9038\n",
      "Epoch 4/5\n",
      "1094/1094 [==============================] - 1s 1ms/step - loss: 0.2436 - accuracy: 0.9057\n",
      "Epoch 5/5\n",
      "1094/1094 [==============================] - 1s 1ms/step - loss: 0.2404 - accuracy: 0.9072\n",
      "(560000, 36) (140000, 36)\n",
      "(560000, 6, 6) (140000, 6, 6)\n"
     ]
    }
   ],
   "source": [
    "dim = X_train.shape[1]\n",
    "x = int(dim**(1/2)) +1\n",
    "f = x*x\n",
    "model = Sequential()\n",
    "model.add(Dense(f-dim,name='feature', activation='relu',input_shape=(dim,)))\n",
    "model.add(Dense(classes,activation='softmax'))\n",
    "model.compile(loss='categorical_crossentropy',optimizer='adam', metrics=['accuracy'])\n",
    "# here, inputs and labels are same\n",
    "model.fit(X_train,Y_train,epochs=5,batch_size=512,verbose=1)\n",
    "extract = Model(model.inputs, model.get_layer('feature').output)\n",
    "# predict whole inputs through it\n",
    "x1 = extract.predict(X_train)\n",
    "x2 = extract.predict(X_test)\n",
    "# concatenate on horizontal axis\n",
    "X1 = np.concatenate((X_train, x1), axis=1) \n",
    "X2 = np.concatenate((X_test, x2), axis=1) \n",
    "print(X1.shape,X2.shape)\n",
    "train = X1.reshape(X1.shape[0],x,x)\n",
    "test = X2.reshape(X2.shape[0],x,x)\n",
    "print(train.shape,test.shape)"
   ]
  },
  {
   "cell_type": "code",
   "execution_count": 19,
   "metadata": {},
   "outputs": [],
   "source": [
    "del X_train,X_test,X1,X2,x1,x2"
   ]
  },
  {
   "cell_type": "code",
   "execution_count": 20,
   "metadata": {},
   "outputs": [
    {
     "name": "stdout",
     "output_type": "stream",
     "text": [
      "(560000, 32, 32, 3) (140000, 32, 32, 3)\n"
     ]
    }
   ],
   "source": [
    "from PIL import Image\n",
    "x_train = []\n",
    "x_test = []\n",
    "for i in range(len(train)):\n",
    "    img = Image.fromarray(train[i])\n",
    "    imgs = img.resize(size=(32, 32))\n",
    "    imgs = np.array(imgs)\n",
    "    x_train.append(np.repeat(imgs[:, :, np.newaxis], 3, axis=2))\n",
    "x_train = np.array(x_train,dtype='float32')\n",
    "for i in range(len(test)):\n",
    "    img = Image.fromarray(test[i])\n",
    "    imgs = img.resize(size=(32, 32))\n",
    "    imgs = np.array(imgs)\n",
    "    x_test.append(np.repeat(imgs[:, :, np.newaxis], 3, axis=2))\n",
    "x_test = np.array(x_test,dtype='float32')\n",
    "print(x_train.shape,x_test.shape)"
   ]
  },
  {
   "cell_type": "code",
   "execution_count": 21,
   "metadata": {},
   "outputs": [
    {
     "name": "stdout",
     "output_type": "stream",
     "text": [
      "Epoch 1/20\n",
      "2188/2188 [==============================] - 160s 73ms/step - loss: 0.2387 - accuracy: 0.9087 - val_loss: 0.2264 - val_accuracy: 0.9114\n",
      "Epoch 2/20\n",
      "2188/2188 [==============================] - 156s 71ms/step - loss: 0.2264 - accuracy: 0.9133 - val_loss: 0.2348 - val_accuracy: 0.9146\n",
      "Epoch 3/20\n",
      "2188/2188 [==============================] - 158s 72ms/step - loss: 0.2321 - accuracy: 0.9110 - val_loss: 0.2416 - val_accuracy: 0.9063\n",
      "Epoch 4/20\n",
      "2188/2188 [==============================] - 159s 73ms/step - loss: 0.2266 - accuracy: 0.9126 - val_loss: 0.2220 - val_accuracy: 0.9142\n",
      "Epoch 5/20\n",
      "2188/2188 [==============================] - 159s 73ms/step - loss: 0.2197 - accuracy: 0.9154 - val_loss: 0.2177 - val_accuracy: 0.9168\n",
      "Epoch 6/20\n",
      "2188/2188 [==============================] - 159s 73ms/step - loss: 0.2145 - accuracy: 0.9178 - val_loss: 0.2342 - val_accuracy: 0.9079\n",
      "Epoch 7/20\n",
      "2188/2188 [==============================] - 160s 73ms/step - loss: 0.2128 - accuracy: 0.9183 - val_loss: 0.2173 - val_accuracy: 0.9183\n",
      "Epoch 8/20\n",
      "2188/2188 [==============================] - 159s 73ms/step - loss: 0.2073 - accuracy: 0.9204 - val_loss: 0.2120 - val_accuracy: 0.9188\n",
      "Epoch 9/20\n",
      "2188/2188 [==============================] - 157s 72ms/step - loss: 0.2097 - accuracy: 0.9201 - val_loss: 0.2066 - val_accuracy: 0.9203\n",
      "Epoch 10/20\n",
      "2188/2188 [==============================] - 159s 73ms/step - loss: 0.2030 - accuracy: 0.9221 - val_loss: 0.2052 - val_accuracy: 0.9203\n",
      "Epoch 11/20\n",
      "2188/2188 [==============================] - 158s 72ms/step - loss: 0.2010 - accuracy: 0.9230 - val_loss: 0.2093 - val_accuracy: 0.9190\n",
      "Epoch 12/20\n",
      "2188/2188 [==============================] - 158s 72ms/step - loss: 0.1991 - accuracy: 0.9238 - val_loss: 0.2094 - val_accuracy: 0.9197\n",
      "Epoch 13/20\n",
      "2188/2188 [==============================] - 158s 72ms/step - loss: 0.2033 - accuracy: 0.9231 - val_loss: 0.2064 - val_accuracy: 0.9210\n",
      "Epoch 14/20\n",
      "2188/2188 [==============================] - 159s 72ms/step - loss: 0.1965 - accuracy: 0.9253 - val_loss: 0.2026 - val_accuracy: 0.9218\n",
      "Epoch 15/20\n",
      "2188/2188 [==============================] - 159s 73ms/step - loss: 0.1931 - accuracy: 0.9263 - val_loss: 0.2061 - val_accuracy: 0.9207\n",
      "Epoch 16/20\n",
      "2188/2188 [==============================] - 159s 73ms/step - loss: 0.1908 - accuracy: 0.9269 - val_loss: 0.2172 - val_accuracy: 0.9204\n",
      "Epoch 17/20\n",
      "2188/2188 [==============================] - 160s 73ms/step - loss: 0.1891 - accuracy: 0.9280 - val_loss: 0.2063 - val_accuracy: 0.9216\n",
      "Epoch 18/20\n",
      "2188/2188 [==============================] - 159s 73ms/step - loss: 0.1857 - accuracy: 0.9293 - val_loss: 0.4029 - val_accuracy: 0.8691\n",
      "Epoch 19/20\n",
      "2188/2188 [==============================] - 158s 72ms/step - loss: 0.1835 - accuracy: 0.9298 - val_loss: 0.2074 - val_accuracy: 0.9210\n",
      "Epoch 20/20\n",
      "2188/2188 [==============================] - 159s 73ms/step - loss: 0.1779 - accuracy: 0.9320 - val_loss: 0.2117 - val_accuracy: 0.9201\n"
     ]
    },
    {
     "data": {
      "text/plain": [
       "<tensorflow.python.keras.callbacks.History at 0x255e5238610>"
      ]
     },
     "execution_count": 21,
     "metadata": {},
     "output_type": "execute_result"
    }
   ],
   "source": [
    "############### Feature-extraction ###############\n",
    "# pretrained model for FE\n",
    "pretrained_model = keras.applications.DenseNet121(input_shape=(32,32,3), weights=None, include_top=False)\n",
    "x = Flatten()(pretrained_model.output)\n",
    "x = Dense(512, activation='relu')(x)\n",
    "x = Dropout(0.5)(x)\n",
    "prediction = Dense(classes, activation='softmax')(x)\n",
    "model = Model(inputs=pretrained_model.input, outputs=prediction)\n",
    "# tell the model what cost and optimization method to use\n",
    "model.compile(\n",
    "  loss='categorical_crossentropy',\n",
    "  optimizer='adam',\n",
    "  metrics=['accuracy']\n",
    ")\n",
    "# fit training data and validate on the testing data\n",
    "model.fit(x_train,Y_train,batch_size=256, epochs=20,verbose=1,validation_data=(x_test,Y_test))"
   ]
  },
  {
   "cell_type": "code",
   "execution_count": 22,
   "metadata": {},
   "outputs": [
    {
     "name": "stdout",
     "output_type": "stream",
     "text": [
      "4375/4375 [==============================] - 39s 9ms/step - loss: 0.2117 - accuracy: 0.9201\n",
      "17500/17500 [==============================] - 154s 9ms/step - loss: 0.1687 - accuracy: 0.9356\n",
      "training accuracy:  0.9355928301811218\n",
      "testing accuracy:  0.9200500249862671\n"
     ]
    }
   ],
   "source": [
    "score = model.evaluate(x_test,Y_test)\n",
    "acc = model.evaluate(x_train,Y_train)\n",
    "print('training accuracy: ',acc[1])\n",
    "print('testing accuracy: ',score[1])"
   ]
  },
  {
   "cell_type": "code",
   "execution_count": null,
   "metadata": {},
   "outputs": [],
   "source": []
  },
  {
   "cell_type": "code",
   "execution_count": null,
   "metadata": {},
   "outputs": [],
   "source": []
  }
 ],
 "metadata": {
  "kernelspec": {
   "display_name": "Python 3",
   "language": "python",
   "name": "python3"
  },
  "language_info": {
   "codemirror_mode": {
    "name": "ipython",
    "version": 3
   },
   "file_extension": ".py",
   "mimetype": "text/x-python",
   "name": "python",
   "nbconvert_exporter": "python",
   "pygments_lexer": "ipython3",
   "version": "3.8.5"
  }
 },
 "nbformat": 4,
 "nbformat_minor": 4
}

{
 "cells": [
  {
   "cell_type": "code",
   "execution_count": 1,
   "metadata": {},
   "outputs": [],
   "source": [
    "################ Letter-Recognition #################\n",
    "# Disable info messages from the tesnorflow\n",
    "import os\n",
    "os.environ['TF_CPP_MIN_LOG_LEVEL'] = '3' \n",
    "################## Import the libraries #####################\n",
    "import numpy as np\n",
    "import pandas as pd\n",
    "import keras\n",
    "from keras.models import Model, Sequential\n",
    "from keras.utils import to_categorical\n",
    "from keras.layers import Input, Dense, Dropout, Flatten, Conv2D,MaxPooling2D\n",
    "from sklearn.model_selection import train_test_split\n",
    "from sklearn.preprocessing import LabelEncoder,StandardScaler,MinMaxScaler,scale\n",
    "from sklearn.metrics import accuracy_score"
   ]
  },
  {
   "cell_type": "code",
   "execution_count": 2,
   "metadata": {},
   "outputs": [
    {
     "name": "stdout",
     "output_type": "stream",
     "text": [
      "(700000, 28)\n"
     ]
    }
   ],
   "source": [
    "############### Load the dataset ###################\n",
    "path_train = '1000_train.csv'\n",
    "train_data=pd.read_csv(path_train)\n",
    "samples = train_data.sample(n=700000)\n",
    "print(samples.shape)"
   ]
  },
  {
   "cell_type": "code",
   "execution_count": 3,
   "metadata": {},
   "outputs": [],
   "source": [
    "X =samples.iloc[:,1:]\n",
    "Y =samples.iloc[:,0]\n",
    "classes = 2\n",
    "Y = to_categorical(Y,classes)"
   ]
  },
  {
   "cell_type": "code",
   "execution_count": 4,
   "metadata": {},
   "outputs": [
    {
     "name": "stdout",
     "output_type": "stream",
     "text": [
      "(560000, 27) (560000, 2)\n",
      "(140000, 27) (140000, 2)\n"
     ]
    }
   ],
   "source": [
    "X_train, X_test, Y_train, Y_test = train_test_split(X,Y,test_size=0.2)\n",
    "print(X_train.shape,Y_train.shape)\n",
    "print(X_test.shape,Y_test.shape)"
   ]
  },
  {
   "cell_type": "code",
   "execution_count": 5,
   "metadata": {},
   "outputs": [],
   "source": [
    "s = MinMaxScaler()\n",
    "X_train = s.fit_transform(X_train)\n",
    "X_test = s.transform(X_test)"
   ]
  },
  {
   "cell_type": "code",
   "execution_count": 6,
   "metadata": {},
   "outputs": [
    {
     "name": "stdout",
     "output_type": "stream",
     "text": [
      "1094/1094 [==============================] - 1s 1ms/step - loss: 0.3459\n",
      "1094/1094 [==============================] - 1s 1ms/step - loss: 0.2839\n",
      "1094/1094 [==============================] - 1s 1ms/step - loss: 0.2591\n",
      "1094/1094 [==============================] - 1s 1ms/step - loss: 0.2568\n",
      "1094/1094 [==============================] - 1s 1ms/step - loss: 0.2514\n",
      "1094/1094 [==============================] - 1s 1ms/step - loss: 0.2482\n",
      "1094/1094 [==============================] - 1s 1ms/step - loss: 0.2450\n",
      "1094/1094 [==============================] - 1s 1ms/step - loss: 0.2417\n",
      "1094/1094 [==============================] - 2s 2ms/step - loss: 0.2398\n",
      "(560000, 729) (140000, 729)\n"
     ]
    }
   ],
   "source": [
    "n = X_train.shape[1]\n",
    "dim = X_train.shape[1]\n",
    "final_dim = min(32*32,n*n)\n",
    "# convert 2-D to 3-D.\n",
    "while dim<final_dim:\n",
    "  features = int(dim/2)\n",
    "  #f = feature-60\n",
    "  model = Sequential()\n",
    "  if (dim+features)>final_dim:\n",
    "    features = final_dim - dim\n",
    "    model.add(Dense(features,name='feature', activation='relu',input_shape=(dim,)))\n",
    "  else:\n",
    "    model.add(Dense(features,name='feature', activation='relu',input_shape=(dim,)))\n",
    "  model.add(Dense(classes,activation='softmax'))\n",
    "  model.compile(loss='categorical_crossentropy',optimizer='adam')\n",
    "  model.fit(X_train,Y_train,epochs=1,batch_size=512,verbose=1)\n",
    "  extract = Model(model.inputs, model.get_layer('feature').output)\n",
    "  features1 = extract.predict(X_train)\n",
    "  features2 = extract.predict(X_test)\n",
    "  X_train = np.concatenate((X_train, features1), axis=1) # concatenate on horizontal axis\n",
    "  X_test = np.concatenate((X_test, features2), axis=1)\n",
    "  dim = X_train.shape[1]\n",
    "print(X_train.shape,X_test.shape)\n",
    "s = MinMaxScaler()\n",
    "X_train = s.fit_transform(X_train)\n",
    "X_test = s.transform(X_test)"
   ]
  },
  {
   "cell_type": "code",
   "execution_count": 7,
   "metadata": {},
   "outputs": [
    {
     "name": "stdout",
     "output_type": "stream",
     "text": [
      "(560000, 32, 32, 3) (140000, 32, 32, 3)\n"
     ]
    }
   ],
   "source": [
    "from PIL import Image\n",
    "x_train = []\n",
    "x_test = []\n",
    "for i in range(len(X_train)):\n",
    "    img = Image.fromarray(X_train[i])\n",
    "    imgs = img.resize(size=(32, 32))\n",
    "    imgs = np.array(imgs)\n",
    "    x_train.append(np.repeat(imgs[:, :, np.newaxis], 3, axis=2))\n",
    "x_train = np.array(x_train,dtype='float32')\n",
    "for i in range(len(X_test)):\n",
    "    img = Image.fromarray(X_test[i])\n",
    "    imgs = img.resize(size=(32, 32))\n",
    "    imgs = np.array(imgs)\n",
    "    x_test.append(np.repeat(imgs[:, :, np.newaxis], 3, axis=2))\n",
    "x_test = np.array(x_test,dtype='float32')\n",
    "print(x_train.shape,x_test.shape)"
   ]
  },
  {
   "cell_type": "code",
   "execution_count": 8,
   "metadata": {},
   "outputs": [
    {
     "name": "stdout",
     "output_type": "stream",
     "text": [
      "Epoch 1/20\n",
      "2188/2188 [==============================] - 161s 74ms/step - loss: 0.2492 - accuracy: 0.9046 - val_loss: 0.2490 - val_accuracy: 0.9076\n",
      "Epoch 2/20\n",
      "2188/2188 [==============================] - 160s 73ms/step - loss: 0.2438 - accuracy: 0.9058 - val_loss: 0.2456 - val_accuracy: 0.9075\n",
      "Epoch 3/20\n",
      "2188/2188 [==============================] - 163s 74ms/step - loss: 0.2419 - accuracy: 0.9061 - val_loss: 0.3171 - val_accuracy: 0.8889\n",
      "Epoch 4/20\n",
      "2188/2188 [==============================] - 164s 75ms/step - loss: 0.2465 - accuracy: 0.9057 - val_loss: 0.2383 - val_accuracy: 0.9075\n",
      "Epoch 5/20\n",
      "2188/2188 [==============================] - 165s 76ms/step - loss: 0.2411 - accuracy: 0.9065 - val_loss: 0.2377 - val_accuracy: 0.9076\n",
      "Epoch 6/20\n",
      "2188/2188 [==============================] - 166s 76ms/step - loss: 0.2399 - accuracy: 0.9066 - val_loss: 0.2370 - val_accuracy: 0.9074\n",
      "Epoch 7/20\n",
      "2188/2188 [==============================] - 166s 76ms/step - loss: 0.2399 - accuracy: 0.9069 - val_loss: 0.2386 - val_accuracy: 0.9075\n",
      "Epoch 8/20\n",
      "2188/2188 [==============================] - 167s 76ms/step - loss: 0.2412 - accuracy: 0.9064 - val_loss: 0.2401 - val_accuracy: 0.9068\n",
      "Epoch 9/20\n",
      "2188/2188 [==============================] - 167s 76ms/step - loss: 0.2394 - accuracy: 0.9067 - val_loss: 0.2376 - val_accuracy: 0.9085\n",
      "Epoch 10/20\n",
      "2188/2188 [==============================] - 167s 76ms/step - loss: 0.2392 - accuracy: 0.9069 - val_loss: 0.2402 - val_accuracy: 0.9073\n",
      "Epoch 11/20\n",
      "2188/2188 [==============================] - 166s 76ms/step - loss: 0.2389 - accuracy: 0.9070 - val_loss: 0.2340 - val_accuracy: 0.9084\n",
      "Epoch 12/20\n",
      "2188/2188 [==============================] - 168s 77ms/step - loss: 0.2380 - accuracy: 0.9073 - val_loss: 0.2342 - val_accuracy: 0.9080\n",
      "Epoch 13/20\n",
      "2188/2188 [==============================] - 161s 74ms/step - loss: 0.2369 - accuracy: 0.9073 - val_loss: 0.2385 - val_accuracy: 0.9077\n",
      "Epoch 14/20\n",
      "2188/2188 [==============================] - 156s 71ms/step - loss: 0.2369 - accuracy: 0.9076 - val_loss: 0.2355 - val_accuracy: 0.9087\n",
      "Epoch 15/20\n",
      "2188/2188 [==============================] - 156s 71ms/step - loss: 0.2361 - accuracy: 0.9076 - val_loss: 0.2341 - val_accuracy: 0.9086\n",
      "Epoch 16/20\n",
      "2188/2188 [==============================] - 161s 74ms/step - loss: 0.2355 - accuracy: 0.9079 - val_loss: 0.2389 - val_accuracy: 0.9082\n",
      "Epoch 17/20\n",
      "2188/2188 [==============================] - 163s 75ms/step - loss: 0.2349 - accuracy: 0.9083 - val_loss: 0.2351 - val_accuracy: 0.9078\n",
      "Epoch 18/20\n",
      "2188/2188 [==============================] - 163s 74ms/step - loss: 0.2343 - accuracy: 0.9083 - val_loss: 0.2313 - val_accuracy: 0.9094\n",
      "Epoch 19/20\n",
      "2188/2188 [==============================] - 162s 74ms/step - loss: 0.2338 - accuracy: 0.9087 - val_loss: 0.2368 - val_accuracy: 0.9085\n",
      "Epoch 20/20\n",
      "2188/2188 [==============================] - 161s 74ms/step - loss: 0.2332 - accuracy: 0.9091 - val_loss: 0.2313 - val_accuracy: 0.9095\n"
     ]
    },
    {
     "data": {
      "text/plain": [
       "<tensorflow.python.keras.callbacks.History at 0x1a97a14c850>"
      ]
     },
     "execution_count": 8,
     "metadata": {},
     "output_type": "execute_result"
    }
   ],
   "source": [
    "############### Feature-extraction ###############\n",
    "# pretrained model for FE\n",
    "pretrained_model = keras.applications.DenseNet121(input_shape=(32,32,3), weights=None, include_top=False)\n",
    "x = Flatten()(pretrained_model.output)\n",
    "x = Dense(512, activation='relu')(x)\n",
    "x = Dropout(0.5)(x)\n",
    "prediction = Dense(classes, activation='softmax')(x)\n",
    "model = Model(inputs=pretrained_model.input, outputs=prediction)\n",
    "# tell the model what cost and optimization method to use\n",
    "model.compile(\n",
    "  loss='categorical_crossentropy',\n",
    "  optimizer='adam',\n",
    "  metrics=['accuracy']\n",
    ")\n",
    "# fit training data and validate on the testing data\n",
    "model.fit(x_train,Y_train,batch_size=256, epochs=20,verbose=1,validation_data=(x_test,Y_test))"
   ]
  },
  {
   "cell_type": "code",
   "execution_count": 9,
   "metadata": {},
   "outputs": [
    {
     "name": "stdout",
     "output_type": "stream",
     "text": [
      "4375/4375 [==============================] - 39s 9ms/step - loss: 0.2313 - accuracy: 0.9095\n",
      "17500/17500 [==============================] - 157s 9ms/step - loss: 0.2308 - accuracy: 0.9095\n",
      "training accuracy:  0.9095392823219299\n",
      "testing accuracy:  0.9094642996788025\n"
     ]
    }
   ],
   "source": [
    "score = model.evaluate(x_test,Y_test)\n",
    "acc = model.evaluate(x_train,Y_train)\n",
    "print('training accuracy: ',acc[1])\n",
    "print('testing accuracy: ',score[1])"
   ]
  }
 ],
 "metadata": {
  "kernelspec": {
   "display_name": "Python 3",
   "language": "python",
   "name": "python3"
  },
  "language_info": {
   "codemirror_mode": {
    "name": "ipython",
    "version": 3
   },
   "file_extension": ".py",
   "mimetype": "text/x-python",
   "name": "python",
   "nbconvert_exporter": "python",
   "pygments_lexer": "ipython3",
   "version": "3.8.5"
  }
 },
 "nbformat": 4,
 "nbformat_minor": 4
}

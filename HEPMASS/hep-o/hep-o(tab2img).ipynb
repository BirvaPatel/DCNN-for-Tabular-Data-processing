{
 "cells": [
  {
   "cell_type": "code",
   "execution_count": 1,
   "metadata": {},
   "outputs": [],
   "source": [
    "################ Letter-Recognition #################\n",
    "# Disable info messages from the tesnorflow\n",
    "import os\n",
    "os.environ['TF_CPP_MIN_LOG_LEVEL'] = '3' \n",
    "################## Import the libraries #####################\n",
    "import numpy as np\n",
    "import pandas as pd\n",
    "import keras\n",
    "from keras.models import Model, Sequential\n",
    "from keras.utils import to_categorical\n",
    "from keras.layers import Input, Dense, Dropout, Flatten, Conv2D,MaxPooling2D\n",
    "from sklearn.model_selection import train_test_split\n",
    "from sklearn.preprocessing import LabelEncoder,StandardScaler,MinMaxScaler,scale\n",
    "from sklearn.metrics import accuracy_score\n",
    "from scipy.ndimage import zoom"
   ]
  },
  {
   "cell_type": "code",
   "execution_count": 2,
   "metadata": {},
   "outputs": [],
   "source": [
    "############### Load the dataset ###################\n",
    "path_train = '1000_train.csv'\n",
    "train_data=pd.read_csv(path_train)\n",
    "samples = train_data.sample(n=700000)"
   ]
  },
  {
   "cell_type": "code",
   "execution_count": 3,
   "metadata": {},
   "outputs": [],
   "source": [
    "X =samples.iloc[:,1:]\n",
    "Y =samples.iloc[:,0]\n",
    "classes = 2\n",
    "Y = to_categorical(Y,classes)"
   ]
  },
  {
   "cell_type": "code",
   "execution_count": 4,
   "metadata": {},
   "outputs": [
    {
     "name": "stdout",
     "output_type": "stream",
     "text": [
      "(83886, 27) (83886, 2)\n",
      "(20972, 27) (20972, 2)\n"
     ]
    }
   ],
   "source": [
    "X_train, X_test, Y_train, Y_test = train_test_split(X,Y,test_size=0.2)\n",
    "print(X_train.shape,Y_train.shape)\n",
    "print(X_test.shape,Y_test.shape)"
   ]
  },
  {
   "cell_type": "code",
   "execution_count": 5,
   "metadata": {},
   "outputs": [
    {
     "name": "stdout",
     "output_type": "stream",
     "text": [
      "(83886,)\n"
     ]
    }
   ],
   "source": [
    "s = MinMaxScaler()\n",
    "X_train = s.fit_transform(X_train)\n",
    "X_test = s.transform(X_test)\n",
    "y_train = np.argmax(Y_train,axis=-1)\n",
    "y_test = np.argmax(Y_test,axis=-1)\n",
    "print(y_train.shape)"
   ]
  },
  {
   "cell_type": "code",
   "execution_count": 6,
   "metadata": {},
   "outputs": [
    {
     "name": "stdout",
     "output_type": "stream",
     "text": [
      "(83886, 6, 6) (20972, 6, 6)\n"
     ]
    }
   ],
   "source": [
    "from tab2img.converter import Tab2Img\n",
    "model = Tab2Img()\n",
    "train = model.fit_transform(X_train, y_train)\n",
    "test = model.transform(X_test)\n",
    "print(train.shape,test.shape)"
   ]
  },
  {
   "cell_type": "code",
   "execution_count": 7,
   "metadata": {},
   "outputs": [
    {
     "name": "stdout",
     "output_type": "stream",
     "text": [
      "(83886, 32, 32, 3) (20972, 32, 32, 3)\n"
     ]
    }
   ],
   "source": [
    "from PIL import Image\n",
    "x_train = []\n",
    "x_test = []\n",
    "for i in range(len(train)):\n",
    "    img = Image.fromarray(train[i])\n",
    "    imgs = img.resize(size=(32, 32))\n",
    "    imgs = np.array(imgs)\n",
    "    x_train.append(np.repeat(imgs[:, :, np.newaxis], 3, axis=2))\n",
    "x_train = np.array(x_train,dtype='float32')\n",
    "for i in range(len(test)):\n",
    "    img = Image.fromarray(test[i])\n",
    "    imgs = img.resize(size=(32, 32))\n",
    "    imgs = np.array(imgs)\n",
    "    x_test.append(np.repeat(imgs[:, :, np.newaxis], 3, axis=2))\n",
    "x_test = np.array(x_test,dtype='float32')\n",
    "print(x_train.shape,x_test.shape)"
   ]
  },
  {
   "cell_type": "code",
   "execution_count": 8,
   "metadata": {},
   "outputs": [
    {
     "name": "stdout",
     "output_type": "stream",
     "text": [
      "Epoch 1/20\n",
      "328/328 [==============================] - 30s 93ms/step - loss: 0.2533 - accuracy: 0.9028 - val_loss: 1.7674 - val_accuracy: 0.5283\n",
      "Epoch 2/20\n",
      "328/328 [==============================] - 23s 69ms/step - loss: 0.2299 - accuracy: 0.9110 - val_loss: 0.2915 - val_accuracy: 0.9032\n",
      "Epoch 3/20\n",
      "328/328 [==============================] - 23s 70ms/step - loss: 0.2282 - accuracy: 0.9123 - val_loss: 0.2265 - val_accuracy: 0.9130\n",
      "Epoch 4/20\n",
      "328/328 [==============================] - 23s 70ms/step - loss: 0.2257 - accuracy: 0.9125 - val_loss: 0.2490 - val_accuracy: 0.9074\n",
      "Epoch 5/20\n",
      "328/328 [==============================] - 23s 70ms/step - loss: 0.2223 - accuracy: 0.9135 - val_loss: 0.2214 - val_accuracy: 0.9123\n",
      "Epoch 6/20\n",
      "328/328 [==============================] - 23s 71ms/step - loss: 0.2227 - accuracy: 0.9145 - val_loss: 0.2347 - val_accuracy: 0.9052\n",
      "Epoch 7/20\n",
      "328/328 [==============================] - 23s 71ms/step - loss: 0.2399 - accuracy: 0.9087 - val_loss: 0.2334 - val_accuracy: 0.9124\n",
      "Epoch 8/20\n",
      "328/328 [==============================] - 23s 71ms/step - loss: 0.2285 - accuracy: 0.9126 - val_loss: 0.2449 - val_accuracy: 0.9069\n",
      "Epoch 9/20\n",
      "328/328 [==============================] - 23s 71ms/step - loss: 0.2266 - accuracy: 0.9131 - val_loss: 0.2282 - val_accuracy: 0.9108\n",
      "Epoch 10/20\n",
      "328/328 [==============================] - 24s 72ms/step - loss: 0.2239 - accuracy: 0.9142 - val_loss: 0.2484 - val_accuracy: 0.9070\n",
      "Epoch 11/20\n",
      "328/328 [==============================] - 24s 72ms/step - loss: 0.2252 - accuracy: 0.9132 - val_loss: 0.2290 - val_accuracy: 0.9151\n",
      "Epoch 12/20\n",
      "328/328 [==============================] - 24s 72ms/step - loss: 0.2226 - accuracy: 0.9142 - val_loss: 0.2259 - val_accuracy: 0.9091\n",
      "Epoch 13/20\n",
      "328/328 [==============================] - 24s 72ms/step - loss: 0.2211 - accuracy: 0.9154 - val_loss: 0.2193 - val_accuracy: 0.9109\n",
      "Epoch 14/20\n",
      "328/328 [==============================] - 24s 72ms/step - loss: 0.2228 - accuracy: 0.9143 - val_loss: 0.2565 - val_accuracy: 0.9107\n",
      "Epoch 15/20\n",
      "328/328 [==============================] - 24s 73ms/step - loss: 0.2202 - accuracy: 0.9144 - val_loss: 0.2167 - val_accuracy: 0.9124\n",
      "Epoch 16/20\n",
      "328/328 [==============================] - 24s 72ms/step - loss: 0.2195 - accuracy: 0.9148 - val_loss: 0.2864 - val_accuracy: 0.9100\n",
      "Epoch 17/20\n",
      "328/328 [==============================] - 24s 73ms/step - loss: 0.2186 - accuracy: 0.9162 - val_loss: 0.2574 - val_accuracy: 0.9171\n",
      "Epoch 18/20\n",
      "328/328 [==============================] - 24s 72ms/step - loss: 0.2234 - accuracy: 0.9142 - val_loss: 0.3302 - val_accuracy: 0.9145\n",
      "Epoch 19/20\n",
      "328/328 [==============================] - 24s 73ms/step - loss: 0.2265 - accuracy: 0.9133 - val_loss: 0.2332 - val_accuracy: 0.9094\n",
      "Epoch 20/20\n",
      "328/328 [==============================] - 24s 73ms/step - loss: 0.2221 - accuracy: 0.9136 - val_loss: 0.2163 - val_accuracy: 0.9168\n"
     ]
    },
    {
     "data": {
      "text/plain": [
       "<tensorflow.python.keras.callbacks.History at 0x1aee83afe50>"
      ]
     },
     "execution_count": 8,
     "metadata": {},
     "output_type": "execute_result"
    }
   ],
   "source": [
    "############### Feature-extraction ###############\n",
    "# pretrained model for FE\n",
    "pretrained_model = keras.applications.DenseNet121(input_shape=(32,32,3), weights=None, include_top=False)\n",
    "x = Flatten()(pretrained_model.output)\n",
    "x = Dense(512, activation='relu')(x)\n",
    "x = Dropout(0.5)(x)\n",
    "prediction = Dense(classes, activation='softmax')(x)\n",
    "model = Model(inputs=pretrained_model.input, outputs=prediction)\n",
    "# tell the model what cost and optimization method to use\n",
    "model.compile(\n",
    "  loss='categorical_crossentropy',\n",
    "  optimizer='adam',\n",
    "  metrics=['accuracy']\n",
    ")\n",
    "# fit training data and validate on the testing data\n",
    "model.fit(x_train,Y_train,batch_size=256, epochs=20,verbose=1,validation_data=(x_test,Y_test))"
   ]
  },
  {
   "cell_type": "code",
   "execution_count": 9,
   "metadata": {},
   "outputs": [
    {
     "name": "stdout",
     "output_type": "stream",
     "text": [
      "656/656 [==============================] - 7s 11ms/step - loss: 0.2163 - accuracy: 0.9168\n",
      "2622/2622 [==============================] - 27s 10ms/step - loss: 0.2156 - accuracy: 0.9156\n",
      "training accuracy:  0.915587842464447\n",
      "testing accuracy:  0.9168415069580078\n"
     ]
    }
   ],
   "source": [
    "score = model.evaluate(x_test,Y_test)\n",
    "acc = model.evaluate(x_train,Y_train)\n",
    "print('training accuracy: ',acc[1])\n",
    "print('testing accuracy: ',score[1])"
   ]
  },
  {
   "cell_type": "code",
   "execution_count": null,
   "metadata": {},
   "outputs": [],
   "source": []
  },
  {
   "cell_type": "code",
   "execution_count": null,
   "metadata": {},
   "outputs": [],
   "source": []
  }
 ],
 "metadata": {
  "kernelspec": {
   "display_name": "Python 3",
   "language": "python",
   "name": "python3"
  },
  "language_info": {
   "codemirror_mode": {
    "name": "ipython",
    "version": 3
   },
   "file_extension": ".py",
   "mimetype": "text/x-python",
   "name": "python",
   "nbconvert_exporter": "python",
   "pygments_lexer": "ipython3",
   "version": "3.8.5"
  }
 },
 "nbformat": 4,
 "nbformat_minor": 4
}

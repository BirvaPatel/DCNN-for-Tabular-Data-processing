{
 "cells": [
  {
   "cell_type": "code",
   "execution_count": 1,
   "metadata": {},
   "outputs": [],
   "source": [
    "################ Letter-Recognition #################\n",
    "# Disable info messages from the tesnorflow\n",
    "import os\n",
    "os.environ['TF_CPP_MIN_LOG_LEVEL'] = '3' \n",
    "################## Import the libraries #####################\n",
    "import numpy as np\n",
    "import pandas as pd\n",
    "import keras\n",
    "from keras.models import Model, Sequential\n",
    "from keras.utils import to_categorical\n",
    "from keras.layers import Input, Dense, Dropout, Flatten, Conv2D,MaxPooling2D\n",
    "from sklearn.model_selection import train_test_split\n",
    "from sklearn.preprocessing import LabelEncoder,StandardScaler,MinMaxScaler,scale\n",
    "from sklearn.metrics import accuracy_score\n",
    "from scipy.ndimage import zoom"
   ]
  },
  {
   "cell_type": "code",
   "execution_count": 2,
   "metadata": {},
   "outputs": [],
   "source": [
    "############### Load the dataset ###################\n",
    "path_train = 'all_train.csv'\n",
    "train_data=pd.read_csv(path_train)\n",
    "samples = train_data.sample(frac=0.1)"
   ]
  },
  {
   "cell_type": "code",
   "execution_count": 3,
   "metadata": {},
   "outputs": [],
   "source": [
    "X =samples.iloc[:,1:]\n",
    "Y =samples.iloc[:,0]\n",
    "classes = 2\n",
    "Y = to_categorical(Y,classes)"
   ]
  },
  {
   "cell_type": "code",
   "execution_count": 4,
   "metadata": {},
   "outputs": [
    {
     "name": "stdout",
     "output_type": "stream",
     "text": [
      "(560000, 28) (560000, 2)\n",
      "(140000, 28) (140000, 2)\n"
     ]
    }
   ],
   "source": [
    "X_train, X_test, Y_train, Y_test = train_test_split(X,Y,test_size=0.2)\n",
    "print(X_train.shape,Y_train.shape)\n",
    "print(X_test.shape,Y_test.shape)"
   ]
  },
  {
   "cell_type": "code",
   "execution_count": 5,
   "metadata": {},
   "outputs": [],
   "source": [
    "s = MinMaxScaler()\n",
    "X_train = s.fit_transform(X_train)\n",
    "X_test = s.transform(X_test)"
   ]
  },
  {
   "cell_type": "code",
   "execution_count": 7,
   "metadata": {},
   "outputs": [
    {
     "name": "stdout",
     "output_type": "stream",
     "text": [
      "1094/1094 [==============================] - 1s 1ms/step - loss: 0.3121\n",
      "1094/1094 [==============================] - 1s 1ms/step - loss: 0.3088\n",
      "1094/1094 [==============================] - 1s 1ms/step - loss: 0.3050\n",
      "1094/1094 [==============================] - 1s 1ms/step - loss: 0.3034\n",
      "1094/1094 [==============================] - 2s 1ms/step - loss: 0.3045\n",
      "1094/1094 [==============================] - 2s 2ms/step - loss: 0.3033\n",
      "(560000, 1024) (140000, 1024)\n"
     ]
    }
   ],
   "source": [
    "n = X_train.shape[1]\n",
    "dim = X_train.shape[1]\n",
    "final_dim = min(32*32,n*n)\n",
    "# convert 2-D to 3-D.\n",
    "while dim<final_dim:\n",
    "  features = int(dim/2)\n",
    "  #f = feature-60\n",
    "  model = Sequential()\n",
    "  if (dim+features)>final_dim:\n",
    "    features = final_dim - dim\n",
    "    model.add(Dense(features,name='feature', activation='relu',input_shape=(dim,)))\n",
    "  else:\n",
    "    model.add(Dense(features,name='feature', activation='relu',input_shape=(dim,)))\n",
    "  model.add(Dense(classes,activation='softmax'))\n",
    "  model.compile(loss='categorical_crossentropy',optimizer='adam')\n",
    "  model.fit(X_train,Y_train,epochs=1,batch_size=512,verbose=1)\n",
    "  extract = Model(model.inputs, model.get_layer('feature').output)\n",
    "  features1 = extract.predict(X_train)\n",
    "  features2 = extract.predict(X_test)\n",
    "  X_train = np.concatenate((X_train, features1), axis=1) # concatenate on horizontal axis\n",
    "  X_test = np.concatenate((X_test, features2), axis=1)\n",
    "  dim = X_train.shape[1]\n",
    "print(X_train.shape,X_test.shape)\n",
    "s = MinMaxScaler()\n",
    "X_train = s.fit_transform(X_train)\n",
    "X_test = s.transform(X_test)"
   ]
  },
  {
   "cell_type": "code",
   "execution_count": 9,
   "metadata": {},
   "outputs": [
    {
     "name": "stdout",
     "output_type": "stream",
     "text": [
      "(560000, 32, 32, 3) (140000, 32, 32, 3)\n"
     ]
    }
   ],
   "source": [
    "from PIL import Image\n",
    "x_train = []\n",
    "x_test = []\n",
    "for i in range(len(X_train)):\n",
    "    img = Image.fromarray(X_train[i])\n",
    "    imgs = img.resize(size=(32, 32))\n",
    "    imgs = np.array(imgs)\n",
    "    x_train.append(np.repeat(imgs[:, :, np.newaxis], 3, axis=2))\n",
    "x_train = np.array(x_train,dtype='float32')\n",
    "for i in range(len(X_test)):\n",
    "    img = Image.fromarray(X_test[i])\n",
    "    imgs = img.resize(size=(32, 32))\n",
    "    imgs = np.array(imgs)\n",
    "    x_test.append(np.repeat(imgs[:, :, np.newaxis], 3, axis=2))\n",
    "x_test = np.array(x_test,dtype='float32')\n",
    "print(x_train.shape,x_test.shape)"
   ]
  },
  {
   "cell_type": "code",
   "execution_count": 11,
   "metadata": {},
   "outputs": [
    {
     "name": "stdout",
     "output_type": "stream",
     "text": [
      "Epoch 1/20\n",
      "2188/2188 [==============================] - 161s 74ms/step - loss: 0.3098 - accuracy: 0.8555 - val_loss: 0.3152 - val_accuracy: 0.8507\n",
      "Epoch 2/20\n",
      "2188/2188 [==============================] - 158s 72ms/step - loss: 0.3054 - accuracy: 0.8570 - val_loss: 0.3078 - val_accuracy: 0.8565\n",
      "Epoch 3/20\n",
      "2188/2188 [==============================] - 163s 74ms/step - loss: 0.3093 - accuracy: 0.8561 - val_loss: 0.3184 - val_accuracy: 0.8507\n",
      "Epoch 4/20\n",
      "2188/2188 [==============================] - 164s 75ms/step - loss: 0.3063 - accuracy: 0.8566 - val_loss: 0.3089 - val_accuracy: 0.8542\n",
      "Epoch 5/20\n",
      "2188/2188 [==============================] - 166s 76ms/step - loss: 0.3046 - accuracy: 0.8572 - val_loss: 0.3068 - val_accuracy: 0.8563\n",
      "Epoch 6/20\n",
      "2188/2188 [==============================] - 166s 76ms/step - loss: 0.3037 - accuracy: 0.8575 - val_loss: 0.3062 - val_accuracy: 0.8568\n",
      "Epoch 7/20\n",
      "2188/2188 [==============================] - 166s 76ms/step - loss: 0.3033 - accuracy: 0.8578 - val_loss: 0.3057 - val_accuracy: 0.8564\n",
      "Epoch 8/20\n",
      "2188/2188 [==============================] - 168s 77ms/step - loss: 0.3055 - accuracy: 0.8570 - val_loss: 0.3089 - val_accuracy: 0.8566\n",
      "Epoch 9/20\n",
      "2188/2188 [==============================] - 166s 76ms/step - loss: 0.3041 - accuracy: 0.8577 - val_loss: 0.3113 - val_accuracy: 0.8523\n",
      "Epoch 10/20\n",
      "2188/2188 [==============================] - 170s 78ms/step - loss: 0.3030 - accuracy: 0.8576 - val_loss: 0.3048 - val_accuracy: 0.8563\n",
      "Epoch 11/20\n",
      "2188/2188 [==============================] - 168s 77ms/step - loss: 0.3037 - accuracy: 0.8574 - val_loss: 0.3062 - val_accuracy: 0.8563\n",
      "Epoch 12/20\n",
      "2188/2188 [==============================] - 165s 76ms/step - loss: 0.3029 - accuracy: 0.8579 - val_loss: 0.3048 - val_accuracy: 0.8568\n",
      "Epoch 13/20\n",
      "2188/2188 [==============================] - 166s 76ms/step - loss: 0.3026 - accuracy: 0.8579 - val_loss: 0.3056 - val_accuracy: 0.8556\n",
      "Epoch 14/20\n",
      "2188/2188 [==============================] - 166s 76ms/step - loss: 0.3025 - accuracy: 0.8581 - val_loss: 0.3065 - val_accuracy: 0.8549\n",
      "Epoch 15/20\n",
      "2188/2188 [==============================] - 166s 76ms/step - loss: 0.3024 - accuracy: 0.8578 - val_loss: 0.3202 - val_accuracy: 0.8563\n",
      "Epoch 16/20\n",
      "2188/2188 [==============================] - 167s 76ms/step - loss: 0.3026 - accuracy: 0.8578 - val_loss: 0.3059 - val_accuracy: 0.8564\n",
      "Epoch 17/20\n",
      "2188/2188 [==============================] - 167s 76ms/step - loss: 0.3024 - accuracy: 0.8581 - val_loss: 0.3072 - val_accuracy: 0.8570\n",
      "Epoch 18/20\n",
      "2188/2188 [==============================] - 166s 76ms/step - loss: 0.3021 - accuracy: 0.8578 - val_loss: 0.3045 - val_accuracy: 0.8566\n",
      "Epoch 19/20\n",
      "2188/2188 [==============================] - 164s 75ms/step - loss: 0.3035 - accuracy: 0.8578 - val_loss: 0.3051 - val_accuracy: 0.8563\n",
      "Epoch 20/20\n",
      "2188/2188 [==============================] - 164s 75ms/step - loss: 0.3023 - accuracy: 0.8581 - val_loss: 0.3054 - val_accuracy: 0.8563\n"
     ]
    },
    {
     "data": {
      "text/plain": [
       "<tensorflow.python.keras.callbacks.History at 0x2042d1f0520>"
      ]
     },
     "execution_count": 11,
     "metadata": {},
     "output_type": "execute_result"
    }
   ],
   "source": [
    "############### Feature-extraction ###############\n",
    "# pretrained model for FE\n",
    "pretrained_model = keras.applications.DenseNet121(input_shape=(32,32,3), weights=None, include_top=False)\n",
    "x = Flatten()(pretrained_model.output)\n",
    "x = Dense(512, activation='relu')(x)\n",
    "x = Dropout(0.5)(x)\n",
    "prediction = Dense(classes, activation='softmax')(x)\n",
    "model = Model(inputs=pretrained_model.input, outputs=prediction)\n",
    "# tell the model what cost and optimization method to use\n",
    "model.compile(\n",
    "  loss='categorical_crossentropy',\n",
    "  optimizer='adam',\n",
    "  metrics=['accuracy']\n",
    ")\n",
    "# fit training data and validate on the testing data\n",
    "model.fit(x_train,Y_train,batch_size=256, epochs=20,verbose=1,validation_data=(x_test,Y_test))"
   ]
  },
  {
   "cell_type": "code",
   "execution_count": 12,
   "metadata": {},
   "outputs": [
    {
     "name": "stdout",
     "output_type": "stream",
     "text": [
      "4375/4375 [==============================] - 39s 9ms/step - loss: 0.3054 - accuracy: 0.8563\n",
      "17500/17500 [==============================] - 160s 9ms/step - loss: 0.3005 - accuracy: 0.8578\n",
      "training accuracy:  0.8577731847763062\n",
      "testing accuracy:  0.8563214540481567\n"
     ]
    }
   ],
   "source": [
    "score = model.evaluate(x_test,Y_test)\n",
    "acc = model.evaluate(x_train,Y_train)\n",
    "print('training accuracy: ',acc[1])\n",
    "print('testing accuracy: ',score[1])"
   ]
  },
  {
   "cell_type": "code",
   "execution_count": null,
   "metadata": {},
   "outputs": [],
   "source": []
  },
  {
   "cell_type": "code",
   "execution_count": null,
   "metadata": {},
   "outputs": [],
   "source": []
  },
  {
   "cell_type": "code",
   "execution_count": null,
   "metadata": {},
   "outputs": [],
   "source": []
  }
 ],
 "metadata": {
  "kernelspec": {
   "display_name": "Python 3",
   "language": "python",
   "name": "python3"
  },
  "language_info": {
   "codemirror_mode": {
    "name": "ipython",
    "version": 3
   },
   "file_extension": ".py",
   "mimetype": "text/x-python",
   "name": "python",
   "nbconvert_exporter": "python",
   "pygments_lexer": "ipython3",
   "version": "3.8.5"
  }
 },
 "nbformat": 4,
 "nbformat_minor": 4
}

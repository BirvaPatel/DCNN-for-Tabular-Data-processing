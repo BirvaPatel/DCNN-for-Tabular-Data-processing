{
 "cells": [
  {
   "cell_type": "code",
   "execution_count": 1,
   "metadata": {},
   "outputs": [],
   "source": [
    "################ Letter-Recognition #################\n",
    "# Disable info messages from the tesnorflow\n",
    "import os\n",
    "os.environ['TF_CPP_MIN_LOG_LEVEL'] = '3' \n",
    "################## Import the libraries #####################\n",
    "import numpy as np\n",
    "import pandas as pd\n",
    "import keras\n",
    "from keras.models import Model, Sequential\n",
    "from keras.utils import to_categorical\n",
    "from keras.layers import Input, Dense, Dropout, Flatten, Conv2D,MaxPooling2D\n",
    "from sklearn.model_selection import train_test_split\n",
    "from sklearn.preprocessing import LabelEncoder,StandardScaler,MinMaxScaler,scale\n",
    "from sklearn.metrics import accuracy_score\n",
    "from scipy.ndimage import zoom"
   ]
  },
  {
   "cell_type": "code",
   "execution_count": 3,
   "metadata": {},
   "outputs": [],
   "source": [
    "############### Load the dataset ###################\n",
    "path_train = 'not1000_train.csv'\n",
    "train_data=pd.read_csv(path_train)\n",
    "samples = train_data.sample(n=700000)"
   ]
  },
  {
   "cell_type": "code",
   "execution_count": 4,
   "metadata": {},
   "outputs": [],
   "source": [
    "X =samples.iloc[:,1:]\n",
    "Y =samples.iloc[:,0]\n",
    "classes = 2\n",
    "Y = to_categorical(Y,classes)"
   ]
  },
  {
   "cell_type": "code",
   "execution_count": 5,
   "metadata": {},
   "outputs": [
    {
     "name": "stdout",
     "output_type": "stream",
     "text": [
      "(560000, 28) (560000, 2)\n",
      "(140000, 28) (140000, 2)\n"
     ]
    }
   ],
   "source": [
    "X_train, X_test, Y_train, Y_test = train_test_split(X,Y,test_size=0.2)\n",
    "print(X_train.shape,Y_train.shape)\n",
    "print(X_test.shape,Y_test.shape)"
   ]
  },
  {
   "cell_type": "code",
   "execution_count": 6,
   "metadata": {},
   "outputs": [
    {
     "name": "stdout",
     "output_type": "stream",
     "text": [
      "(560000,)\n"
     ]
    }
   ],
   "source": [
    "s = MinMaxScaler()\n",
    "X_train = s.fit_transform(X_train)\n",
    "X_test = s.transform(X_test)\n",
    "y_train = np.argmax(Y_train,axis=-1)\n",
    "y_test = np.argmax(Y_test,axis=-1)\n",
    "print(y_train.shape)"
   ]
  },
  {
   "cell_type": "code",
   "execution_count": 7,
   "metadata": {},
   "outputs": [
    {
     "name": "stdout",
     "output_type": "stream",
     "text": [
      "(560000, 6, 6) (140000, 6, 6)\n"
     ]
    }
   ],
   "source": [
    "from tab2img.converter import Tab2Img\n",
    "model = Tab2Img()\n",
    "train = model.fit_transform(X_train, y_train)\n",
    "test = model.transform(X_test)\n",
    "print(train.shape,test.shape)"
   ]
  },
  {
   "cell_type": "code",
   "execution_count": 8,
   "metadata": {},
   "outputs": [
    {
     "name": "stdout",
     "output_type": "stream",
     "text": [
      "(560000, 32, 32, 3) (140000, 32, 32, 3)\n"
     ]
    }
   ],
   "source": [
    "from PIL import Image\n",
    "x_train = []\n",
    "x_test = []\n",
    "for i in range(len(train)):\n",
    "    img = Image.fromarray(train[i])\n",
    "    imgs = img.resize(size=(32, 32))\n",
    "    imgs = np.array(imgs)\n",
    "    x_train.append(np.repeat(imgs[:, :, np.newaxis], 3, axis=2))\n",
    "x_train = np.array(x_train,dtype='float32')\n",
    "for i in range(len(test)):\n",
    "    img = Image.fromarray(test[i])\n",
    "    imgs = img.resize(size=(32, 32))\n",
    "    imgs = np.array(imgs)\n",
    "    x_test.append(np.repeat(imgs[:, :, np.newaxis], 3, axis=2))\n",
    "x_test = np.array(x_test,dtype='float32')\n",
    "print(x_train.shape,x_test.shape)"
   ]
  },
  {
   "cell_type": "code",
   "execution_count": 10,
   "metadata": {},
   "outputs": [
    {
     "name": "stdout",
     "output_type": "stream",
     "text": [
      "Epoch 1/20\n",
      "2188/2188 [==============================] - 160s 73ms/step - loss: 0.3311 - accuracy: 0.8405 - val_loss: 0.3457 - val_accuracy: 0.8245\n",
      "Epoch 2/20\n",
      "2188/2188 [==============================] - 155s 71ms/step - loss: 0.3195 - accuracy: 0.8482 - val_loss: 0.3120 - val_accuracy: 0.8528\n",
      "Epoch 3/20\n",
      "2188/2188 [==============================] - 156s 71ms/step - loss: 0.3131 - accuracy: 0.8512 - val_loss: 0.3116 - val_accuracy: 0.8512\n",
      "Epoch 4/20\n",
      "2188/2188 [==============================] - 156s 71ms/step - loss: 0.3147 - accuracy: 0.8511 - val_loss: 0.3107 - val_accuracy: 0.8526\n",
      "Epoch 5/20\n",
      "2188/2188 [==============================] - 155s 71ms/step - loss: 0.3082 - accuracy: 0.8548 - val_loss: 0.3057 - val_accuracy: 0.8559\n",
      "Epoch 6/20\n",
      "2188/2188 [==============================] - 155s 71ms/step - loss: 0.3025 - accuracy: 0.8581 - val_loss: 0.3085 - val_accuracy: 0.8569\n",
      "Epoch 7/20\n",
      "2188/2188 [==============================] - 156s 71ms/step - loss: 0.3017 - accuracy: 0.8587 - val_loss: 0.3014 - val_accuracy: 0.8608\n",
      "Epoch 8/20\n",
      "2188/2188 [==============================] - 156s 71ms/step - loss: 0.2946 - accuracy: 0.8632 - val_loss: 0.2966 - val_accuracy: 0.8629\n",
      "Epoch 9/20\n",
      "2188/2188 [==============================] - 156s 71ms/step - loss: 0.2917 - accuracy: 0.8649 - val_loss: 0.2953 - val_accuracy: 0.8628\n",
      "Epoch 10/20\n",
      "2188/2188 [==============================] - 159s 73ms/step - loss: 0.2884 - accuracy: 0.8664 - val_loss: 0.2949 - val_accuracy: 0.8644\n",
      "Epoch 11/20\n",
      "2188/2188 [==============================] - 157s 72ms/step - loss: 0.2865 - accuracy: 0.8675 - val_loss: 0.2894 - val_accuracy: 0.8658\n",
      "Epoch 12/20\n",
      "2188/2188 [==============================] - 157s 72ms/step - loss: 0.2838 - accuracy: 0.8692 - val_loss: 0.2913 - val_accuracy: 0.8659\n",
      "Epoch 13/20\n",
      "2188/2188 [==============================] - 156s 71ms/step - loss: 0.2839 - accuracy: 0.8697 - val_loss: 0.2921 - val_accuracy: 0.8644\n",
      "Epoch 14/20\n",
      "2188/2188 [==============================] - 155s 71ms/step - loss: 0.2780 - accuracy: 0.8723 - val_loss: 0.2962 - val_accuracy: 0.8649\n",
      "Epoch 15/20\n",
      "2188/2188 [==============================] - 155s 71ms/step - loss: 0.2798 - accuracy: 0.8717 - val_loss: 0.3621 - val_accuracy: 0.8326\n",
      "Epoch 16/20\n",
      "2188/2188 [==============================] - 155s 71ms/step - loss: 0.2838 - accuracy: 0.8696 - val_loss: 0.2914 - val_accuracy: 0.8657\n",
      "Epoch 17/20\n",
      "2188/2188 [==============================] - 155s 71ms/step - loss: 0.2714 - accuracy: 0.8764 - val_loss: 0.2936 - val_accuracy: 0.8655\n",
      "Epoch 18/20\n",
      "2188/2188 [==============================] - 156s 72ms/step - loss: 0.2684 - accuracy: 0.8776 - val_loss: 0.2958 - val_accuracy: 0.8637\n",
      "Epoch 19/20\n",
      "2188/2188 [==============================] - 156s 71ms/step - loss: 0.2639 - accuracy: 0.8795 - val_loss: 0.2966 - val_accuracy: 0.8646\n",
      "Epoch 20/20\n",
      "2188/2188 [==============================] - 158s 72ms/step - loss: 0.2586 - accuracy: 0.8819 - val_loss: 0.2993 - val_accuracy: 0.8632\n"
     ]
    },
    {
     "data": {
      "text/plain": [
       "<tensorflow.python.keras.callbacks.History at 0x17046385970>"
      ]
     },
     "execution_count": 10,
     "metadata": {},
     "output_type": "execute_result"
    }
   ],
   "source": [
    "############### Feature-extraction ###############\n",
    "# pretrained model for FE\n",
    "pretrained_model = keras.applications.DenseNet121(input_shape=(32,32,3), weights=None, include_top=False)\n",
    "x = Flatten()(pretrained_model.output)\n",
    "x = Dense(512, activation='relu')(x)\n",
    "x = Dropout(0.5)(x)\n",
    "prediction = Dense(classes, activation='softmax')(x)\n",
    "model = Model(inputs=pretrained_model.input, outputs=prediction)\n",
    "# tell the model what cost and optimization method to use\n",
    "model.compile(\n",
    "  loss='categorical_crossentropy',\n",
    "  optimizer='adam',\n",
    "  metrics=['accuracy']\n",
    ")\n",
    "# fit training data and validate on the testing data\n",
    "model.fit(x_train,Y_train,batch_size=256, epochs=20,verbose=1,validation_data=(x_test,Y_test))"
   ]
  },
  {
   "cell_type": "code",
   "execution_count": 11,
   "metadata": {},
   "outputs": [
    {
     "name": "stdout",
     "output_type": "stream",
     "text": [
      "4375/4375 [==============================] - 39s 9ms/step - loss: 0.2993 - accuracy: 0.8632\n",
      "17500/17500 [==============================] - 158s 9ms/step - loss: 0.2509 - accuracy: 0.8848\n",
      "training accuracy:  0.8847946524620056\n",
      "testing accuracy:  0.8632143139839172\n"
     ]
    }
   ],
   "source": [
    "score = model.evaluate(x_test,Y_test)\n",
    "acc = model.evaluate(x_train,Y_train)\n",
    "print('training accuracy: ',acc[1])\n",
    "print('testing accuracy: ',score[1])"
   ]
  },
  {
   "cell_type": "code",
   "execution_count": null,
   "metadata": {},
   "outputs": [],
   "source": []
  },
  {
   "cell_type": "code",
   "execution_count": null,
   "metadata": {},
   "outputs": [],
   "source": []
  }
 ],
 "metadata": {
  "kernelspec": {
   "display_name": "Python 3",
   "language": "python",
   "name": "python3"
  },
  "language_info": {
   "codemirror_mode": {
    "name": "ipython",
    "version": 3
   },
   "file_extension": ".py",
   "mimetype": "text/x-python",
   "name": "python",
   "nbconvert_exporter": "python",
   "pygments_lexer": "ipython3",
   "version": "3.8.5"
  }
 },
 "nbformat": 4,
 "nbformat_minor": 4
}

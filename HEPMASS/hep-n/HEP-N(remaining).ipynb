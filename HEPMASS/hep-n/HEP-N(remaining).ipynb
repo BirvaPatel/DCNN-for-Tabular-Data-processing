{
 "cells": [
  {
   "cell_type": "code",
   "execution_count": 1,
   "metadata": {},
   "outputs": [],
   "source": [
    "################ Letter-Recognition #################\n",
    "# Disable info messages from the tesnorflow\n",
    "import os\n",
    "os.environ['TF_CPP_MIN_LOG_LEVEL'] = '3' \n",
    "################## Import the libraries #####################\n",
    "import numpy as np\n",
    "import pandas as pd\n",
    "import keras\n",
    "from keras.models import Model, Sequential\n",
    "from keras.utils import to_categorical\n",
    "from keras.layers import Input, Dense, Dropout, Flatten, Conv2D,MaxPooling2D\n",
    "from sklearn.model_selection import train_test_split\n",
    "from sklearn.preprocessing import LabelEncoder,StandardScaler,MinMaxScaler,scale\n",
    "from sklearn.metrics import accuracy_score"
   ]
  },
  {
   "cell_type": "code",
   "execution_count": 2,
   "metadata": {},
   "outputs": [],
   "source": [
    "############### Load the dataset ###################\n",
    "path_train = 'not1000_train.csv'\n",
    "train_data=pd.read_csv(path_train)\n",
    "samples = train_data.sample(n=700000)"
   ]
  },
  {
   "cell_type": "code",
   "execution_count": 3,
   "metadata": {},
   "outputs": [],
   "source": [
    "X =samples.iloc[:,1:]\n",
    "Y =samples.iloc[:,0]\n",
    "classes = 2\n",
    "Y = to_categorical(Y,classes)"
   ]
  },
  {
   "cell_type": "code",
   "execution_count": 4,
   "metadata": {},
   "outputs": [
    {
     "name": "stdout",
     "output_type": "stream",
     "text": [
      "(560000, 28) (560000, 2)\n",
      "(140000, 28) (140000, 2)\n"
     ]
    }
   ],
   "source": [
    "X_train, X_test, Y_train, Y_test = train_test_split(X,Y,test_size=0.2)\n",
    "print(X_train.shape,Y_train.shape)\n",
    "print(X_test.shape,Y_test.shape)"
   ]
  },
  {
   "cell_type": "code",
   "execution_count": 5,
   "metadata": {},
   "outputs": [],
   "source": [
    "s = MinMaxScaler()\n",
    "X_train = s.fit_transform(X_train)\n",
    "X_test = s.transform(X_test)"
   ]
  },
  {
   "cell_type": "code",
   "execution_count": 6,
   "metadata": {},
   "outputs": [
    {
     "name": "stdout",
     "output_type": "stream",
     "text": [
      "Epoch 1/5\n",
      "1094/1094 [==============================] - 1s 1ms/step - loss: 0.4622 - accuracy: 0.7776\n",
      "Epoch 2/5\n",
      "1094/1094 [==============================] - 1s 1ms/step - loss: 0.3751 - accuracy: 0.8165\n",
      "Epoch 3/5\n",
      "1094/1094 [==============================] - 1s 1ms/step - loss: 0.3571 - accuracy: 0.8222\n",
      "Epoch 4/5\n",
      "1094/1094 [==============================] - 1s 1ms/step - loss: 0.3427 - accuracy: 0.8319\n",
      "Epoch 5/5\n",
      "1094/1094 [==============================] - 1s 1ms/step - loss: 0.3362 - accuracy: 0.8352\n",
      "(560000, 36) (140000, 36)\n",
      "(560000, 6, 6) (140000, 6, 6)\n"
     ]
    }
   ],
   "source": [
    "dim = X_train.shape[1]\n",
    "x = int(dim**(1/2)) +1\n",
    "f = x*x\n",
    "model = Sequential()\n",
    "model.add(Dense(f-dim,name='feature', activation='relu',input_shape=(dim,)))\n",
    "model.add(Dense(classes,activation='softmax'))\n",
    "model.compile(loss='categorical_crossentropy',optimizer='adam', metrics=['accuracy'])\n",
    "# here, inputs and labels are same\n",
    "model.fit(X_train,Y_train,epochs=5,batch_size=512,verbose=1)\n",
    "extract = Model(model.inputs, model.get_layer('feature').output)\n",
    "# predict whole inputs through it\n",
    "x1 = extract.predict(X_train)\n",
    "x2 = extract.predict(X_test)\n",
    "# concatenate on horizontal axis\n",
    "X1 = np.concatenate((X_train, x1), axis=1) \n",
    "X2 = np.concatenate((X_test, x2), axis=1) \n",
    "print(X1.shape,X2.shape)\n",
    "train = X1.reshape(X1.shape[0],x,x)\n",
    "test = X2.reshape(X2.shape[0],x,x)\n",
    "print(train.shape,test.shape)"
   ]
  },
  {
   "cell_type": "code",
   "execution_count": 7,
   "metadata": {},
   "outputs": [],
   "source": [
    "del X_train,X_test,X1,X2,x1,x2"
   ]
  },
  {
   "cell_type": "code",
   "execution_count": 8,
   "metadata": {},
   "outputs": [
    {
     "name": "stdout",
     "output_type": "stream",
     "text": [
      "(560000, 32, 32, 3) (140000, 32, 32, 3)\n"
     ]
    }
   ],
   "source": [
    "from PIL import Image\n",
    "x_train = []\n",
    "x_test = []\n",
    "for i in range(len(train)):\n",
    "    img = Image.fromarray(train[i])\n",
    "    imgs = img.resize(size=(32, 32))\n",
    "    imgs = np.array(imgs)\n",
    "    x_train.append(np.repeat(imgs[:, :, np.newaxis], 3, axis=2))\n",
    "x_train = np.array(x_train,dtype='float32')\n",
    "for i in range(len(test)):\n",
    "    img = Image.fromarray(test[i])\n",
    "    imgs = img.resize(size=(32, 32))\n",
    "    imgs = np.array(imgs)\n",
    "    x_test.append(np.repeat(imgs[:, :, np.newaxis], 3, axis=2))\n",
    "x_test = np.array(x_test,dtype='float32')\n",
    "print(x_train.shape,x_test.shape)"
   ]
  },
  {
   "cell_type": "code",
   "execution_count": 9,
   "metadata": {},
   "outputs": [
    {
     "name": "stdout",
     "output_type": "stream",
     "text": [
      "Epoch 1/20\n",
      "2188/2188 [==============================] - 160s 73ms/step - loss: 0.3333 - accuracy: 0.8381 - val_loss: 0.3272 - val_accuracy: 0.8447\n",
      "Epoch 2/20\n",
      "2188/2188 [==============================] - 156s 71ms/step - loss: 0.3242 - accuracy: 0.8440 - val_loss: 0.8553 - val_accuracy: 0.7693\n",
      "Epoch 3/20\n",
      "2188/2188 [==============================] - 158s 72ms/step - loss: 0.3194 - accuracy: 0.8470 - val_loss: 0.4211 - val_accuracy: 0.8439\n",
      "Epoch 4/20\n",
      "2188/2188 [==============================] - 160s 73ms/step - loss: 0.3105 - accuracy: 0.8531 - val_loss: 0.3089 - val_accuracy: 0.8529\n",
      "Epoch 5/20\n",
      "2188/2188 [==============================] - 161s 74ms/step - loss: 0.3048 - accuracy: 0.8569 - val_loss: 0.3084 - val_accuracy: 0.8541\n",
      "Epoch 6/20\n",
      "2188/2188 [==============================] - 162s 74ms/step - loss: 0.3045 - accuracy: 0.8576 - val_loss: 0.3323 - val_accuracy: 0.8404\n",
      "Epoch 7/20\n",
      "2188/2188 [==============================] - 162s 74ms/step - loss: 0.2984 - accuracy: 0.8605 - val_loss: 0.3087 - val_accuracy: 0.8515\n",
      "Epoch 8/20\n",
      "2188/2188 [==============================] - 162s 74ms/step - loss: 0.2939 - accuracy: 0.8632 - val_loss: 0.2970 - val_accuracy: 0.8605\n",
      "Epoch 9/20\n",
      "2188/2188 [==============================] - 162s 74ms/step - loss: 0.2903 - accuracy: 0.8653 - val_loss: 0.2987 - val_accuracy: 0.8606\n",
      "Epoch 10/20\n",
      "2188/2188 [==============================] - 162s 74ms/step - loss: 0.2878 - accuracy: 0.8670 - val_loss: 0.3084 - val_accuracy: 0.8572\n",
      "Epoch 11/20\n",
      "2188/2188 [==============================] - 164s 75ms/step - loss: 0.2846 - accuracy: 0.8686 - val_loss: 0.2963 - val_accuracy: 0.8624\n",
      "Epoch 12/20\n",
      "2188/2188 [==============================] - 163s 75ms/step - loss: 0.2814 - accuracy: 0.8703 - val_loss: 0.2953 - val_accuracy: 0.8633\n",
      "Epoch 13/20\n",
      "2188/2188 [==============================] - 163s 75ms/step - loss: 0.2776 - accuracy: 0.8724 - val_loss: 0.2952 - val_accuracy: 0.8633\n",
      "Epoch 14/20\n",
      "2188/2188 [==============================] - 164s 75ms/step - loss: 0.2740 - accuracy: 0.8742 - val_loss: 0.2970 - val_accuracy: 0.8634\n",
      "Epoch 15/20\n",
      "2188/2188 [==============================] - 163s 75ms/step - loss: 0.2697 - accuracy: 0.8766 - val_loss: 0.2952 - val_accuracy: 0.8630\n",
      "Epoch 16/20\n",
      "2188/2188 [==============================] - 162s 74ms/step - loss: 0.2679 - accuracy: 0.8778 - val_loss: 0.2991 - val_accuracy: 0.8625\n",
      "Epoch 17/20\n",
      "2188/2188 [==============================] - 161s 74ms/step - loss: 0.2593 - accuracy: 0.8819 - val_loss: 0.3015 - val_accuracy: 0.8620\n",
      "Epoch 18/20\n",
      "2188/2188 [==============================] - 161s 74ms/step - loss: 0.2541 - accuracy: 0.8846 - val_loss: 0.3107 - val_accuracy: 0.8606\n",
      "Epoch 19/20\n",
      "2188/2188 [==============================] - 161s 74ms/step - loss: 0.2478 - accuracy: 0.8872 - val_loss: 0.3088 - val_accuracy: 0.8586\n",
      "Epoch 20/20\n",
      "2188/2188 [==============================] - 161s 74ms/step - loss: 0.2396 - accuracy: 0.8910 - val_loss: 0.3198 - val_accuracy: 0.8586\n"
     ]
    },
    {
     "data": {
      "text/plain": [
       "<tensorflow.python.keras.callbacks.History at 0x213a1244e50>"
      ]
     },
     "execution_count": 9,
     "metadata": {},
     "output_type": "execute_result"
    }
   ],
   "source": [
    "############### Feature-extraction ###############\n",
    "# pretrained model for FE\n",
    "pretrained_model = keras.applications.DenseNet121(input_shape=(32,32,3), weights=None, include_top=False)\n",
    "x = Flatten()(pretrained_model.output)\n",
    "x = Dense(512, activation='relu')(x)\n",
    "x = Dropout(0.5)(x)\n",
    "prediction = Dense(classes, activation='softmax')(x)\n",
    "model = Model(inputs=pretrained_model.input, outputs=prediction)\n",
    "# tell the model what cost and optimization method to use\n",
    "model.compile(\n",
    "  loss='categorical_crossentropy',\n",
    "  optimizer='adam',\n",
    "  metrics=['accuracy']\n",
    ")\n",
    "# fit training data and validate on the testing data\n",
    "model.fit(x_train,Y_train,batch_size=256, epochs=20,verbose=1,validation_data=(x_test,Y_test))"
   ]
  },
  {
   "cell_type": "code",
   "execution_count": 10,
   "metadata": {},
   "outputs": [
    {
     "name": "stdout",
     "output_type": "stream",
     "text": [
      "4375/4375 [==============================] - 41s 9ms/step - loss: 0.3198 - accuracy: 0.8586\n",
      "17500/17500 [==============================] - 164s 9ms/step - loss: 0.2229 - accuracy: 0.8994\n",
      "training accuracy:  0.8994160890579224\n",
      "testing accuracy:  0.8585857152938843\n"
     ]
    }
   ],
   "source": [
    "score = model.evaluate(x_test,Y_test)\n",
    "acc = model.evaluate(x_train,Y_train)\n",
    "print('training accuracy: ',acc[1])\n",
    "print('testing accuracy: ',score[1])"
   ]
  },
  {
   "cell_type": "code",
   "execution_count": null,
   "metadata": {},
   "outputs": [],
   "source": []
  },
  {
   "cell_type": "code",
   "execution_count": null,
   "metadata": {},
   "outputs": [],
   "source": []
  }
 ],
 "metadata": {
  "kernelspec": {
   "display_name": "Python 3",
   "language": "python",
   "name": "python3"
  },
  "language_info": {
   "codemirror_mode": {
    "name": "ipython",
    "version": 3
   },
   "file_extension": ".py",
   "mimetype": "text/x-python",
   "name": "python",
   "nbconvert_exporter": "python",
   "pygments_lexer": "ipython3",
   "version": "3.8.5"
  }
 },
 "nbformat": 4,
 "nbformat_minor": 4
}

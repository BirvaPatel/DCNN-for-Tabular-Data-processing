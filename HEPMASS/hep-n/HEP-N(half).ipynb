{
 "cells": [
  {
   "cell_type": "code",
   "execution_count": 1,
   "metadata": {},
   "outputs": [],
   "source": [
    "################ Letter-Recognition #################\n",
    "# Disable info messages from the tesnorflow\n",
    "import os\n",
    "os.environ['TF_CPP_MIN_LOG_LEVEL'] = '3' \n",
    "################## Import the libraries #####################\n",
    "import numpy as np\n",
    "import pandas as pd\n",
    "import keras\n",
    "from keras.models import Model, Sequential\n",
    "from keras.utils import to_categorical\n",
    "from keras.layers import Input, Dense, Dropout, Flatten, Conv2D,MaxPooling2D\n",
    "from sklearn.model_selection import train_test_split\n",
    "from sklearn.preprocessing import LabelEncoder,StandardScaler,MinMaxScaler,scale\n",
    "from sklearn.metrics import accuracy_score"
   ]
  },
  {
   "cell_type": "code",
   "execution_count": 2,
   "metadata": {},
   "outputs": [],
   "source": [
    "############### Load the dataset ###################\n",
    "path_train = 'not1000_train.csv'\n",
    "train_data=pd.read_csv(path_train)\n",
    "samples = train_data.sample(n=700000)"
   ]
  },
  {
   "cell_type": "code",
   "execution_count": 3,
   "metadata": {},
   "outputs": [],
   "source": [
    "X =samples.iloc[:,1:]\n",
    "Y =samples.iloc[:,0]\n",
    "classes = 2\n",
    "Y = to_categorical(Y,classes)"
   ]
  },
  {
   "cell_type": "code",
   "execution_count": 4,
   "metadata": {},
   "outputs": [
    {
     "name": "stdout",
     "output_type": "stream",
     "text": [
      "(560000, 28) (560000, 2)\n",
      "(140000, 28) (140000, 2)\n"
     ]
    }
   ],
   "source": [
    "X_train, X_test, Y_train, Y_test = train_test_split(X,Y,test_size=0.2)\n",
    "print(X_train.shape,Y_train.shape)\n",
    "print(X_test.shape,Y_test.shape)"
   ]
  },
  {
   "cell_type": "code",
   "execution_count": 5,
   "metadata": {},
   "outputs": [],
   "source": [
    "s = MinMaxScaler()\n",
    "X_train = s.fit_transform(X_train)\n",
    "X_test = s.transform(X_test)"
   ]
  },
  {
   "cell_type": "code",
   "execution_count": 6,
   "metadata": {},
   "outputs": [
    {
     "name": "stdout",
     "output_type": "stream",
     "text": [
      "1094/1094 [==============================] - 1s 1ms/step - loss: 0.4531\n",
      "1094/1094 [==============================] - 1s 1ms/step - loss: 0.3920\n",
      "1094/1094 [==============================] - 1s 1ms/step - loss: 0.3766\n",
      "1094/1094 [==============================] - 1s 1ms/step - loss: 0.3595\n",
      "1094/1094 [==============================] - 1s 1ms/step - loss: 0.3546\n",
      "1094/1094 [==============================] - 1s 1ms/step - loss: 0.3493\n",
      "1094/1094 [==============================] - 1s 1ms/step - loss: 0.3441\n",
      "1094/1094 [==============================] - 2s 2ms/step - loss: 0.3398\n",
      "1094/1094 [==============================] - 2s 2ms/step - loss: 0.3359\n",
      "(560000, 784) (140000, 784)\n"
     ]
    }
   ],
   "source": [
    "n = X_train.shape[1]\n",
    "dim = X_train.shape[1]\n",
    "final_dim = min(32*32,n*n)\n",
    "# convert 2-D to 3-D.\n",
    "while dim<final_dim:\n",
    "  features = int(dim/2)\n",
    "  #f = feature-60\n",
    "  model = Sequential()\n",
    "  if (dim+features)>final_dim:\n",
    "    features = final_dim - dim\n",
    "    model.add(Dense(features,name='feature', activation='relu',input_shape=(dim,)))\n",
    "  else:\n",
    "    model.add(Dense(features,name='feature', activation='relu',input_shape=(dim,)))\n",
    "  model.add(Dense(classes,activation='softmax'))\n",
    "  model.compile(loss='categorical_crossentropy',optimizer='adam')\n",
    "  model.fit(X_train,Y_train,epochs=1,batch_size=512,verbose=1)\n",
    "  extract = Model(model.inputs, model.get_layer('feature').output)\n",
    "  features1 = extract.predict(X_train)\n",
    "  features2 = extract.predict(X_test)\n",
    "  X_train = np.concatenate((X_train, features1), axis=1) # concatenate on horizontal axis\n",
    "  X_test = np.concatenate((X_test, features2), axis=1)\n",
    "  dim = X_train.shape[1]\n",
    "print(X_train.shape,X_test.shape)\n",
    "s = MinMaxScaler()\n",
    "X_train = s.fit_transform(X_train)\n",
    "X_test = s.transform(X_test)"
   ]
  },
  {
   "cell_type": "code",
   "execution_count": 7,
   "metadata": {},
   "outputs": [
    {
     "name": "stdout",
     "output_type": "stream",
     "text": [
      "(560000, 32, 32, 3) (140000, 32, 32, 3)\n"
     ]
    }
   ],
   "source": [
    "from PIL import Image\n",
    "x_train = []\n",
    "x_test = []\n",
    "for i in range(len(X_train)):\n",
    "    img = Image.fromarray(X_train[i])\n",
    "    imgs = img.resize(size=(32, 32))\n",
    "    imgs = np.array(imgs)\n",
    "    x_train.append(np.repeat(imgs[:, :, np.newaxis], 3, axis=2))\n",
    "x_train = np.array(x_train,dtype='float32')\n",
    "for i in range(len(X_test)):\n",
    "    img = Image.fromarray(X_test[i])\n",
    "    imgs = img.resize(size=(32, 32))\n",
    "    imgs = np.array(imgs)\n",
    "    x_test.append(np.repeat(imgs[:, :, np.newaxis], 3, axis=2))\n",
    "x_test = np.array(x_test,dtype='float32')\n",
    "print(x_train.shape,x_test.shape)"
   ]
  },
  {
   "cell_type": "code",
   "execution_count": 8,
   "metadata": {},
   "outputs": [
    {
     "name": "stdout",
     "output_type": "stream",
     "text": [
      "Epoch 1/5\n",
      "2188/2188 [==============================] - 160s 73ms/step - loss: 0.3442 - accuracy: 0.8312 - val_loss: 0.3600 - val_accuracy: 0.8034\n",
      "Epoch 2/5\n",
      "2188/2188 [==============================] - 154s 70ms/step - loss: 0.3454 - accuracy: 0.8321 - val_loss: 0.3555 - val_accuracy: 0.8198\n",
      "Epoch 3/5\n",
      "2188/2188 [==============================] - 155s 71ms/step - loss: 0.3384 - accuracy: 0.8338 - val_loss: 0.3420 - val_accuracy: 0.8317\n",
      "Epoch 4/5\n",
      "2188/2188 [==============================] - 156s 72ms/step - loss: 0.3377 - accuracy: 0.8339 - val_loss: 0.3439 - val_accuracy: 0.8311\n",
      "Epoch 5/5\n",
      "2188/2188 [==============================] - 155s 71ms/step - loss: 0.3393 - accuracy: 0.8337 - val_loss: 0.3423 - val_accuracy: 0.8276\n"
     ]
    },
    {
     "data": {
      "text/plain": [
       "<tensorflow.python.keras.callbacks.History at 0x1f642d1d850>"
      ]
     },
     "execution_count": 8,
     "metadata": {},
     "output_type": "execute_result"
    }
   ],
   "source": [
    "############### Feature-extraction ###############\n",
    "# pretrained model for FE\n",
    "pretrained_model = keras.applications.DenseNet121(input_shape=(32,32,3), weights=None, include_top=False)\n",
    "x = Flatten()(pretrained_model.output)\n",
    "x = Dense(512, activation='relu')(x)\n",
    "x = Dropout(0.5)(x)\n",
    "prediction = Dense(classes, activation='softmax')(x)\n",
    "model = Model(inputs=pretrained_model.input, outputs=prediction)\n",
    "# tell the model what cost and optimization method to use\n",
    "model.compile(\n",
    "  loss='categorical_crossentropy',\n",
    "  optimizer='adam',\n",
    "  metrics=['accuracy']\n",
    ")\n",
    "# fit training data and validate on the testing data\n",
    "model.fit(x_train,Y_train,batch_size=256, epochs=5,verbose=1,validation_data=(x_test,Y_test))"
   ]
  },
  {
   "cell_type": "code",
   "execution_count": 9,
   "metadata": {},
   "outputs": [
    {
     "name": "stdout",
     "output_type": "stream",
     "text": [
      "4375/4375 [==============================] - 38s 9ms/step - loss: 0.3423 - accuracy: 0.8276\n",
      "17500/17500 [==============================] - 154s 9ms/step - loss: 0.3395 - accuracy: 0.8298\n",
      "training accuracy:  0.8298339247703552\n",
      "testing accuracy:  0.8276071548461914\n"
     ]
    }
   ],
   "source": [
    "score = model.evaluate(x_test,Y_test)\n",
    "acc = model.evaluate(x_train,Y_train)\n",
    "print('training accuracy: ',acc[1])\n",
    "print('testing accuracy: ',score[1])"
   ]
  },
  {
   "cell_type": "code",
   "execution_count": null,
   "metadata": {},
   "outputs": [],
   "source": []
  }
 ],
 "metadata": {
  "kernelspec": {
   "display_name": "Python 3",
   "language": "python",
   "name": "python3"
  },
  "language_info": {
   "codemirror_mode": {
    "name": "ipython",
    "version": 3
   },
   "file_extension": ".py",
   "mimetype": "text/x-python",
   "name": "python",
   "nbconvert_exporter": "python",
   "pygments_lexer": "ipython3",
   "version": "3.8.5"
  }
 },
 "nbformat": 4,
 "nbformat_minor": 4
}

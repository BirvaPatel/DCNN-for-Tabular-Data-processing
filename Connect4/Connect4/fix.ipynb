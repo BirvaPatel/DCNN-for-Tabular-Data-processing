{
 "cells": [
  {
   "cell_type": "code",
   "execution_count": 7,
   "metadata": {},
   "outputs": [],
   "source": [
    "############### EEG dataset #################\n",
    "\n",
    "# Disable info messages from the tensorflow\n",
    "import os\n",
    "os.environ['TF_CPP_MIN_LOG_LEVEL'] = '3' \n",
    "################## Import the libraries #####################\n",
    "import numpy as np\n",
    "import pandas as pd\n",
    "import keras\n",
    "from keras.models import Model, Sequential\n",
    "from keras.utils import to_categorical\n",
    "from keras.layers import Input, Dense, Dropout, Flatten, Conv2D,MaxPooling2D\n",
    "from sklearn.model_selection import train_test_split\n",
    "from sklearn.preprocessing import LabelEncoder,StandardScaler,MinMaxScaler,scale\n",
    "from sklearn.metrics import accuracy_score\n",
    "from scipy.ndimage import zoom\n",
    "import pickle"
   ]
  },
  {
   "cell_type": "code",
   "execution_count": 20,
   "metadata": {},
   "outputs": [
    {
     "name": "stdout",
     "output_type": "stream",
     "text": [
      "(67557, 42) (67557,)\n"
     ]
    }
   ],
   "source": [
    "############### Load the dataset ###################\n",
    "path = 'connect-4.csv'\n",
    "classes = 3\n",
    "dataset = np.genfromtxt(\"connect-4.csv\", dtype='str', delimiter=\",\")\n",
    "X = dataset[:,0:42]\n",
    "Y = dataset[:,42]\n",
    "#Y = LabelEncoder().fit_transform(Y)\n",
    "#Y = to_categorical(Y,classes)\n",
    "print(X.shape,Y.shape)"
   ]
  },
  {
   "cell_type": "code",
   "execution_count": 30,
   "metadata": {},
   "outputs": [
    {
     "name": "stdout",
     "output_type": "stream",
     "text": [
      "(67557, 42) (67557, 3)\n"
     ]
    }
   ],
   "source": [
    "x = np.zeros(X.shape)\n",
    "\n",
    "for i, row in enumerate(X):\n",
    "    for j, col in enumerate(row):\n",
    "        if col == 'x':\n",
    "            x[i,j] = 1.0\n",
    "        if col == 'o':\n",
    "            x[i,j] = -1.0\n",
    "        if col == 'b':\n",
    "            x[i,j] = 0.0\n",
    "\n",
    "Y = LabelEncoder().fit_transform(Y)\n",
    "y = to_categorical(Y)\n",
    "x = MinMaxScaler().fit_transform(x)\n",
    "print(x.shape,y.shape)"
   ]
  },
  {
   "cell_type": "code",
   "execution_count": 31,
   "metadata": {},
   "outputs": [
    {
     "name": "stdout",
     "output_type": "stream",
     "text": [
      "(50000, 42) (50000, 3)\n",
      "(17557, 42) (17557, 3)\n"
     ]
    }
   ],
   "source": [
    "X_train,X_test, Y_train,Y_test = train_test_split(x,y,test_size=0.259884)\n",
    "print(X_train.shape,Y_train.shape)\n",
    "print(X_test.shape,Y_test.shape)"
   ]
  },
  {
   "cell_type": "code",
   "execution_count": 32,
   "metadata": {},
   "outputs": [
    {
     "name": "stdout",
     "output_type": "stream",
     "text": [
      "(50000, 1764) (17557, 1764)\n"
     ]
    }
   ],
   "source": [
    "x_train,x_test = X_train,X_test\n",
    "n = X_train.shape[1]\n",
    "# convert 2-D to 3-D.\n",
    "for i in range(1,n):\n",
    "  model = Sequential()\n",
    "  model.add(Dense(n,name='feature', activation='relu',input_shape=(n,)))\n",
    "  model.add(Dense(classes,activation='softmax'))\n",
    "  model.compile(loss='categorical_crossentropy',optimizer='adam')\n",
    "  model.fit(X_train,Y_train,epochs=1,batch_size=128,verbose=0)\n",
    "  extract = Model(model.inputs, model.get_layer('feature').output)\n",
    "  features1 = extract.predict(X_train)\n",
    "  features2 = extract.predict(X_test)\n",
    "  x_train = np.concatenate((x_train, features1), axis=1) # concatenate on horizontal axis\n",
    "  x_test = np.concatenate((x_test, features2), axis=1)\n",
    "print(x_train.shape,x_test.shape)\n"
   ]
  },
  {
   "cell_type": "code",
   "execution_count": 33,
   "metadata": {},
   "outputs": [
    {
     "name": "stdout",
     "output_type": "stream",
     "text": [
      "(50000, 32, 32, 3) (17557, 32, 32, 3)\n"
     ]
    }
   ],
   "source": [
    "from PIL import Image\n",
    "xtrain = []\n",
    "xtest = []\n",
    "for i in range(len(x_train)):\n",
    "    img = Image.fromarray(x_train[i])\n",
    "    imgs = img.resize(size=(32, 32))\n",
    "    imgs = np.array(imgs)\n",
    "    xtrain.append(np.repeat(imgs[:, :, np.newaxis], 3, axis=2))\n",
    "xtrain = np.array(xtrain,dtype='float32')\n",
    "for i in range(len(x_test)):\n",
    "    img = Image.fromarray(x_test[i])\n",
    "    imgs = img.resize(size=(32, 32))\n",
    "    imgs = np.array(imgs)\n",
    "    xtest.append(np.repeat(imgs[:, :, np.newaxis], 3, axis=2))\n",
    "xtest = np.array(xtest,dtype='float32')\n",
    "print(xtrain.shape,xtest.shape)"
   ]
  },
  {
   "cell_type": "code",
   "execution_count": 34,
   "metadata": {},
   "outputs": [
    {
     "name": "stdout",
     "output_type": "stream",
     "text": [
      "Epoch 1/20\n",
      "391/391 [==============================] - 21s 55ms/step - loss: 0.6606 - accuracy: 0.7343 - val_loss: 1.7298 - val_accuracy: 0.2463\n",
      "Epoch 2/20\n",
      "391/391 [==============================] - 19s 48ms/step - loss: 0.6738 - accuracy: 0.7336 - val_loss: 0.7489 - val_accuracy: 0.7353\n",
      "Epoch 3/20\n",
      "391/391 [==============================] - 19s 48ms/step - loss: 0.6387 - accuracy: 0.7444 - val_loss: 0.7742 - val_accuracy: 0.7149\n",
      "Epoch 4/20\n",
      "391/391 [==============================] - 19s 48ms/step - loss: 0.6177 - accuracy: 0.7499 - val_loss: 1.7980 - val_accuracy: 0.4416\n",
      "Epoch 5/20\n",
      "391/391 [==============================] - 19s 49ms/step - loss: 0.6061 - accuracy: 0.7526 - val_loss: 0.6527 - val_accuracy: 0.7352\n",
      "Epoch 6/20\n",
      "391/391 [==============================] - 19s 49ms/step - loss: 0.6059 - accuracy: 0.7548 - val_loss: 9.8960 - val_accuracy: 0.6922\n",
      "Epoch 7/20\n",
      "391/391 [==============================] - 19s 49ms/step - loss: 0.6190 - accuracy: 0.7528 - val_loss: 1.0838 - val_accuracy: 0.6889\n",
      "Epoch 8/20\n",
      "391/391 [==============================] - 19s 49ms/step - loss: 0.5913 - accuracy: 0.7624 - val_loss: 0.7768 - val_accuracy: 0.7326\n",
      "Epoch 9/20\n",
      "391/391 [==============================] - 19s 50ms/step - loss: 0.5735 - accuracy: 0.7665 - val_loss: 0.8072 - val_accuracy: 0.7347\n",
      "Epoch 10/20\n",
      "391/391 [==============================] - 19s 50ms/step - loss: 0.5585 - accuracy: 0.7758 - val_loss: 0.9023 - val_accuracy: 0.7162\n",
      "Epoch 11/20\n",
      "391/391 [==============================] - 20s 50ms/step - loss: 0.5552 - accuracy: 0.7763 - val_loss: 0.9210 - val_accuracy: 0.6515\n",
      "Epoch 12/20\n",
      "391/391 [==============================] - 19s 49ms/step - loss: 0.5320 - accuracy: 0.7848 - val_loss: 0.7940 - val_accuracy: 0.7056\n",
      "Epoch 13/20\n",
      "391/391 [==============================] - 19s 49ms/step - loss: 0.5183 - accuracy: 0.7908 - val_loss: 0.8071 - val_accuracy: 0.6984\n",
      "Epoch 14/20\n",
      "391/391 [==============================] - 19s 48ms/step - loss: 0.5433 - accuracy: 0.7831 - val_loss: 631.3839 - val_accuracy: 0.6558\n",
      "Epoch 15/20\n",
      "391/391 [==============================] - 19s 48ms/step - loss: 0.5193 - accuracy: 0.7930 - val_loss: 0.6799 - val_accuracy: 0.7228\n",
      "Epoch 16/20\n",
      "391/391 [==============================] - 19s 48ms/step - loss: 0.4912 - accuracy: 0.8025 - val_loss: 1.2433 - val_accuracy: 0.6845\n",
      "Epoch 17/20\n",
      "391/391 [==============================] - 19s 49ms/step - loss: 0.4685 - accuracy: 0.8120 - val_loss: 0.9831 - val_accuracy: 0.6963\n",
      "Epoch 18/20\n",
      "391/391 [==============================] - 19s 48ms/step - loss: 0.5122 - accuracy: 0.8008 - val_loss: 1866.9431 - val_accuracy: 0.6558\n",
      "Epoch 19/20\n",
      "391/391 [==============================] - 19s 48ms/step - loss: 0.5710 - accuracy: 0.7752 - val_loss: 1.3568 - val_accuracy: 0.6559\n",
      "Epoch 20/20\n",
      "391/391 [==============================] - 19s 48ms/step - loss: 0.4859 - accuracy: 0.8059 - val_loss: 0.6592 - val_accuracy: 0.7380\n"
     ]
    },
    {
     "data": {
      "text/plain": [
       "<tensorflow.python.keras.callbacks.History at 0x1e18c8115b0>"
      ]
     },
     "execution_count": 34,
     "metadata": {},
     "output_type": "execute_result"
    }
   ],
   "source": [
    "############### Feature-extraction ###############\n",
    "# pretrained model for FE\n",
    "pretrained_model = keras.applications.DenseNet121(input_shape=(32,32,3), weights=None, include_top=False)\n",
    "x = Flatten()(pretrained_model.output)\n",
    "x = Dense(512, activation='relu')(x)\n",
    "x = Dropout(0.5)(x)\n",
    "prediction = Dense(3, activation='softmax')(x)\n",
    "model = Model(inputs=pretrained_model.input, outputs=prediction)\n",
    "# tell the model what cost and optimization method to use\n",
    "model.compile(\n",
    "  loss='categorical_crossentropy',\n",
    "  optimizer='adam',\n",
    "  metrics=['accuracy']\n",
    ")\n",
    "# fit training data and validate on the testing data\n",
    "model.fit(xtrain,Y_train,batch_size=128, epochs=20,verbose=1,validation_data=(xtest,Y_test))"
   ]
  },
  {
   "cell_type": "code",
   "execution_count": 36,
   "metadata": {},
   "outputs": [
    {
     "name": "stdout",
     "output_type": "stream",
     "text": [
      "549/549 [==============================] - 5s 9ms/step - loss: 0.6592 - accuracy: 0.7380\n",
      "1563/1563 [==============================] - 15s 10ms/step - loss: 0.6116 - accuracy: 0.7480\n",
      "training accuracy:  0.747979998588562\n",
      "testing accuracy:  0.7379962205886841\n"
     ]
    }
   ],
   "source": [
    "score = model.evaluate(xtest,Y_test)\n",
    "acc = model.evaluate(xtrain,Y_train)\n",
    "print('training accuracy: ',acc[1])\n",
    "print('testing accuracy: ',score[1])"
   ]
  },
  {
   "cell_type": "code",
   "execution_count": null,
   "metadata": {},
   "outputs": [],
   "source": []
  }
 ],
 "metadata": {
  "kernelspec": {
   "display_name": "Python 3",
   "language": "python",
   "name": "python3"
  },
  "language_info": {
   "codemirror_mode": {
    "name": "ipython",
    "version": 3
   },
   "file_extension": ".py",
   "mimetype": "text/x-python",
   "name": "python",
   "nbconvert_exporter": "python",
   "pygments_lexer": "ipython3",
   "version": "3.8.3"
  }
 },
 "nbformat": 4,
 "nbformat_minor": 4
}

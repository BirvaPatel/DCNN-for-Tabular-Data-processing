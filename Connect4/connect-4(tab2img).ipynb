{
 "cells": [
  {
   "cell_type": "code",
   "execution_count": 1,
   "metadata": {},
   "outputs": [],
   "source": [
    "################ Letter-Recognition #################\n",
    "# Disable info messages from the tesnorflow\n",
    "import os\n",
    "os.environ['TF_CPP_MIN_LOG_LEVEL'] = '3' \n",
    "################## Import the libraries #####################\n",
    "import numpy as np\n",
    "import pandas as pd\n",
    "import keras\n",
    "from keras.models import Model, Sequential\n",
    "from keras.utils import to_categorical\n",
    "from keras.layers import Input, Dense, Dropout, Flatten, Conv2D,MaxPooling2D\n",
    "from sklearn.model_selection import train_test_split\n",
    "from sklearn.preprocessing import LabelEncoder,StandardScaler,MinMaxScaler,scale\n",
    "from sklearn.metrics import accuracy_score\n",
    "from scipy.ndimage import zoom"
   ]
  },
  {
   "cell_type": "code",
   "execution_count": 2,
   "metadata": {},
   "outputs": [
    {
     "name": "stdout",
     "output_type": "stream",
     "text": [
      "(67557, 42) (67557,)\n"
     ]
    }
   ],
   "source": [
    "############### Load the dataset ###################\n",
    "path = 'connect-4.csv'\n",
    "classes = 3\n",
    "dataset = np.genfromtxt(\"connect-4.csv\", dtype='str', delimiter=\",\")\n",
    "X = dataset[:,0:42]\n",
    "Y = dataset[:,42]\n",
    "#Y = LabelEncoder().fit_transform(Y)\n",
    "#Y = to_categorical(Y,classes)\n",
    "print(X.shape,Y.shape)"
   ]
  },
  {
   "cell_type": "code",
   "execution_count": 3,
   "metadata": {},
   "outputs": [
    {
     "name": "stdout",
     "output_type": "stream",
     "text": [
      "(67557, 42) (67557, 3)\n"
     ]
    }
   ],
   "source": [
    "x = np.zeros(X.shape)\n",
    "\n",
    "for i, row in enumerate(X):\n",
    "    for j, col in enumerate(row):\n",
    "        if col == 'x':\n",
    "            x[i,j] = 1.0\n",
    "        if col == 'o':\n",
    "            x[i,j] = -1.0\n",
    "        if col == 'b':\n",
    "            x[i,j] = 0.0\n",
    "\n",
    "Y = LabelEncoder().fit_transform(Y)\n",
    "y = to_categorical(Y)\n",
    "x = MinMaxScaler().fit_transform(x)\n",
    "print(x.shape,y.shape)"
   ]
  },
  {
   "cell_type": "code",
   "execution_count": 4,
   "metadata": {},
   "outputs": [
    {
     "name": "stdout",
     "output_type": "stream",
     "text": [
      "(67557, 7, 7)\n"
     ]
    }
   ],
   "source": [
    "from tab2img.converter import Tab2Img\n",
    "model = Tab2Img()\n",
    "images = model.fit_transform(x, Y)\n",
    "print(images.shape)"
   ]
  },
  {
   "cell_type": "code",
   "execution_count": 5,
   "metadata": {},
   "outputs": [
    {
     "name": "stdout",
     "output_type": "stream",
     "text": [
      "(67557, 32, 32, 3) (67557, 3)\n"
     ]
    }
   ],
   "source": [
    "from PIL import Image\n",
    "x = []\n",
    "for i in range(len(images)):\n",
    "    img = Image.fromarray(images[i])\n",
    "    imgs = img.resize(size=(32, 32))\n",
    "    imgs = np.array(imgs)\n",
    "    x.append(np.repeat(imgs[:, :, np.newaxis], 3, axis=2))\n",
    "x = np.array(x,dtype='float32')\n",
    "print(x.shape,y.shape)"
   ]
  },
  {
   "cell_type": "code",
   "execution_count": 6,
   "metadata": {},
   "outputs": [
    {
     "name": "stdout",
     "output_type": "stream",
     "text": [
      "(50000, 32, 32, 3) (50000, 3)\n",
      "(17557, 32, 32, 3) (17557, 3)\n"
     ]
    }
   ],
   "source": [
    "X_train,X_test, Y_train,Y_test = train_test_split(x,y,test_size=0.259884)\n",
    "print(X_train.shape,Y_train.shape)\n",
    "print(X_test.shape,Y_test.shape)"
   ]
  },
  {
   "cell_type": "code",
   "execution_count": 7,
   "metadata": {},
   "outputs": [
    {
     "name": "stdout",
     "output_type": "stream",
     "text": [
      "Epoch 1/20\n",
      "391/391 [==============================] - 24s 61ms/step - loss: 0.6125 - accuracy: 0.7595 - val_loss: 0.7698 - val_accuracy: 0.7060\n",
      "Epoch 2/20\n",
      "391/391 [==============================] - 18s 46ms/step - loss: 0.4967 - accuracy: 0.8036 - val_loss: 0.4617 - val_accuracy: 0.8161\n",
      "Epoch 3/20\n",
      "391/391 [==============================] - 18s 47ms/step - loss: 0.4525 - accuracy: 0.8214 - val_loss: 0.4890 - val_accuracy: 0.8133\n",
      "Epoch 4/20\n",
      "391/391 [==============================] - 18s 47ms/step - loss: 0.4277 - accuracy: 0.8299 - val_loss: 0.5538 - val_accuracy: 0.8005\n",
      "Epoch 5/20\n",
      "391/391 [==============================] - 18s 47ms/step - loss: 0.4045 - accuracy: 0.8383 - val_loss: 0.4374 - val_accuracy: 0.8277\n",
      "Epoch 6/20\n",
      "391/391 [==============================] - 18s 47ms/step - loss: 0.3852 - accuracy: 0.8449 - val_loss: 0.7906 - val_accuracy: 0.8010\n",
      "Epoch 7/20\n",
      "391/391 [==============================] - 18s 47ms/step - loss: 0.3723 - accuracy: 0.8527 - val_loss: 0.4747 - val_accuracy: 0.8228\n",
      "Epoch 8/20\n",
      "391/391 [==============================] - 18s 47ms/step - loss: 0.3561 - accuracy: 0.8570 - val_loss: 0.4211 - val_accuracy: 0.8378\n",
      "Epoch 9/20\n",
      "391/391 [==============================] - 18s 47ms/step - loss: 0.3378 - accuracy: 0.8628 - val_loss: 0.4700 - val_accuracy: 0.8303\n",
      "Epoch 10/20\n",
      "391/391 [==============================] - 19s 48ms/step - loss: 0.3237 - accuracy: 0.8688 - val_loss: 0.5561 - val_accuracy: 0.8183\n",
      "Epoch 11/20\n",
      "391/391 [==============================] - 19s 48ms/step - loss: 0.3110 - accuracy: 0.8746 - val_loss: 0.4452 - val_accuracy: 0.8343\n",
      "Epoch 12/20\n",
      "391/391 [==============================] - 19s 48ms/step - loss: 0.3195 - accuracy: 0.8732 - val_loss: 0.4343 - val_accuracy: 0.8459\n",
      "Epoch 13/20\n",
      "391/391 [==============================] - 19s 48ms/step - loss: 0.2871 - accuracy: 0.8838 - val_loss: 0.4272 - val_accuracy: 0.8414\n",
      "Epoch 14/20\n",
      "391/391 [==============================] - 19s 48ms/step - loss: 0.2675 - accuracy: 0.8914 - val_loss: 0.4292 - val_accuracy: 0.8495\n",
      "Epoch 15/20\n",
      "391/391 [==============================] - 19s 48ms/step - loss: 0.2604 - accuracy: 0.8943 - val_loss: 0.5791 - val_accuracy: 0.8385\n",
      "Epoch 16/20\n",
      "391/391 [==============================] - 19s 48ms/step - loss: 0.2647 - accuracy: 0.8937 - val_loss: 0.4161 - val_accuracy: 0.8434\n",
      "Epoch 17/20\n",
      "391/391 [==============================] - 19s 48ms/step - loss: 0.2280 - accuracy: 0.9091 - val_loss: 0.4139 - val_accuracy: 0.8485\n",
      "Epoch 18/20\n",
      "391/391 [==============================] - 19s 48ms/step - loss: 0.2111 - accuracy: 0.9154 - val_loss: 0.4090 - val_accuracy: 0.8536\n",
      "Epoch 19/20\n",
      "391/391 [==============================] - 19s 48ms/step - loss: 0.1968 - accuracy: 0.9213 - val_loss: 0.4275 - val_accuracy: 0.8560\n",
      "Epoch 20/20\n",
      "391/391 [==============================] - 19s 48ms/step - loss: 0.1841 - accuracy: 0.9260 - val_loss: 0.5263 - val_accuracy: 0.8454\n"
     ]
    },
    {
     "data": {
      "text/plain": [
       "<tensorflow.python.keras.callbacks.History at 0x23f38c32700>"
      ]
     },
     "execution_count": 7,
     "metadata": {},
     "output_type": "execute_result"
    }
   ],
   "source": [
    "############### Feature-extraction ###############\n",
    "# pretrained model for FE\n",
    "pretrained_model = keras.applications.DenseNet121(input_shape=(32,32,3), weights=None, include_top=False)\n",
    "# don't train existing weights\n",
    "#for layer in pretrained_model.layers:\n",
    "# layer.trainable = False\n",
    "x = Flatten()(pretrained_model.output)\n",
    "x = Dense(512, activation='relu',name='flattenn')(x)\n",
    "x = Dropout(0.5)(x)\n",
    "prediction = Dense(classes, activation='softmax')(x)\n",
    "model = Model(inputs=pretrained_model.input, outputs=prediction)\n",
    "# tell the model what cost and optimization method to use\n",
    "model.compile(\n",
    "  loss='categorical_crossentropy',\n",
    "  optimizer='adam',\n",
    "  metrics=['accuracy']\n",
    ")\n",
    "# fit training data and validate on the testing data\n",
    "model.fit(X_train,Y_train,batch_size=128, epochs=20,verbose=1,validation_data=(X_test,Y_test))"
   ]
  },
  {
   "cell_type": "code",
   "execution_count": 9,
   "metadata": {},
   "outputs": [
    {
     "name": "stdout",
     "output_type": "stream",
     "text": [
      "549/549 [==============================] - 5s 9ms/step - loss: 0.5263 - accuracy: 0.8454\n",
      "1563/1563 [==============================] - 15s 10ms/step - loss: 0.2007 - accuracy: 0.9194\n",
      "training accuracy:  0.919439971446991\n",
      "testing accuracy:  0.8454177975654602\n"
     ]
    }
   ],
   "source": [
    "score = model.evaluate(X_test,Y_test)\n",
    "acc = model.evaluate(X_train,Y_train)\n",
    "print('training accuracy: ',acc[1])\n",
    "print('testing accuracy: ',score[1])"
   ]
  },
  {
   "cell_type": "code",
   "execution_count": null,
   "metadata": {},
   "outputs": [],
   "source": []
  }
 ],
 "metadata": {
  "kernelspec": {
   "display_name": "Python 3",
   "language": "python",
   "name": "python3"
  },
  "language_info": {
   "codemirror_mode": {
    "name": "ipython",
    "version": 3
   },
   "file_extension": ".py",
   "mimetype": "text/x-python",
   "name": "python",
   "nbconvert_exporter": "python",
   "pygments_lexer": "ipython3",
   "version": "3.8.5"
  }
 },
 "nbformat": 4,
 "nbformat_minor": 4
}

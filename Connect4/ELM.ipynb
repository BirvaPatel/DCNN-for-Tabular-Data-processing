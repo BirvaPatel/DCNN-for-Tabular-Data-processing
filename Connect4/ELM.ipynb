{
 "cells": [
  {
   "cell_type": "code",
   "execution_count": 6,
   "metadata": {},
   "outputs": [],
   "source": [
    "# Disable info messages from the tensorflow\n",
    "import os\n",
    "os.environ['TF_CPP_MIN_LOG_LEVEL'] = '3' \n",
    "################## Import the libraries #####################\n",
    "import numpy as np\n",
    "import pandas as pd\n",
    "import keras\n",
    "from keras.models import Model, Sequential\n",
    "from keras.utils import to_categorical\n",
    "from keras.layers import Input, Dense, Dropout, Flatten, Conv2D,MaxPooling2D\n",
    "from sklearn.model_selection import train_test_split\n",
    "from sklearn.preprocessing import LabelEncoder,StandardScaler,MinMaxScaler,scale\n",
    "from sklearn.metrics import accuracy_score\n",
    "from scipy.ndimage import zoom\n",
    "import pickle"
   ]
  },
  {
   "cell_type": "code",
   "execution_count": 7,
   "metadata": {},
   "outputs": [
    {
     "name": "stdout",
     "output_type": "stream",
     "text": [
      "(67557, 42) (67557,)\n"
     ]
    }
   ],
   "source": [
    "############### Load the dataset ###################\n",
    "path = 'connect-4.csv'\n",
    "classes = 3\n",
    "dataset = np.genfromtxt(\"connect-4.csv\", dtype='str', delimiter=\",\")\n",
    "X = dataset[:,0:42]\n",
    "Y = dataset[:,42]\n",
    "#Y = LabelEncoder().fit_transform(Y)\n",
    "#Y = to_categorical(Y,classes)\n",
    "print(X.shape,Y.shape)"
   ]
  },
  {
   "cell_type": "code",
   "execution_count": 8,
   "metadata": {},
   "outputs": [
    {
     "name": "stdout",
     "output_type": "stream",
     "text": [
      "(67557, 42) (67557,)\n"
     ]
    }
   ],
   "source": [
    "x = np.zeros(X.shape)\n",
    "\n",
    "for i, row in enumerate(X):\n",
    "    for j, col in enumerate(row):\n",
    "        if col == 'x':\n",
    "            x[i,j] = 1.0\n",
    "        if col == 'o':\n",
    "            x[i,j] = -1.0\n",
    "        if col == 'b':\n",
    "            x[i,j] = 0.0\n",
    "\n",
    "Y = LabelEncoder().fit_transform(Y)\n",
    "#y = to_categorical(Y)\n",
    "x = MinMaxScaler().fit_transform(x)\n",
    "print(x.shape,Y.shape)"
   ]
  },
  {
   "cell_type": "code",
   "execution_count": 9,
   "metadata": {},
   "outputs": [
    {
     "name": "stdout",
     "output_type": "stream",
     "text": [
      "(50000, 42) (50000,)\n",
      "(17557, 42) (17557,)\n"
     ]
    }
   ],
   "source": [
    "X_train,X_test, Y_train,Y_test = train_test_split(x,Y,test_size=0.259884)\n",
    "print(X_train.shape,Y_train.shape)\n",
    "print(X_test.shape,Y_test.shape)"
   ]
  },
  {
   "cell_type": "code",
   "execution_count": 12,
   "metadata": {},
   "outputs": [
    {
     "name": "stdout",
     "output_type": "stream",
     "text": [
      "ELM score: 80.66867915930968\n"
     ]
    }
   ],
   "source": [
    "######## ELM classifier ##########\n",
    "from sklearn_extensions.extreme_learning_machines.elm import GenELMClassifier\n",
    "from sklearn_extensions.extreme_learning_machines.random_layer import RBFRandomLayer, MLPRandomLayer\n",
    "model = GenELMClassifier(hidden_layer=MLPRandomLayer(n_hidden=2000, activation_func='tanh')) \n",
    "model.fit(X_train,Y_train)\n",
    "score = model.score(X_test,Y_test)\n",
    "print(\"ELM score:\",score*100)"
   ]
  },
  {
   "cell_type": "code",
   "execution_count": null,
   "metadata": {},
   "outputs": [],
   "source": []
  }
 ],
 "metadata": {
  "kernelspec": {
   "display_name": "Python 3",
   "language": "python",
   "name": "python3"
  },
  "language_info": {
   "codemirror_mode": {
    "name": "ipython",
    "version": 3
   },
   "file_extension": ".py",
   "mimetype": "text/x-python",
   "name": "python",
   "nbconvert_exporter": "python",
   "pygments_lexer": "ipython3",
   "version": "3.8.3"
  }
 },
 "nbformat": 4,
 "nbformat_minor": 4
}

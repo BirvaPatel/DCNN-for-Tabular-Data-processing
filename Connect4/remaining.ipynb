{
 "cells": [
  {
   "cell_type": "code",
   "execution_count": 1,
   "metadata": {},
   "outputs": [
    {
     "ename": "ModuleNotFoundError",
     "evalue": "No module named 'keras'",
     "output_type": "error",
     "traceback": [
      "\u001b[1;31m---------------------------------------------------------------------------\u001b[0m",
      "\u001b[1;31mModuleNotFoundError\u001b[0m                       Traceback (most recent call last)",
      "\u001b[1;32m<ipython-input-1-db0cea7555be>\u001b[0m in \u001b[0;36m<module>\u001b[1;34m\u001b[0m\n\u001b[0;32m      5\u001b[0m \u001b[1;32mimport\u001b[0m \u001b[0mnumpy\u001b[0m \u001b[1;32mas\u001b[0m \u001b[0mnp\u001b[0m\u001b[1;33m\u001b[0m\u001b[1;33m\u001b[0m\u001b[0m\n\u001b[0;32m      6\u001b[0m \u001b[1;32mimport\u001b[0m \u001b[0mpandas\u001b[0m \u001b[1;32mas\u001b[0m \u001b[0mpd\u001b[0m\u001b[1;33m\u001b[0m\u001b[1;33m\u001b[0m\u001b[0m\n\u001b[1;32m----> 7\u001b[1;33m \u001b[1;32mimport\u001b[0m \u001b[0mkeras\u001b[0m\u001b[1;33m\u001b[0m\u001b[1;33m\u001b[0m\u001b[0m\n\u001b[0m\u001b[0;32m      8\u001b[0m \u001b[1;32mfrom\u001b[0m \u001b[0mkeras\u001b[0m\u001b[1;33m.\u001b[0m\u001b[0mmodels\u001b[0m \u001b[1;32mimport\u001b[0m \u001b[0mModel\u001b[0m\u001b[1;33m,\u001b[0m \u001b[0mSequential\u001b[0m\u001b[1;33m\u001b[0m\u001b[1;33m\u001b[0m\u001b[0m\n\u001b[0;32m      9\u001b[0m \u001b[1;32mfrom\u001b[0m \u001b[0mkeras\u001b[0m\u001b[1;33m.\u001b[0m\u001b[0mutils\u001b[0m \u001b[1;32mimport\u001b[0m \u001b[0mto_categorical\u001b[0m\u001b[1;33m\u001b[0m\u001b[1;33m\u001b[0m\u001b[0m\n",
      "\u001b[1;31mModuleNotFoundError\u001b[0m: No module named 'keras'"
     ]
    }
   ],
   "source": [
    "# Disable info messages from the tensorflow\n",
    "import os\n",
    "os.environ['TF_CPP_MIN_LOG_LEVEL'] = '3' \n",
    "################## Import the libraries #####################\n",
    "import numpy as np\n",
    "import pandas as pd\n",
    "import keras\n",
    "from keras.models import Model, Sequential\n",
    "from keras.utils import to_categorical\n",
    "from keras.layers import Input, Dense, Dropout, Flatten, Conv2D,MaxPooling2D\n",
    "from sklearn.model_selection import train_test_split\n",
    "from sklearn.preprocessing import LabelEncoder,StandardScaler,MinMaxScaler,scale\n",
    "from sklearn.metrics import accuracy_score\n",
    "from scipy.ndimage import zoom\n",
    "import pickle"
   ]
  },
  {
   "cell_type": "code",
   "execution_count": 2,
   "metadata": {},
   "outputs": [
    {
     "name": "stdout",
     "output_type": "stream",
     "text": [
      "(67557, 42) (67557,)\n"
     ]
    }
   ],
   "source": [
    "############### Load the dataset ###################\n",
    "path = 'connect-4.csv'\n",
    "classes = 3\n",
    "dataset = np.genfromtxt(\"https://archive.ics.uci.edu/ml/machine-learning-databases/connect-4/connect-4.data.Z\", dtype='str', delimiter=\",\")\n",
    "X = dataset[:,0:42]\n",
    "Y = dataset[:,42]\n",
    "#Y = LabelEncoder().fit_transform(Y)\n",
    "#Y = to_categorical(Y,classes)\n",
    "print(X.shape,Y.shape)"
   ]
  },
  {
   "cell_type": "code",
   "execution_count": 3,
   "metadata": {},
   "outputs": [
    {
     "name": "stdout",
     "output_type": "stream",
     "text": [
      "(67557, 42) (67557, 3)\n"
     ]
    }
   ],
   "source": [
    "x = np.zeros(X.shape)\n",
    "\n",
    "for i, row in enumerate(X):\n",
    "    for j, col in enumerate(row):\n",
    "        if col == 'x':\n",
    "            x[i,j] = 1.0\n",
    "        if col == 'o':\n",
    "            x[i,j] = -1.0\n",
    "        if col == 'b':\n",
    "            x[i,j] = 0.0\n",
    "\n",
    "Y = LabelEncoder().fit_transform(Y)\n",
    "y = to_categorical(Y)\n",
    "x = MinMaxScaler().fit_transform(x)\n",
    "print(x.shape,y.shape)"
   ]
  },
  {
   "cell_type": "code",
   "execution_count": 4,
   "metadata": {},
   "outputs": [
    {
     "name": "stdout",
     "output_type": "stream",
     "text": [
      "(50000, 42) (50000, 3)\n",
      "(17557, 42) (17557, 3)\n"
     ]
    }
   ],
   "source": [
    "X_train,X_test, Y_train,Y_test = train_test_split(x,y,test_size=0.259884)\n",
    "print(X_train.shape,Y_train.shape)\n",
    "print(X_test.shape,Y_test.shape)"
   ]
  },
  {
   "cell_type": "code",
   "execution_count": 5,
   "metadata": {},
   "outputs": [
    {
     "name": "stdout",
     "output_type": "stream",
     "text": [
      "(50000, 49) (17557, 49)\n",
      "(50000, 7, 7) (17557, 7, 7)\n"
     ]
    }
   ],
   "source": [
    "########## conversion in Images using Feature Extraction ##############\n",
    "dim = X_train.shape[1]\n",
    "x = int(dim**(1/2)) + 1\n",
    "f = x*x\n",
    "model = Sequential()\n",
    "model.add(Dense(f-dim,name='feature', activation='relu',input_shape=(dim,)))\n",
    "model.add(Dense(classes,activation='softmax'))\n",
    "model.compile(loss='categorical_crossentropy',optimizer='adam', metrics=['accuracy'])\n",
    "# here, inputs and labels are same\n",
    "model.fit(X_train,Y_train,epochs=100,batch_size=128,verbose=0)\n",
    "extract = Model(model.inputs, model.get_layer('feature').output)\n",
    "# predict whole inputs through it\n",
    "x1 = extract.predict(X_train)\n",
    "x2 = extract.predict(X_test)\n",
    "# concatenate on horizontal axis\n",
    "X1 = np.concatenate((X_train, x1), axis=1) \n",
    "X2 = np.concatenate((X_test, x2), axis=1) \n",
    "print(X1.shape,X2.shape)\n",
    "train = X1.reshape(X1.shape[0],x+1,x+1)\n",
    "test = X2.reshape(X2.shape[0],x+1,x+1)\n",
    "print(train.shape,test.shape)"
   ]
  },
  {
   "cell_type": "code",
   "execution_count": 7,
   "metadata": {},
   "outputs": [
    {
     "name": "stdout",
     "output_type": "stream",
     "text": [
      "(50000, 32, 32, 3) (17557, 32, 32, 3)\n"
     ]
    }
   ],
   "source": [
    "# RGB Images\n",
    "from PIL import Image\n",
    "x_train = []\n",
    "x_test = []\n",
    "for i in range(len(train)):\n",
    "    img = Image.fromarray(train[i])\n",
    "    imgs = img.resize(size=(32, 32))\n",
    "    imgs = np.array(imgs)\n",
    "    x_train.append(np.repeat(imgs[:, :, np.newaxis], 3, axis=2))\n",
    "x_train = np.array(x_train,dtype='float32')\n",
    "for i in range(len(test)):\n",
    "    img = Image.fromarray(test[i])\n",
    "    imgs = img.resize(size=(32, 32))\n",
    "    imgs = np.array(imgs)\n",
    "    x_test.append(np.repeat(imgs[:, :, np.newaxis], 3, axis=2))\n",
    "x_test = np.array(x_test,dtype='float32')\n",
    "print(x_train.shape,x_test.shape)"
   ]
  },
  {
   "cell_type": "code",
   "execution_count": 12,
   "metadata": {},
   "outputs": [
    {
     "name": "stdout",
     "output_type": "stream",
     "text": [
      "Epoch 1/20\n",
      "391/391 [==============================] - 23s 58ms/step - loss: 0.5789 - accuracy: 0.7740 - val_loss: 0.6023 - val_accuracy: 0.7531\n",
      "Epoch 2/20\n",
      "391/391 [==============================] - 19s 48ms/step - loss: 0.4960 - accuracy: 0.8033 - val_loss: 0.5428 - val_accuracy: 0.8026\n",
      "Epoch 3/20\n",
      "391/391 [==============================] - 19s 48ms/step - loss: 0.4615 - accuracy: 0.8173 - val_loss: 0.5085 - val_accuracy: 0.8060\n",
      "Epoch 4/20\n",
      "391/391 [==============================] - 19s 48ms/step - loss: 0.4728 - accuracy: 0.8119 - val_loss: 0.4710 - val_accuracy: 0.8182\n",
      "Epoch 5/20\n",
      "391/391 [==============================] - 19s 48ms/step - loss: 0.4225 - accuracy: 0.8307 - val_loss: 0.4298 - val_accuracy: 0.8306\n",
      "Epoch 6/20\n",
      "391/391 [==============================] - 19s 48ms/step - loss: 0.3975 - accuracy: 0.8399 - val_loss: 0.4209 - val_accuracy: 0.8254\n",
      "Epoch 7/20\n",
      "391/391 [==============================] - 19s 49ms/step - loss: 0.3806 - accuracy: 0.8463 - val_loss: 15.9671 - val_accuracy: 0.7656\n",
      "Epoch 8/20\n",
      "391/391 [==============================] - 19s 48ms/step - loss: 0.3671 - accuracy: 0.8521 - val_loss: 0.4405 - val_accuracy: 0.8310\n",
      "Epoch 9/20\n",
      "391/391 [==============================] - 19s 49ms/step - loss: 0.3484 - accuracy: 0.8602 - val_loss: 0.4073 - val_accuracy: 0.8409\n",
      "Epoch 10/20\n",
      "391/391 [==============================] - 19s 49ms/step - loss: 0.3349 - accuracy: 0.8653 - val_loss: 0.3953 - val_accuracy: 0.8425\n",
      "Epoch 11/20\n",
      "391/391 [==============================] - 19s 49ms/step - loss: 0.3214 - accuracy: 0.8704 - val_loss: 0.4365 - val_accuracy: 0.8456\n",
      "Epoch 12/20\n",
      "391/391 [==============================] - 19s 49ms/step - loss: 0.3520 - accuracy: 0.8572 - val_loss: 0.5409 - val_accuracy: 0.8267\n",
      "Epoch 13/20\n",
      "391/391 [==============================] - 19s 49ms/step - loss: 0.3096 - accuracy: 0.8747 - val_loss: 0.4152 - val_accuracy: 0.8434\n",
      "Epoch 14/20\n",
      "391/391 [==============================] - 20s 51ms/step - loss: 0.2862 - accuracy: 0.8845 - val_loss: 0.4146 - val_accuracy: 0.8533\n",
      "Epoch 15/20\n",
      "391/391 [==============================] - 19s 49ms/step - loss: 0.2688 - accuracy: 0.8892 - val_loss: 0.6092 - val_accuracy: 0.7729\n",
      "Epoch 16/20\n",
      "391/391 [==============================] - 19s 48ms/step - loss: 0.2552 - accuracy: 0.8968 - val_loss: 0.4399 - val_accuracy: 0.8427\n",
      "Epoch 17/20\n",
      "391/391 [==============================] - 19s 49ms/step - loss: 0.2407 - accuracy: 0.9029 - val_loss: 0.4549 - val_accuracy: 0.8489\n",
      "Epoch 18/20\n",
      "391/391 [==============================] - 20s 51ms/step - loss: 0.2257 - accuracy: 0.9084 - val_loss: 0.4448 - val_accuracy: 0.8508\n",
      "Epoch 19/20\n",
      "391/391 [==============================] - 19s 48ms/step - loss: 0.2101 - accuracy: 0.9150 - val_loss: 0.4456 - val_accuracy: 0.8580\n",
      "Epoch 20/20\n",
      "391/391 [==============================] - 19s 48ms/step - loss: 0.1955 - accuracy: 0.9218 - val_loss: 0.4357 - val_accuracy: 0.8576\n"
     ]
    },
    {
     "data": {
      "text/plain": [
       "<tensorflow.python.keras.callbacks.History at 0x17346e1b3d0>"
      ]
     },
     "execution_count": 12,
     "metadata": {},
     "output_type": "execute_result"
    }
   ],
   "source": [
    "############### Classfication ###############\n",
    "# pretrained model for FE\n",
    "pretrained_model = keras.applications.DenseNet121(input_shape=(32,32,3), weights=None, include_top=False)\n",
    "x = Flatten()(pretrained_model.output)\n",
    "x = Dense(512, activation='relu')(x)\n",
    "x = Dropout(0.5)(x)\n",
    "prediction = Dense(3, activation='softmax')(x)\n",
    "model = Model(inputs=pretrained_model.input, outputs=prediction)\n",
    "# tell the model what cost and optimization method to use\n",
    "model.compile(\n",
    "  loss='categorical_crossentropy',\n",
    "  optimizer='adam',\n",
    "  metrics=['accuracy']\n",
    ")\n",
    "# fit training data and validate on the testing data\n",
    "model.fit(x_train,Y_train,batch_size=128, epochs=20,verbose=1,validation_data=(x_test,Y_test))"
   ]
  },
  {
   "cell_type": "code",
   "execution_count": 13,
   "metadata": {},
   "outputs": [
    {
     "name": "stdout",
     "output_type": "stream",
     "text": [
      "549/549 [==============================] - 5s 9ms/step - loss: 0.4357 - accuracy: 0.8576\n",
      "1563/1563 [==============================] - 16s 10ms/step - loss: 0.1585 - accuracy: 0.9376\n",
      "training accuracy:  0.9375799894332886\n",
      "testing accuracy:  0.8576066493988037\n"
     ]
    }
   ],
   "source": [
    "score = model.evaluate(x_test,Y_test)\n",
    "acc = model.evaluate(x_train,Y_train)\n",
    "print('training accuracy: ',acc[1])\n",
    "print('testing accuracy: ',score[1])"
   ]
  },
  {
   "cell_type": "code",
   "execution_count": null,
   "metadata": {},
   "outputs": [],
   "source": []
  }
 ],
 "metadata": {
  "kernelspec": {
   "display_name": "Python 3",
   "language": "python",
   "name": "python3"
  },
  "language_info": {
   "codemirror_mode": {
    "name": "ipython",
    "version": 3
   },
   "file_extension": ".py",
   "mimetype": "text/x-python",
   "name": "python",
   "nbconvert_exporter": "python",
   "pygments_lexer": "ipython3",
   "version": "3.8.3"
  }
 },
 "nbformat": 4,
 "nbformat_minor": 4
}
